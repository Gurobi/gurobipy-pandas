{
 "cells": [
  {
   "cell_type": "markdown",
   "id": "58fdf594",
   "metadata": {
    "slideshow": {
     "slide_type": "slide"
    }
   },
   "source": [
    "# Building optimization models from pandas dataframes\n",
    "\n",
    "`gurobipy-pandas`: The missing link between `pandas` and `gurobipy`!"
   ]
  },
  {
   "cell_type": "markdown",
   "id": "e935823d",
   "metadata": {
    "slideshow": {
     "slide_type": "notes"
    }
   },
   "source": [
    "Key points:\n",
    "\n",
    "- Pandas style is to avoid writing explicit loops and instead do high level declarative operations. This library enables that style for writing optimization models.\n",
    "- This is not the only way to write Gurobi models using pandas data.\n",
    "- This library does not guarantee super-fast code. Rather, following the style enabled by this library should avoid some of the major performance bugs we've seen in user code that mixes gurobipy and pandas.\n",
    "- You should prepare your data in advance, to match your mathematical model. There are nice crossovers between pandas structures and the parts of an optimization model, which you can exploit to produce clear code without unnecessary overhead.\n",
    "\n",
    "Todo:\n",
    "\n",
    "- Try to disambiguate symbols (use more of the alphabet to avoid redefining, x, y, z, c, etc)\n",
    "- Review the order of expression building examples (should build up to the difficult result)"
   ]
  },
  {
   "cell_type": "markdown",
   "id": "03ea15d5",
   "metadata": {
    "slideshow": {
     "slide_type": "slide"
    }
   },
   "source": [
    "In this session:\n",
    "\n",
    "- Overview of `gurobipy-pandas` design\n",
    "- Basic usage mechanics\n",
    "    - Creating variables\n",
    "    - Building expressions using series of variables and data\n",
    "    - Creating constraints\n",
    "    - Retrieving solutions\n",
    "- A complete modelling example"
   ]
  },
  {
   "cell_type": "markdown",
   "id": "b7f4000a",
   "metadata": {
    "slideshow": {
     "slide_type": "slide"
    }
   },
   "source": [
    "# Design Principles\n",
    "\n",
    "- Optimization models define all data, variables, and constraints over indexes\n",
    "\n",
    "$$\n",
    "\\begin{alignat}{2}\n",
    "\\max \\quad        & \\sum_{i \\in I} \\sum_{j \\in J} p_{ij} x_{ij} \\\\\n",
    "\\mbox{s.t.} \\quad & \\sum_{i \\in J_i} w_{ij} x_{ij} \\le c_{i} & \\forall i \\in I \\\\\n",
    "                  & x_{ij} \\in \\lbrace 0, 1 \\rbrace & \\forall i \\in I, j \\in J_i \\\\\n",
    "\\end{alignat}\n",
    "$$\n",
    "\n",
    "- The mathematical indices provide a clear way to structure data in code"
   ]
  },
  {
   "cell_type": "code",
   "execution_count": 1,
   "id": "ce924faf",
   "metadata": {
    "slideshow": {
     "slide_type": "skip"
    }
   },
   "outputs": [],
   "source": [
    "# Just some random data to show.\n",
    "import pandas as pd\n",
    "import numpy as np\n",
    "product_data = pd.DataFrame(\n",
    "    index=pd.MultiIndex.from_tuples([(1, 2), (1, 1), (2, 3), (2, 1), (3, 1)]),\n",
    "    columns=[\"cost_per_unit\", \"amount_available\"],\n",
    "    data=np.random.random((5, 2)).round(2)\n",
    ")"
   ]
  },
  {
   "cell_type": "markdown",
   "id": "311de466",
   "metadata": {
    "slideshow": {
     "slide_type": "subslide"
    }
   },
   "source": [
    "# Design Principles\n",
    "\n",
    "- Pandas DataFrames and Series *also* define data over indexes"
   ]
  },
  {
   "cell_type": "code",
   "execution_count": 2,
   "id": "529a7ebd",
   "metadata": {
    "slideshow": {
     "slide_type": "-"
    }
   },
   "outputs": [
    {
     "data": {
      "text/html": [
       "<div>\n",
       "<style scoped>\n",
       "    .dataframe tbody tr th:only-of-type {\n",
       "        vertical-align: middle;\n",
       "    }\n",
       "\n",
       "    .dataframe tbody tr th {\n",
       "        vertical-align: top;\n",
       "    }\n",
       "\n",
       "    .dataframe thead th {\n",
       "        text-align: right;\n",
       "    }\n",
       "</style>\n",
       "<table border=\"1\" class=\"dataframe\">\n",
       "  <thead>\n",
       "    <tr style=\"text-align: right;\">\n",
       "      <th></th>\n",
       "      <th></th>\n",
       "      <th>cost_per_unit</th>\n",
       "      <th>amount_available</th>\n",
       "    </tr>\n",
       "  </thead>\n",
       "  <tbody>\n",
       "    <tr>\n",
       "      <th rowspan=\"2\" valign=\"top\">1</th>\n",
       "      <th>2</th>\n",
       "      <td>0.93</td>\n",
       "      <td>0.76</td>\n",
       "    </tr>\n",
       "    <tr>\n",
       "      <th>1</th>\n",
       "      <td>0.56</td>\n",
       "      <td>0.98</td>\n",
       "    </tr>\n",
       "    <tr>\n",
       "      <th rowspan=\"2\" valign=\"top\">2</th>\n",
       "      <th>3</th>\n",
       "      <td>0.12</td>\n",
       "      <td>0.83</td>\n",
       "    </tr>\n",
       "    <tr>\n",
       "      <th>1</th>\n",
       "      <td>0.71</td>\n",
       "      <td>0.76</td>\n",
       "    </tr>\n",
       "    <tr>\n",
       "      <th>3</th>\n",
       "      <th>1</th>\n",
       "      <td>0.75</td>\n",
       "      <td>0.58</td>\n",
       "    </tr>\n",
       "  </tbody>\n",
       "</table>\n",
       "</div>"
      ],
      "text/plain": [
       "     cost_per_unit  amount_available\n",
       "1 2           0.93              0.76\n",
       "  1           0.56              0.98\n",
       "2 3           0.12              0.83\n",
       "  1           0.71              0.76\n",
       "3 1           0.75              0.58"
      ]
     },
     "execution_count": 2,
     "metadata": {},
     "output_type": "execute_result"
    }
   ],
   "source": [
    "product_data"
   ]
  },
  {
   "cell_type": "markdown",
   "id": "66b936c1",
   "metadata": {
    "slideshow": {
     "slide_type": "-"
    }
   },
   "source": [
    "- We just need a way to define variables and build constraints over those indexes"
   ]
  },
  {
   "cell_type": "markdown",
   "id": "f10969d2",
   "metadata": {
    "slideshow": {
     "slide_type": "subslide"
    }
   },
   "source": [
    "# Missing Link?\n",
    "\n",
    "`gurobipy-pandas` provides:\n",
    "\n",
    "- Methods to create pandas-indexed series of variables\n",
    "- Methods to build constraints from expressions\n",
    "- Accessors to extract solutions as pandas structures\n",
    "\n",
    "`pandas` provides:\n",
    "\n",
    "- Existing algebra/split-apply-combine logic (well known transforms)"
   ]
  },
  {
   "cell_type": "markdown",
   "id": "db89dff0",
   "metadata": {
    "slideshow": {
     "slide_type": "notes"
    }
   },
   "source": [
    "- With pandas, we are already set up to define all our data over various indexes, aligned with the mathematical model.\n",
    "- What we are missing:\n",
    "    - Easy way to define/construct variables over the same indexes using pandas structures\n",
    "    - Methods to transform data and variables into constraint expressions (actually, we get this for free)\n",
    "    - Easy way to take the resulting expressions and build constraints from them"
   ]
  },
  {
   "cell_type": "markdown",
   "id": "c8c8aede",
   "metadata": {
    "slideshow": {
     "slide_type": "slide"
    }
   },
   "source": [
    "# Installation\n",
    "\n",
    "```\n",
    "pip install gurobipy-pandas\n",
    "```\n",
    "\n",
    "Then, add one more import to your usual arsenal:"
   ]
  },
  {
   "cell_type": "code",
   "execution_count": 3,
   "id": "59a2c9f8",
   "metadata": {
    "slideshow": {
     "slide_type": "-"
    }
   },
   "outputs": [],
   "source": [
    "import pandas as pd\n",
    "import gurobipy as gp\n",
    "from gurobipy import GRB\n",
    "\n",
    "import gurobipy_pandas as gppd\n",
    "\n",
    "# Handy trick for live coding\n",
    "gppd.set_interactive()\n",
    "\n",
    "# Silence please\n",
    "gp.setParam('OutputFlag', 0)"
   ]
  },
  {
   "cell_type": "markdown",
   "id": "7b94b2b7",
   "metadata": {
    "slideshow": {
     "slide_type": "slide"
    }
   },
   "source": [
    "# Usage\n",
    "\n",
    "- `gurobipy` objects are still the entry point for:\n",
    "    - creating models\n",
    "    - starting optimization\n",
    "    - constants, status codes, etc\n",
    "- `gurobip-pandas` provides accessors and functions to:\n",
    "    - create sets of variables based on indexes\n",
    "    - create constraints based on aligned series\n",
    "    - extract solutions as series"
   ]
  },
  {
   "cell_type": "markdown",
   "id": "26b4c738",
   "metadata": {
    "slideshow": {
     "slide_type": "slide"
    }
   },
   "source": [
    "# Creating Models\n",
    "\n",
    "The usual way; entry-point doesn't change"
   ]
  },
  {
   "cell_type": "code",
   "execution_count": 4,
   "id": "9d8eae30",
   "metadata": {},
   "outputs": [],
   "source": [
    "model = gp.Model()"
   ]
  },
  {
   "cell_type": "markdown",
   "id": "5b07ff1f",
   "metadata": {
    "slideshow": {
     "slide_type": "slide"
    }
   },
   "source": [
    "# Creating Variables\n",
    "\n",
    "- Using free functions"
   ]
  },
  {
   "cell_type": "markdown",
   "id": "5aced611",
   "metadata": {
    "slideshow": {
     "slide_type": "notes"
    }
   },
   "source": [
    "- Free function: returns a series of variables (not part of a dataframe)\n",
    "- Variables live in the namespace, not as columns"
   ]
  },
  {
   "cell_type": "code",
   "execution_count": 5,
   "id": "6d0358a3",
   "metadata": {
    "slideshow": {
     "slide_type": "skip"
    }
   },
   "outputs": [],
   "source": [
    "data = pd.DataFrame(\n",
    "    {\n",
    "        \"i\": [0, 0, 1, 2, 2],\n",
    "        \"j\": [1, 2, 0, 0, 1],\n",
    "        \"p\": [0.3, 1.2, 0.7, 0.9, 1.2],\n",
    "        \"w\": [1.3, 1.7, 1.4, 1.1, 0.9],\n",
    "    }\n",
    ").set_index([\"i\", \"j\"])"
   ]
  },
  {
   "cell_type": "code",
   "execution_count": 6,
   "id": "2daacc18",
   "metadata": {
    "slideshow": {
     "slide_type": "fragment"
    }
   },
   "outputs": [
    {
     "data": {
      "text/html": [
       "<div>\n",
       "<style scoped>\n",
       "    .dataframe tbody tr th:only-of-type {\n",
       "        vertical-align: middle;\n",
       "    }\n",
       "\n",
       "    .dataframe tbody tr th {\n",
       "        vertical-align: top;\n",
       "    }\n",
       "\n",
       "    .dataframe thead th {\n",
       "        text-align: right;\n",
       "    }\n",
       "</style>\n",
       "<table border=\"1\" class=\"dataframe\">\n",
       "  <thead>\n",
       "    <tr style=\"text-align: right;\">\n",
       "      <th></th>\n",
       "      <th></th>\n",
       "      <th>p</th>\n",
       "      <th>w</th>\n",
       "    </tr>\n",
       "    <tr>\n",
       "      <th>i</th>\n",
       "      <th>j</th>\n",
       "      <th></th>\n",
       "      <th></th>\n",
       "    </tr>\n",
       "  </thead>\n",
       "  <tbody>\n",
       "    <tr>\n",
       "      <th rowspan=\"2\" valign=\"top\">0</th>\n",
       "      <th>1</th>\n",
       "      <td>0.3</td>\n",
       "      <td>1.3</td>\n",
       "    </tr>\n",
       "    <tr>\n",
       "      <th>2</th>\n",
       "      <td>1.2</td>\n",
       "      <td>1.7</td>\n",
       "    </tr>\n",
       "    <tr>\n",
       "      <th>1</th>\n",
       "      <th>0</th>\n",
       "      <td>0.7</td>\n",
       "      <td>1.4</td>\n",
       "    </tr>\n",
       "    <tr>\n",
       "      <th rowspan=\"2\" valign=\"top\">2</th>\n",
       "      <th>0</th>\n",
       "      <td>0.9</td>\n",
       "      <td>1.1</td>\n",
       "    </tr>\n",
       "    <tr>\n",
       "      <th>1</th>\n",
       "      <td>1.2</td>\n",
       "      <td>0.9</td>\n",
       "    </tr>\n",
       "  </tbody>\n",
       "</table>\n",
       "</div>"
      ],
      "text/plain": [
       "       p    w\n",
       "i j          \n",
       "0 1  0.3  1.3\n",
       "  2  1.2  1.7\n",
       "1 0  0.7  1.4\n",
       "2 0  0.9  1.1\n",
       "  1  1.2  0.9"
      ]
     },
     "execution_count": 6,
     "metadata": {},
     "output_type": "execute_result"
    }
   ],
   "source": [
    "data"
   ]
  },
  {
   "cell_type": "code",
   "execution_count": 7,
   "id": "878abfa4",
   "metadata": {
    "slideshow": {
     "slide_type": "fragment"
    }
   },
   "outputs": [
    {
     "data": {
      "text/plain": [
       "i  j\n",
       "0  1    <gurobi.Var x[0,1]>\n",
       "   2    <gurobi.Var x[0,2]>\n",
       "1  0    <gurobi.Var x[1,0]>\n",
       "2  0    <gurobi.Var x[2,0]>\n",
       "   1    <gurobi.Var x[2,1]>\n",
       "Name: x, dtype: object"
      ]
     },
     "execution_count": 7,
     "metadata": {},
     "output_type": "execute_result"
    }
   ],
   "source": [
    "x = gppd.add_vars(model, data, name=\"x\", obj=\"p\")\n",
    "x"
   ]
  },
  {
   "cell_type": "markdown",
   "id": "13b35a07",
   "metadata": {
    "slideshow": {
     "slide_type": "subslide"
    }
   },
   "source": [
    "# Creating Variables\n",
    "\n",
    "- Using dataframe accessors"
   ]
  },
  {
   "cell_type": "markdown",
   "id": "7d9171b8",
   "metadata": {
    "slideshow": {
     "slide_type": "notes"
    }
   },
   "source": [
    "- Dataframe accessor: returns a new dataframe with an appended column\n",
    "- Use this approach to allow method chaining\n",
    "- Variables live as columns in a dataframe, along with other data/objects sharing that index"
   ]
  },
  {
   "cell_type": "code",
   "execution_count": 8,
   "id": "134d0cb6",
   "metadata": {
    "slideshow": {
     "slide_type": "notes"
    }
   },
   "outputs": [
    {
     "data": {
      "text/html": [
       "<div>\n",
       "<style scoped>\n",
       "    .dataframe tbody tr th:only-of-type {\n",
       "        vertical-align: middle;\n",
       "    }\n",
       "\n",
       "    .dataframe tbody tr th {\n",
       "        vertical-align: top;\n",
       "    }\n",
       "\n",
       "    .dataframe thead th {\n",
       "        text-align: right;\n",
       "    }\n",
       "</style>\n",
       "<table border=\"1\" class=\"dataframe\">\n",
       "  <thead>\n",
       "    <tr style=\"text-align: right;\">\n",
       "      <th></th>\n",
       "      <th></th>\n",
       "      <th>p</th>\n",
       "      <th>w</th>\n",
       "    </tr>\n",
       "    <tr>\n",
       "      <th>i</th>\n",
       "      <th>j</th>\n",
       "      <th></th>\n",
       "      <th></th>\n",
       "    </tr>\n",
       "  </thead>\n",
       "  <tbody>\n",
       "    <tr>\n",
       "      <th rowspan=\"2\" valign=\"top\">0</th>\n",
       "      <th>1</th>\n",
       "      <td>0.3</td>\n",
       "      <td>1.3</td>\n",
       "    </tr>\n",
       "    <tr>\n",
       "      <th>2</th>\n",
       "      <td>1.2</td>\n",
       "      <td>1.7</td>\n",
       "    </tr>\n",
       "    <tr>\n",
       "      <th>1</th>\n",
       "      <th>0</th>\n",
       "      <td>0.7</td>\n",
       "      <td>1.4</td>\n",
       "    </tr>\n",
       "    <tr>\n",
       "      <th rowspan=\"2\" valign=\"top\">2</th>\n",
       "      <th>0</th>\n",
       "      <td>0.9</td>\n",
       "      <td>1.1</td>\n",
       "    </tr>\n",
       "    <tr>\n",
       "      <th>1</th>\n",
       "      <td>1.2</td>\n",
       "      <td>0.9</td>\n",
       "    </tr>\n",
       "  </tbody>\n",
       "</table>\n",
       "</div>"
      ],
      "text/plain": [
       "       p    w\n",
       "i j          \n",
       "0 1  0.3  1.3\n",
       "  2  1.2  1.7\n",
       "1 0  0.7  1.4\n",
       "2 0  0.9  1.1\n",
       "  1  1.2  0.9"
      ]
     },
     "execution_count": 8,
     "metadata": {},
     "output_type": "execute_result"
    }
   ],
   "source": [
    "data"
   ]
  },
  {
   "cell_type": "code",
   "execution_count": 9,
   "id": "54eb2a32",
   "metadata": {
    "slideshow": {
     "slide_type": "fragment"
    }
   },
   "outputs": [
    {
     "data": {
      "text/html": [
       "<div>\n",
       "<style scoped>\n",
       "    .dataframe tbody tr th:only-of-type {\n",
       "        vertical-align: middle;\n",
       "    }\n",
       "\n",
       "    .dataframe tbody tr th {\n",
       "        vertical-align: top;\n",
       "    }\n",
       "\n",
       "    .dataframe thead th {\n",
       "        text-align: right;\n",
       "    }\n",
       "</style>\n",
       "<table border=\"1\" class=\"dataframe\">\n",
       "  <thead>\n",
       "    <tr style=\"text-align: right;\">\n",
       "      <th></th>\n",
       "      <th></th>\n",
       "      <th>p</th>\n",
       "      <th>w</th>\n",
       "      <th>y</th>\n",
       "      <th>z</th>\n",
       "    </tr>\n",
       "    <tr>\n",
       "      <th>i</th>\n",
       "      <th>j</th>\n",
       "      <th></th>\n",
       "      <th></th>\n",
       "      <th></th>\n",
       "      <th></th>\n",
       "    </tr>\n",
       "  </thead>\n",
       "  <tbody>\n",
       "    <tr>\n",
       "      <th rowspan=\"2\" valign=\"top\">0</th>\n",
       "      <th>1</th>\n",
       "      <td>0.3</td>\n",
       "      <td>1.3</td>\n",
       "      <td>&lt;gurobi.Var y[0,1]&gt;</td>\n",
       "      <td>&lt;gurobi.Var z[0,1]&gt;</td>\n",
       "    </tr>\n",
       "    <tr>\n",
       "      <th>2</th>\n",
       "      <td>1.2</td>\n",
       "      <td>1.7</td>\n",
       "      <td>&lt;gurobi.Var y[0,2]&gt;</td>\n",
       "      <td>&lt;gurobi.Var z[0,2]&gt;</td>\n",
       "    </tr>\n",
       "    <tr>\n",
       "      <th>1</th>\n",
       "      <th>0</th>\n",
       "      <td>0.7</td>\n",
       "      <td>1.4</td>\n",
       "      <td>&lt;gurobi.Var y[1,0]&gt;</td>\n",
       "      <td>&lt;gurobi.Var z[1,0]&gt;</td>\n",
       "    </tr>\n",
       "    <tr>\n",
       "      <th rowspan=\"2\" valign=\"top\">2</th>\n",
       "      <th>0</th>\n",
       "      <td>0.9</td>\n",
       "      <td>1.1</td>\n",
       "      <td>&lt;gurobi.Var y[2,0]&gt;</td>\n",
       "      <td>&lt;gurobi.Var z[2,0]&gt;</td>\n",
       "    </tr>\n",
       "    <tr>\n",
       "      <th>1</th>\n",
       "      <td>1.2</td>\n",
       "      <td>0.9</td>\n",
       "      <td>&lt;gurobi.Var y[2,1]&gt;</td>\n",
       "      <td>&lt;gurobi.Var z[2,1]&gt;</td>\n",
       "    </tr>\n",
       "  </tbody>\n",
       "</table>\n",
       "</div>"
      ],
      "text/plain": [
       "       p    w                    y                    z\n",
       "i j                                                    \n",
       "0 1  0.3  1.3  <gurobi.Var y[0,1]>  <gurobi.Var z[0,1]>\n",
       "  2  1.2  1.7  <gurobi.Var y[0,2]>  <gurobi.Var z[0,2]>\n",
       "1 0  0.7  1.4  <gurobi.Var y[1,0]>  <gurobi.Var z[1,0]>\n",
       "2 0  0.9  1.1  <gurobi.Var y[2,0]>  <gurobi.Var z[2,0]>\n",
       "  1  1.2  0.9  <gurobi.Var y[2,1]>  <gurobi.Var z[2,1]>"
      ]
     },
     "execution_count": 9,
     "metadata": {},
     "output_type": "execute_result"
    }
   ],
   "source": [
    "variables = (\n",
    "    data\n",
    "    .gppd.add_vars(model, name=\"y\", ub=1.0)\n",
    "    .gppd.add_vars(model, name=\"z\", obj=\"p\")\n",
    ")\n",
    "variables"
   ]
  },
  {
   "cell_type": "markdown",
   "id": "84a7448a",
   "metadata": {
    "slideshow": {
     "slide_type": "slide"
    }
   },
   "source": [
    "# Creating Expressions\n",
    "\n",
    "- Pandas handles this for us\n",
    "- We always leverage pandas-native functions\n",
    "- Common operations in mathprog:\n",
    "    - summation\n",
    "    - arithmetic operations\n",
    "    - groupby (split-apply-combine) operations\n",
    "- Let's explore some common mathematical expressions"
   ]
  },
  {
   "cell_type": "markdown",
   "id": "10a0f185",
   "metadata": {
    "slideshow": {
     "slide_type": "subslide"
    }
   },
   "source": [
    "Summation over a single index:\n",
    "\n",
    "$$\n",
    "\\sum_i x_i\n",
    "$$"
   ]
  },
  {
   "cell_type": "code",
   "execution_count": 10,
   "id": "ee3f3281",
   "metadata": {
    "slideshow": {
     "slide_type": "-"
    }
   },
   "outputs": [
    {
     "data": {
      "text/plain": [
       "0    <gurobi.Var x[0]>\n",
       "1    <gurobi.Var x[1]>\n",
       "2    <gurobi.Var x[2]>\n",
       "3    <gurobi.Var x[3]>\n",
       "4    <gurobi.Var x[4]>\n",
       "Name: x, dtype: object"
      ]
     },
     "execution_count": 10,
     "metadata": {},
     "output_type": "execute_result"
    }
   ],
   "source": [
    "i = pd.RangeIndex(5)\n",
    "x = gppd.add_vars(model, i, name=\"x\")\n",
    "x"
   ]
  },
  {
   "cell_type": "code",
   "execution_count": 11,
   "id": "9e3c1dd2",
   "metadata": {
    "slideshow": {
     "slide_type": "-"
    }
   },
   "outputs": [
    {
     "data": {
      "text/plain": [
       "<gurobi.LinExpr: x[0] + x[1] + x[2] + x[3] + x[4]>"
      ]
     },
     "execution_count": 11,
     "metadata": {},
     "output_type": "execute_result"
    }
   ],
   "source": [
    "x.sum()"
   ]
  },
  {
   "cell_type": "markdown",
   "id": "3123a56c",
   "metadata": {
    "slideshow": {
     "slide_type": "subslide"
    }
   },
   "source": [
    "Scalar multiplication:\n",
    "\n",
    "$$\n",
    "2 x_i\n",
    "$$"
   ]
  },
  {
   "cell_type": "code",
   "execution_count": 12,
   "id": "e8e10e3c",
   "metadata": {
    "slideshow": {
     "slide_type": "-"
    }
   },
   "outputs": [
    {
     "data": {
      "text/plain": [
       "0    2.0 x[0]\n",
       "1    2.0 x[1]\n",
       "2    2.0 x[2]\n",
       "3    2.0 x[3]\n",
       "4    2.0 x[4]\n",
       "Name: x, dtype: object"
      ]
     },
     "execution_count": 12,
     "metadata": {},
     "output_type": "execute_result"
    }
   ],
   "source": [
    "2*x"
   ]
  },
  {
   "cell_type": "markdown",
   "id": "f0429f4d",
   "metadata": {
    "slideshow": {
     "slide_type": "subslide"
    }
   },
   "source": [
    "Series-wise multiplication:\n",
    "\n",
    "$$\n",
    "c_i x_i\n",
    "$$"
   ]
  },
  {
   "cell_type": "code",
   "execution_count": 13,
   "id": "5467e4f1",
   "metadata": {
    "slideshow": {
     "slide_type": "-"
    }
   },
   "outputs": [
    {
     "data": {
      "text/plain": [
       "0        x[0]\n",
       "1    2.0 x[1]\n",
       "2    3.0 x[2]\n",
       "3    4.0 x[3]\n",
       "4    5.0 x[4]\n",
       "dtype: object"
      ]
     },
     "execution_count": 13,
     "metadata": {},
     "output_type": "execute_result"
    }
   ],
   "source": [
    "c = pd.Series(index=i, name=\"c\", data=np.arange(1, 6))\n",
    "c * x"
   ]
  },
  {
   "cell_type": "markdown",
   "id": "b0fc7c7d",
   "metadata": {
    "slideshow": {
     "slide_type": "subslide"
    }
   },
   "source": [
    "Summing the result:\n",
    "\n",
    "$$\n",
    "\\sum_i c_i x_i\n",
    "$$"
   ]
  },
  {
   "cell_type": "code",
   "execution_count": 14,
   "id": "511ad6d3",
   "metadata": {
    "slideshow": {
     "slide_type": "-"
    }
   },
   "outputs": [
    {
     "data": {
      "text/plain": [
       "<gurobi.LinExpr: x[0] + 2.0 x[1] + 3.0 x[2] + 4.0 x[3] + 5.0 x[4]>"
      ]
     },
     "execution_count": 14,
     "metadata": {},
     "output_type": "execute_result"
    }
   ],
   "source": [
    "(c * x).sum()"
   ]
  },
  {
   "cell_type": "markdown",
   "id": "17ddabdc",
   "metadata": {
    "slideshow": {
     "slide_type": "subslide"
    }
   },
   "source": [
    "## Comfortable/Familiar?\n",
    "\n",
    "Hopefully!\n",
    "\n",
    "Any operation you would do with data in pandas, you can do in the same way with data & variables.\n",
    "\n",
    "Let's look at some multi-index cases."
   ]
  },
  {
   "cell_type": "markdown",
   "id": "b49557eb",
   "metadata": {
    "slideshow": {
     "slide_type": "subslide"
    }
   },
   "source": [
    "For each $i$, sum over all corresponding $j$:\n",
    "\n",
    "$$\n",
    "\\sum_{i \\in I} x_{ij} \\quad \\forall j \\in J\n",
    "$$"
   ]
  },
  {
   "cell_type": "code",
   "execution_count": 15,
   "id": "51602578",
   "metadata": {
    "slideshow": {
     "slide_type": "-"
    }
   },
   "outputs": [
    {
     "data": {
      "text/plain": [
       "i  j\n",
       "0  1    <gurobi.Var x[0,1]>\n",
       "   2    <gurobi.Var x[0,2]>\n",
       "1  0    <gurobi.Var x[1,0]>\n",
       "2  0    <gurobi.Var x[2,0]>\n",
       "   1    <gurobi.Var x[2,1]>\n",
       "Name: x, dtype: object"
      ]
     },
     "execution_count": 15,
     "metadata": {},
     "output_type": "execute_result"
    }
   ],
   "source": [
    "x = gppd.add_vars(model, data, name=\"x\")\n",
    "x"
   ]
  },
  {
   "cell_type": "code",
   "execution_count": 16,
   "id": "2478ffd1",
   "metadata": {
    "slideshow": {
     "slide_type": "-"
    }
   },
   "outputs": [
    {
     "data": {
      "text/plain": [
       "i\n",
       "0        x[0,1] + x[0,2]\n",
       "1    <gurobi.Var x[1,0]>\n",
       "2        x[2,0] + x[2,1]\n",
       "Name: x, dtype: object"
      ]
     },
     "execution_count": 16,
     "metadata": {},
     "output_type": "execute_result"
    }
   ],
   "source": [
    "x.groupby(\"i\").sum()"
   ]
  },
  {
   "cell_type": "markdown",
   "id": "9964a7fa",
   "metadata": {
    "slideshow": {
     "slide_type": "notes"
    }
   },
   "source": [
    "Correspondence:\n",
    "\n",
    "- index specified in `groupby` matches `\\forall`\n",
    "- `.sum()` reduces over the remaining index levels"
   ]
  },
  {
   "cell_type": "markdown",
   "id": "40aaf76a",
   "metadata": {
    "slideshow": {
     "slide_type": "subslide"
    }
   },
   "source": [
    "Align data on partial indexes:\n",
    "\n",
    "$$\n",
    "c_i x_{ij}\n",
    "$$"
   ]
  },
  {
   "cell_type": "code",
   "execution_count": 17,
   "id": "17118c97",
   "metadata": {
    "slideshow": {
     "slide_type": "-"
    }
   },
   "outputs": [
    {
     "data": {
      "text/plain": [
       "i\n",
       "0    1\n",
       "1    2\n",
       "2    3\n",
       "Name: c, dtype: int64"
      ]
     },
     "execution_count": 17,
     "metadata": {},
     "output_type": "execute_result"
    }
   ],
   "source": [
    "c = pd.Series(index=pd.RangeIndex(3, name='i'), data=[1, 2, 3], name=\"c\")\n",
    "c"
   ]
  },
  {
   "cell_type": "code",
   "execution_count": 18,
   "id": "c9746075",
   "metadata": {
    "slideshow": {
     "slide_type": "-"
    }
   },
   "outputs": [
    {
     "data": {
      "text/plain": [
       "i  j\n",
       "0  1        x[0,1]\n",
       "   2        x[0,2]\n",
       "1  0    2.0 x[1,0]\n",
       "2  0    3.0 x[2,0]\n",
       "   1    3.0 x[2,1]\n",
       "dtype: object"
      ]
     },
     "execution_count": 18,
     "metadata": {},
     "output_type": "execute_result"
    }
   ],
   "source": [
    "c * x"
   ]
  },
  {
   "cell_type": "markdown",
   "id": "88910af4",
   "metadata": {
    "slideshow": {
     "slide_type": "subslide"
    }
   },
   "source": [
    "Align the other way (by *names*):\n",
    "\n",
    "$$\n",
    "b_j x_{ij}\n",
    "$$"
   ]
  },
  {
   "cell_type": "code",
   "execution_count": 19,
   "id": "be6eaf62",
   "metadata": {
    "slideshow": {
     "slide_type": "-"
    }
   },
   "outputs": [
    {
     "data": {
      "text/plain": [
       "j\n",
       "0    1\n",
       "1    2\n",
       "2    3\n",
       "Name: b, dtype: int64"
      ]
     },
     "execution_count": 19,
     "metadata": {},
     "output_type": "execute_result"
    }
   ],
   "source": [
    "b = pd.Series(index=pd.RangeIndex(3, name='j'), data=[1, 2, 3], name=\"b\")\n",
    "b"
   ]
  },
  {
   "cell_type": "code",
   "execution_count": 20,
   "id": "ff3a96b8",
   "metadata": {
    "slideshow": {
     "slide_type": "-"
    }
   },
   "outputs": [
    {
     "data": {
      "text/plain": [
       "i  j\n",
       "0  1    2.0 x[0,1]\n",
       "   2    3.0 x[0,2]\n",
       "1  0        x[1,0]\n",
       "2  0        x[2,0]\n",
       "   1    2.0 x[2,1]\n",
       "dtype: object"
      ]
     },
     "execution_count": 20,
     "metadata": {},
     "output_type": "execute_result"
    }
   ],
   "source": [
    "b * x"
   ]
  },
  {
   "cell_type": "markdown",
   "id": "d4433150",
   "metadata": {
    "slideshow": {
     "slide_type": "subslide"
    }
   },
   "source": [
    "Note this alignment is all performed by pandas, according to pandas rules"
   ]
  },
  {
   "cell_type": "markdown",
   "id": "d1e3b3bb",
   "metadata": {
    "slideshow": {
     "slide_type": "subslide"
    }
   },
   "source": [
    "Slightly more complex:\n",
    "\n",
    "$$\n",
    "\\sum_j b_j x_{ij} \\quad \\forall i \\in I\n",
    "$$\n",
    "\n",
    "Here we are just taking the series `b * x` and applying the same groupby-aggregate operation as before:"
   ]
  },
  {
   "cell_type": "code",
   "execution_count": 21,
   "id": "53c8ec6d",
   "metadata": {
    "slideshow": {
     "slide_type": "-"
    }
   },
   "outputs": [
    {
     "data": {
      "text/plain": [
       "i\n",
       "0    2.0 x[0,1] + 3.0 x[0,2]\n",
       "1                     x[1,0]\n",
       "2        x[2,0] + 2.0 x[2,1]\n",
       "dtype: object"
      ]
     },
     "execution_count": 21,
     "metadata": {},
     "output_type": "execute_result"
    }
   ],
   "source": [
    "(b * x).groupby(\"i\").sum()"
   ]
  },
  {
   "cell_type": "markdown",
   "id": "14ce1835",
   "metadata": {
    "slideshow": {
     "slide_type": "-"
    }
   },
   "source": [
    "Note that we get a new series, with index $i$. This will be important shortly..."
   ]
  },
  {
   "cell_type": "markdown",
   "id": "2bc01ee7",
   "metadata": {
    "slideshow": {
     "slide_type": "subslide"
    }
   },
   "source": [
    "# Creating Constraints"
   ]
  },
  {
   "cell_type": "markdown",
   "id": "ba7cd77c",
   "metadata": {
    "slideshow": {
     "slide_type": "subslide"
    }
   },
   "source": [
    "- Using free functions\n",
    "\n",
    "\n",
    "$$\n",
    "\\sum_j b_j x_{ij} \\le 1 \\quad \\forall i \\in I\n",
    "$$"
   ]
  },
  {
   "cell_type": "code",
   "execution_count": 22,
   "id": "0cd34dc4",
   "metadata": {},
   "outputs": [
    {
     "data": {
      "text/plain": [
       "i\n",
       "0    <gurobi.Constr c1[0]>\n",
       "1    <gurobi.Constr c1[1]>\n",
       "2    <gurobi.Constr c1[2]>\n",
       "Name: c1, dtype: object"
      ]
     },
     "execution_count": 22,
     "metadata": {},
     "output_type": "execute_result"
    }
   ],
   "source": [
    "gppd.add_constrs(  \n",
    "    model,\n",
    "    (b * x).groupby(\"i\").sum(),\n",
    "    GRB.LESS_EQUAL,\n",
    "    1.0,\n",
    "    name=\"c1\",\n",
    ")"
   ]
  },
  {
   "cell_type": "markdown",
   "id": "6b72392e",
   "metadata": {
    "slideshow": {
     "slide_type": "subslide"
    }
   },
   "source": [
    "## Index alignment\n",
    "\n",
    "- To use series on both sides, indexes must align"
   ]
  },
  {
   "cell_type": "code",
   "execution_count": 23,
   "id": "7879ee02",
   "metadata": {
    "slideshow": {
     "slide_type": "-"
    }
   },
   "outputs": [
    {
     "data": {
      "text/plain": [
       "i\n",
       "0    1\n",
       "1    2\n",
       "2    3\n",
       "dtype: int64"
      ]
     },
     "execution_count": 23,
     "metadata": {},
     "output_type": "execute_result"
    }
   ],
   "source": [
    "c = pd.Series(index=pd.RangeIndex(3, name=\"i\"), data=[1, 2, 3])\n",
    "c"
   ]
  },
  {
   "cell_type": "code",
   "execution_count": 24,
   "id": "9217b28b",
   "metadata": {
    "slideshow": {
     "slide_type": "-"
    }
   },
   "outputs": [
    {
     "data": {
      "text/plain": [
       "i\n",
       "0    <gurobi.Constr c1[0]>\n",
       "1    <gurobi.Constr c1[1]>\n",
       "2    <gurobi.Constr c1[2]>\n",
       "Name: c1, dtype: object"
      ]
     },
     "execution_count": 24,
     "metadata": {},
     "output_type": "execute_result"
    }
   ],
   "source": [
    "gppd.add_constrs(  \n",
    "    model,\n",
    "    (b * x).groupby(\"i\").sum(),\n",
    "    GRB.LESS_EQUAL,\n",
    "    c,\n",
    "    name=\"c1\",\n",
    ")"
   ]
  },
  {
   "cell_type": "markdown",
   "id": "b8336e1c",
   "metadata": {
    "slideshow": {
     "slide_type": "subslide"
    }
   },
   "source": [
    "- Unaligned data, or missing data, is an error"
   ]
  },
  {
   "cell_type": "code",
   "execution_count": 25,
   "id": "6d04c4b9",
   "metadata": {
    "slideshow": {
     "slide_type": "-"
    }
   },
   "outputs": [
    {
     "ename": "KeyError",
     "evalue": "'series must be aligned'",
     "output_type": "error",
     "traceback": [
      "\u001b[0;31m---------------------------------------------------------------------------\u001b[0m",
      "\u001b[0;31mKeyError\u001b[0m                                  Traceback (most recent call last)",
      "Cell \u001b[0;32mIn[25], line 1\u001b[0m\n\u001b[0;32m----> 1\u001b[0m \u001b[43mgppd\u001b[49m\u001b[38;5;241;43m.\u001b[39;49m\u001b[43madd_constrs\u001b[49m\u001b[43m(\u001b[49m\u001b[43m  \u001b[49m\n\u001b[1;32m      2\u001b[0m \u001b[43m    \u001b[49m\u001b[43mmodel\u001b[49m\u001b[43m,\u001b[49m\n\u001b[1;32m      3\u001b[0m \u001b[43m    \u001b[49m\u001b[43m(\u001b[49m\u001b[43mb\u001b[49m\u001b[43m \u001b[49m\u001b[38;5;241;43m*\u001b[39;49m\u001b[43m \u001b[49m\u001b[43mx\u001b[49m\u001b[43m)\u001b[49m\u001b[38;5;241;43m.\u001b[39;49m\u001b[43mgroupby\u001b[49m\u001b[43m(\u001b[49m\u001b[38;5;124;43m\"\u001b[39;49m\u001b[38;5;124;43mi\u001b[39;49m\u001b[38;5;124;43m\"\u001b[39;49m\u001b[43m)\u001b[49m\u001b[38;5;241;43m.\u001b[39;49m\u001b[43msum\u001b[49m\u001b[43m(\u001b[49m\u001b[43m)\u001b[49m\u001b[43m,\u001b[49m\n\u001b[1;32m      4\u001b[0m \u001b[43m    \u001b[49m\u001b[43mGRB\u001b[49m\u001b[38;5;241;43m.\u001b[39;49m\u001b[43mLESS_EQUAL\u001b[49m\u001b[43m,\u001b[49m\n\u001b[1;32m      5\u001b[0m \u001b[43m    \u001b[49m\u001b[43mpd\u001b[49m\u001b[38;5;241;43m.\u001b[39;49m\u001b[43mSeries\u001b[49m\u001b[43m(\u001b[49m\u001b[43mindex\u001b[49m\u001b[38;5;241;43m=\u001b[39;49m\u001b[43mpd\u001b[49m\u001b[38;5;241;43m.\u001b[39;49m\u001b[43mRangeIndex\u001b[49m\u001b[43m(\u001b[49m\u001b[38;5;241;43m4\u001b[39;49m\u001b[43m,\u001b[49m\u001b[43m \u001b[49m\u001b[43mname\u001b[49m\u001b[38;5;241;43m=\u001b[39;49m\u001b[38;5;124;43m\"\u001b[39;49m\u001b[38;5;124;43mi\u001b[39;49m\u001b[38;5;124;43m\"\u001b[39;49m\u001b[43m)\u001b[49m\u001b[43m,\u001b[49m\u001b[43m \u001b[49m\u001b[43mdata\u001b[49m\u001b[38;5;241;43m=\u001b[39;49m\u001b[43m[\u001b[49m\u001b[38;5;241;43m1\u001b[39;49m\u001b[43m,\u001b[49m\u001b[43m \u001b[49m\u001b[38;5;241;43m2\u001b[39;49m\u001b[43m,\u001b[49m\u001b[43m \u001b[49m\u001b[38;5;241;43m3\u001b[39;49m\u001b[43m,\u001b[49m\u001b[43m \u001b[49m\u001b[38;5;241;43m4\u001b[39;49m\u001b[43m]\u001b[49m\u001b[43m)\u001b[49m\u001b[43m,\u001b[49m\n\u001b[1;32m      6\u001b[0m \u001b[43m    \u001b[49m\u001b[43mname\u001b[49m\u001b[38;5;241;43m=\u001b[39;49m\u001b[38;5;124;43m\"\u001b[39;49m\u001b[38;5;124;43mc1\u001b[39;49m\u001b[38;5;124;43m\"\u001b[39;49m\u001b[43m,\u001b[49m\n\u001b[1;32m      7\u001b[0m \u001b[43m)\u001b[49m\n",
      "File \u001b[0;32m~/workspaces/gurobipy-pandas/src/gurobipy_pandas/api.py:198\u001b[0m, in \u001b[0;36madd_constrs\u001b[0;34m(model, lhs, sense, rhs, name, index_formatter)\u001b[0m\n\u001b[1;32m    172\u001b[0m \u001b[38;5;28;01mdef\u001b[39;00m \u001b[38;5;21madd_constrs\u001b[39m(\n\u001b[1;32m    173\u001b[0m     model: gp\u001b[38;5;241m.\u001b[39mModel,\n\u001b[1;32m    174\u001b[0m     lhs: Union[pd\u001b[38;5;241m.\u001b[39mSeries, \u001b[38;5;28mfloat\u001b[39m],\n\u001b[0;32m   (...)\u001b[0m\n\u001b[1;32m    179\u001b[0m     index_formatter: Union[\u001b[38;5;28mstr\u001b[39m, Callable, Mapping[\u001b[38;5;28mstr\u001b[39m, Callable]] \u001b[38;5;241m=\u001b[39m \u001b[38;5;124m\"\u001b[39m\u001b[38;5;124mdefault\u001b[39m\u001b[38;5;124m\"\u001b[39m,\n\u001b[1;32m    180\u001b[0m ) \u001b[38;5;241m-\u001b[39m\u001b[38;5;241m>\u001b[39m pd\u001b[38;5;241m.\u001b[39mSeries:\n\u001b[1;32m    181\u001b[0m \u001b[38;5;250m    \u001b[39m\u001b[38;5;124;03m\"\"\"Add a constraint to the model for each row in lhs & rhs.\u001b[39;00m\n\u001b[1;32m    182\u001b[0m \n\u001b[1;32m    183\u001b[0m \u001b[38;5;124;03m    :param model: A Gurobi model to which new constraints will be added\u001b[39;00m\n\u001b[0;32m   (...)\u001b[0m\n\u001b[1;32m    196\u001b[0m \u001b[38;5;124;03m    :rtype: :class:`pd.Series`\u001b[39;00m\n\u001b[1;32m    197\u001b[0m \u001b[38;5;124;03m    \"\"\"\u001b[39;00m\n\u001b[0;32m--> 198\u001b[0m     \u001b[38;5;28;01mreturn\u001b[39;00m \u001b[43madd_constrs_from_series\u001b[49m\u001b[43m(\u001b[49m\n\u001b[1;32m    199\u001b[0m \u001b[43m        \u001b[49m\u001b[43mmodel\u001b[49m\u001b[43m,\u001b[49m\u001b[43m \u001b[49m\u001b[43mlhs\u001b[49m\u001b[43m,\u001b[49m\u001b[43m \u001b[49m\u001b[43msense\u001b[49m\u001b[43m,\u001b[49m\u001b[43m \u001b[49m\u001b[43mrhs\u001b[49m\u001b[43m,\u001b[49m\u001b[43m \u001b[49m\u001b[43mname\u001b[49m\u001b[38;5;241;43m=\u001b[39;49m\u001b[43mname\u001b[49m\u001b[43m,\u001b[49m\u001b[43m \u001b[49m\u001b[43mindex_formatter\u001b[49m\u001b[38;5;241;43m=\u001b[39;49m\u001b[43mindex_formatter\u001b[49m\n\u001b[1;32m    200\u001b[0m \u001b[43m    \u001b[49m\u001b[43m)\u001b[49m\n",
      "File \u001b[0;32m~/workspaces/gurobipy-pandas/src/gurobipy_pandas/constraints.py:74\u001b[0m, in \u001b[0;36madd_constrs_from_series\u001b[0;34m(model, lhs, sense, rhs, name, index_formatter)\u001b[0m\n\u001b[1;32m     72\u001b[0m \u001b[38;5;28;01mif\u001b[39;00m \u001b[38;5;28misinstance\u001b[39m(lhs, pd\u001b[38;5;241m.\u001b[39mSeries) \u001b[38;5;129;01mand\u001b[39;00m \u001b[38;5;28misinstance\u001b[39m(rhs, pd\u001b[38;5;241m.\u001b[39mSeries):\n\u001b[1;32m     73\u001b[0m     \u001b[38;5;28;01mif\u001b[39;00m \u001b[38;5;129;01mnot\u001b[39;00m lhs\u001b[38;5;241m.\u001b[39mindex\u001b[38;5;241m.\u001b[39msort_values()\u001b[38;5;241m.\u001b[39mequals(rhs\u001b[38;5;241m.\u001b[39mindex\u001b[38;5;241m.\u001b[39msort_values()):\n\u001b[0;32m---> 74\u001b[0m         \u001b[38;5;28;01mraise\u001b[39;00m \u001b[38;5;167;01mKeyError\u001b[39;00m(\u001b[38;5;124m\"\u001b[39m\u001b[38;5;124mseries must be aligned\u001b[39m\u001b[38;5;124m\"\u001b[39m)\n\u001b[1;32m     76\u001b[0m \u001b[38;5;28;01mif\u001b[39;00m \u001b[38;5;28misinstance\u001b[39m(lhs, pd\u001b[38;5;241m.\u001b[39mSeries) \u001b[38;5;129;01mand\u001b[39;00m lhs\u001b[38;5;241m.\u001b[39misnull()\u001b[38;5;241m.\u001b[39many():\n\u001b[1;32m     77\u001b[0m     \u001b[38;5;28;01mraise\u001b[39;00m \u001b[38;5;167;01mValueError\u001b[39;00m(\u001b[38;5;124m\"\u001b[39m\u001b[38;5;124mlhs series has missing values\u001b[39m\u001b[38;5;124m\"\u001b[39m)\n",
      "\u001b[0;31mKeyError\u001b[0m: 'series must be aligned'"
     ]
    }
   ],
   "source": [
    "gppd.add_constrs(  \n",
    "    model,\n",
    "    (b * x).groupby(\"i\").sum(),\n",
    "    GRB.LESS_EQUAL,\n",
    "    pd.Series(index=pd.RangeIndex(4, name=\"i\"), data=[1, 2, 3, 4]),\n",
    "    name=\"c1\",\n",
    ")"
   ]
  },
  {
   "cell_type": "markdown",
   "id": "00095eac",
   "metadata": {
    "slideshow": {
     "slide_type": "subslide"
    }
   },
   "source": [
    "# Creating Constraints\n",
    "\n",
    "- Using dataframe accessors"
   ]
  },
  {
   "cell_type": "code",
   "execution_count": 26,
   "id": "6f9c6028",
   "metadata": {},
   "outputs": [
    {
     "data": {
      "text/html": [
       "<div>\n",
       "<style scoped>\n",
       "    .dataframe tbody tr th:only-of-type {\n",
       "        vertical-align: middle;\n",
       "    }\n",
       "\n",
       "    .dataframe tbody tr th {\n",
       "        vertical-align: top;\n",
       "    }\n",
       "\n",
       "    .dataframe thead th {\n",
       "        text-align: right;\n",
       "    }\n",
       "</style>\n",
       "<table border=\"1\" class=\"dataframe\">\n",
       "  <thead>\n",
       "    <tr style=\"text-align: right;\">\n",
       "      <th></th>\n",
       "      <th></th>\n",
       "      <th>p</th>\n",
       "      <th>w</th>\n",
       "      <th>y</th>\n",
       "      <th>z</th>\n",
       "      <th>c1</th>\n",
       "    </tr>\n",
       "    <tr>\n",
       "      <th>i</th>\n",
       "      <th>j</th>\n",
       "      <th></th>\n",
       "      <th></th>\n",
       "      <th></th>\n",
       "      <th></th>\n",
       "      <th></th>\n",
       "    </tr>\n",
       "  </thead>\n",
       "  <tbody>\n",
       "    <tr>\n",
       "      <th rowspan=\"2\" valign=\"top\">0</th>\n",
       "      <th>1</th>\n",
       "      <td>0.3</td>\n",
       "      <td>1.3</td>\n",
       "      <td>&lt;gurobi.Var y[0,1]&gt;</td>\n",
       "      <td>&lt;gurobi.Var z[0,1]&gt;</td>\n",
       "      <td>&lt;gurobi.Constr c1[0,1]&gt;</td>\n",
       "    </tr>\n",
       "    <tr>\n",
       "      <th>2</th>\n",
       "      <td>1.2</td>\n",
       "      <td>1.7</td>\n",
       "      <td>&lt;gurobi.Var y[0,2]&gt;</td>\n",
       "      <td>&lt;gurobi.Var z[0,2]&gt;</td>\n",
       "      <td>&lt;gurobi.Constr c1[0,2]&gt;</td>\n",
       "    </tr>\n",
       "    <tr>\n",
       "      <th>1</th>\n",
       "      <th>0</th>\n",
       "      <td>0.7</td>\n",
       "      <td>1.4</td>\n",
       "      <td>&lt;gurobi.Var y[1,0]&gt;</td>\n",
       "      <td>&lt;gurobi.Var z[1,0]&gt;</td>\n",
       "      <td>&lt;gurobi.Constr c1[1,0]&gt;</td>\n",
       "    </tr>\n",
       "    <tr>\n",
       "      <th rowspan=\"2\" valign=\"top\">2</th>\n",
       "      <th>0</th>\n",
       "      <td>0.9</td>\n",
       "      <td>1.1</td>\n",
       "      <td>&lt;gurobi.Var y[2,0]&gt;</td>\n",
       "      <td>&lt;gurobi.Var z[2,0]&gt;</td>\n",
       "      <td>&lt;gurobi.Constr c1[2,0]&gt;</td>\n",
       "    </tr>\n",
       "    <tr>\n",
       "      <th>1</th>\n",
       "      <td>1.2</td>\n",
       "      <td>0.9</td>\n",
       "      <td>&lt;gurobi.Var y[2,1]&gt;</td>\n",
       "      <td>&lt;gurobi.Var z[2,1]&gt;</td>\n",
       "      <td>&lt;gurobi.Constr c1[2,1]&gt;</td>\n",
       "    </tr>\n",
       "  </tbody>\n",
       "</table>\n",
       "</div>"
      ],
      "text/plain": [
       "       p    w                    y                    z  \\\n",
       "i j                                                       \n",
       "0 1  0.3  1.3  <gurobi.Var y[0,1]>  <gurobi.Var z[0,1]>   \n",
       "  2  1.2  1.7  <gurobi.Var y[0,2]>  <gurobi.Var z[0,2]>   \n",
       "1 0  0.7  1.4  <gurobi.Var y[1,0]>  <gurobi.Var z[1,0]>   \n",
       "2 0  0.9  1.1  <gurobi.Var y[2,0]>  <gurobi.Var z[2,0]>   \n",
       "  1  1.2  0.9  <gurobi.Var y[2,1]>  <gurobi.Var z[2,1]>   \n",
       "\n",
       "                          c1  \n",
       "i j                           \n",
       "0 1  <gurobi.Constr c1[0,1]>  \n",
       "  2  <gurobi.Constr c1[0,2]>  \n",
       "1 0  <gurobi.Constr c1[1,0]>  \n",
       "2 0  <gurobi.Constr c1[2,0]>  \n",
       "  1  <gurobi.Constr c1[2,1]>  "
      ]
     },
     "execution_count": 26,
     "metadata": {},
     "output_type": "execute_result"
    }
   ],
   "source": [
    "vars_and_constrs = variables.gppd.add_constrs(  \n",
    "    model, \"y + z <= 1\", name=\"c1\"\n",
    ")\n",
    "vars_and_constrs"
   ]
  },
  {
   "cell_type": "markdown",
   "id": "8de3d54d",
   "metadata": {
    "slideshow": {
     "slide_type": "subslide"
    }
   },
   "source": [
    "# Setting Objectives\n",
    "\n",
    "Generally one objective (not an index-wise operation)\n",
    "\n",
    "So we use `gurobipy` methods here"
   ]
  },
  {
   "cell_type": "code",
   "execution_count": 27,
   "id": "b6b3ab6f",
   "metadata": {},
   "outputs": [
    {
     "data": {
      "text/plain": [
       "<gurobi.LinExpr: 0.3 x[0,1] + 1.2 x[0,2] + 0.7 x[1,0] + 0.9 x[2,0] + 1.2 x[2,1]>"
      ]
     },
     "execution_count": 27,
     "metadata": {},
     "output_type": "execute_result"
    }
   ],
   "source": [
    "(x * data[\"p\"]).sum()"
   ]
  },
  {
   "cell_type": "code",
   "execution_count": 28,
   "id": "2bc45a92",
   "metadata": {},
   "outputs": [],
   "source": [
    "model.setObjective((x * data[\"p\"]).sum(), sense=GRB.MAXIMIZE)"
   ]
  },
  {
   "cell_type": "markdown",
   "id": "1312d26b",
   "metadata": {
    "slideshow": {
     "slide_type": "subslide"
    }
   },
   "source": [
    "# Extracting Solutions\n",
    "\n",
    "(Solve the model first)"
   ]
  },
  {
   "cell_type": "code",
   "execution_count": 29,
   "id": "85f55a4c",
   "metadata": {},
   "outputs": [
    {
     "data": {
      "text/plain": [
       "i  j\n",
       "0  1    0.000000\n",
       "   2    0.333333\n",
       "1  0    1.000000\n",
       "2  0    1.000000\n",
       "   1    0.000000\n",
       "Name: x, dtype: float64"
      ]
     },
     "execution_count": 29,
     "metadata": {},
     "output_type": "execute_result"
    }
   ],
   "source": [
    "model.optimize()\n",
    "x.gppd.X  # Series accessor"
   ]
  },
  {
   "cell_type": "markdown",
   "id": "d4a22b39",
   "metadata": {
    "slideshow": {
     "slide_type": "subslide"
    }
   },
   "source": [
    "# Other Series accessor functionality"
   ]
  },
  {
   "cell_type": "code",
   "execution_count": 30,
   "id": "0c8a15ca",
   "metadata": {
    "slideshow": {
     "slide_type": "subslide"
    }
   },
   "outputs": [
    {
     "data": {
      "text/plain": [
       "i  j\n",
       "0  1    <gurobi.Constr c1[0,1]>\n",
       "   2    <gurobi.Constr c1[0,2]>\n",
       "1  0    <gurobi.Constr c1[1,0]>\n",
       "2  0    <gurobi.Constr c1[2,0]>\n",
       "   1    <gurobi.Constr c1[2,1]>\n",
       "Name: c1, dtype: object"
      ]
     },
     "execution_count": 30,
     "metadata": {},
     "output_type": "execute_result"
    }
   ],
   "source": [
    "vars_and_constrs['c1']"
   ]
  },
  {
   "cell_type": "code",
   "execution_count": 31,
   "id": "c16e73d7",
   "metadata": {
    "slideshow": {
     "slide_type": "fragment"
    }
   },
   "outputs": [
    {
     "data": {
      "text/plain": [
       "i  j\n",
       "0  1    1.0\n",
       "   2    1.0\n",
       "1  0    1.0\n",
       "2  0    1.0\n",
       "   1    1.0\n",
       "Name: c1, dtype: float64"
      ]
     },
     "execution_count": 31,
     "metadata": {},
     "output_type": "execute_result"
    }
   ],
   "source": [
    "vars_and_constrs['c1'].gppd.Slack"
   ]
  },
  {
   "cell_type": "code",
   "execution_count": 32,
   "id": "bc27da98",
   "metadata": {
    "slideshow": {
     "slide_type": "subslide"
    }
   },
   "outputs": [
    {
     "data": {
      "text/plain": [
       "i  j\n",
       "0  1    0.5 + 2.0 x[0,1] + y[0,1]\n",
       "   2    0.5 + 2.0 x[0,2] + y[0,2]\n",
       "1  0    0.5 + 2.0 x[1,0] + y[1,0]\n",
       "2  0    0.5 + 2.0 x[2,0] + y[2,0]\n",
       "   1    0.5 + 2.0 x[2,1] + y[2,1]\n",
       "dtype: object"
      ]
     },
     "execution_count": 32,
     "metadata": {},
     "output_type": "execute_result"
    }
   ],
   "source": [
    "expr = 2.0 * x + variables['y'] + 0.5\n",
    "expr"
   ]
  },
  {
   "cell_type": "code",
   "execution_count": 33,
   "id": "69b53a24",
   "metadata": {
    "slideshow": {
     "slide_type": "fragment"
    }
   },
   "outputs": [
    {
     "data": {
      "text/plain": [
       "i  j\n",
       "0  1    0.500000\n",
       "   2    1.166667\n",
       "1  0    2.500000\n",
       "2  0    2.500000\n",
       "   1    0.500000\n",
       "dtype: float64"
      ]
     },
     "execution_count": 33,
     "metadata": {},
     "output_type": "execute_result"
    }
   ],
   "source": [
    "expr.gppd.get_value()"
   ]
  },
  {
   "cell_type": "markdown",
   "id": "242b35c8",
   "metadata": {
    "slideshow": {
     "slide_type": "slide"
    }
   },
   "source": [
    "# Example\n",
    "\n",
    "[Project-Team Allocation](https://gurobi-optimization-gurobipy-pandas.readthedocs-hosted.com/en/latest/examples/projects.html). Focus on usage in practice. Key points:\n",
    "\n",
    "- *Before* taking any modelling steps: prepare your data properly\n",
    "    - Clearly define your model indexes, and align your dataframes to these indexes\n",
    "    - Keep data reading & cleaning separate from model building\n",
    "- Solutions are read back as numeric pandas data\n",
    "    - Plug directly into the rest of pydata ecosystem for post-processing\n",
    "    - Work pandonically with the results"
   ]
  },
  {
   "cell_type": "markdown",
   "id": "3241e60b",
   "metadata": {
    "slideshow": {
     "slide_type": "subslide"
    }
   },
   "source": [
    "- Show mathematical model\n",
    "- Talk through the indexes and data"
   ]
  },
  {
   "cell_type": "markdown",
   "id": "1d2dbfdf",
   "metadata": {
    "slideshow": {
     "slide_type": "subslide"
    }
   },
   "source": [
    "- Show the prepared dataframes\n",
    "- Correct dtypes, no missing values, sparse index"
   ]
  },
  {
   "cell_type": "markdown",
   "id": "8b29661b",
   "metadata": {
    "slideshow": {
     "slide_type": "subslide"
    }
   },
   "source": [
    "- Walk through the code"
   ]
  },
  {
   "cell_type": "markdown",
   "id": "b52c8845",
   "metadata": {
    "slideshow": {
     "slide_type": "slide"
    }
   },
   "source": [
    "# More examples are available\n",
    "\n",
    "https://gurobi-optimization-gurobipy-pandas.readthedocs-hosted.com/en/latest/examples.html"
   ]
  },
  {
   "cell_type": "markdown",
   "id": "c9d3e62b",
   "metadata": {
    "slideshow": {
     "slide_type": "slide"
    }
   },
   "source": [
    "# Performance\n",
    "\n",
    "[Dedicated page in the docs](https://gurobi-optimization-gurobipy-pandas.readthedocs-hosted.com/en/latest/performance.html). Key points:\n",
    "\n",
    "- `gurobipy-pandas` won't magically make your model building code fast\n",
    "- The API provides some structure to take *well-organized and prepared data* and help you build *clearly defined models* in the pandas style"
   ]
  },
  {
   "cell_type": "markdown",
   "id": "19576d89",
   "metadata": {
    "slideshow": {
     "slide_type": "slide"
    }
   },
   "source": [
    "# Final thoughts\n",
    "\n",
    "- [Read the docs](https://gurobi-optimization-gurobipy-pandas.readthedocs-hosted.com/en/latest/index.html)\n",
    "    - Check the examples for clean patterns to emulate\n",
    "- [Check the repo](https://github.com/Gurobi/gurobipy-pandas)\n",
    "    - Bugs? Feature request? Open an issue\n",
    "- [Discuss!](https://support.gurobi.com/hc/en-us/community/topics/10373864542609-GitHub-Projects%3E)\n",
    "    - For usage questions"
   ]
  },
  {
   "cell_type": "markdown",
   "id": "1e5c8202",
   "metadata": {
    "slideshow": {
     "slide_type": "slide"
    }
   },
   "source": [
    "# Thanks!\n",
    "\n",
    "Questions?"
   ]
  }
 ],
 "metadata": {
  "celltoolbar": "Slideshow",
  "kernelspec": {
   "display_name": "gurobipy-pandas",
   "language": "python",
   "name": "gurobipy-pandas"
  },
  "language_info": {
   "codemirror_mode": {
    "name": "ipython",
    "version": 3
   },
   "file_extension": ".py",
   "mimetype": "text/x-python",
   "name": "python",
   "nbconvert_exporter": "python",
   "pygments_lexer": "ipython3",
   "version": "3.11.1"
  }
 },
 "nbformat": 4,
 "nbformat_minor": 5
}
