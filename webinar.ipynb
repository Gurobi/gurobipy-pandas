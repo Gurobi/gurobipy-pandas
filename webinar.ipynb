{
 "cells": [
  {
   "cell_type": "markdown",
   "id": "e935823d",
   "metadata": {
    "slideshow": {
     "slide_type": "slide"
    }
   },
   "source": [
    "# gurobipy-pandas\n",
    "\n",
    "The missing link between `pandas` and `gurobipy`!"
   ]
  },
  {
   "cell_type": "markdown",
   "id": "03ea15d5",
   "metadata": {
    "slideshow": {
     "slide_type": "subslide"
    }
   },
   "source": [
    "In this session:\n",
    "\n",
    "- Overview of `gurobipy-pandas` design\n",
    "- Basic usage mechanics\n",
    "- Complete modelling examples"
   ]
  },
  {
   "cell_type": "markdown",
   "id": "b7f4000a",
   "metadata": {
    "slideshow": {
     "slide_type": "slide"
    }
   },
   "source": [
    "# Design Principles"
   ]
  },
  {
   "cell_type": "markdown",
   "id": "247815ff",
   "metadata": {
    "slideshow": {
     "slide_type": "subslide"
    }
   },
   "source": [
    "Optimization models define data, variables, and constraints over indexes:\n",
    "\n",
    "\n",
    "$$\n",
    "\\begin{alignat}{2}\n",
    "\\max \\quad        & \\sum_{i \\in I} \\sum_{j \\in J} p_{i} x_{ij} \\\\\n",
    "\\mbox{s.t.} \\quad & \\sum_{i \\in I} w_{i} x_{ij} \\le c_{j} & \\forall j \\in J \\\\\n",
    "                  & \\sum_{j \\in J} x_{ik} \\le 1 & \\forall i \\in I \\\\\\\n",
    "                  & x_{ij} \\in \\lbrace 0, 1 \\rbrace & \\forall i \\in I, j \\in J \\\\\n",
    "\\end{alignat}\n",
    "$$"
   ]
  },
  {
   "cell_type": "code",
   "execution_count": 1,
   "id": "ce924faf",
   "metadata": {
    "slideshow": {
     "slide_type": "skip"
    }
   },
   "outputs": [],
   "source": [
    "import pandas as pd\n",
    "import numpy as np\n",
    "product_data = pd.DataFrame(\n",
    "    index=[1, 2, 3, 4, 5],\n",
    "    columns=[\"cost_per_unit\", \"amount_available\"],\n",
    "    data=np.random.random((5, 2)).round(2)\n",
    ")"
   ]
  },
  {
   "cell_type": "markdown",
   "id": "311de466",
   "metadata": {
    "slideshow": {
     "slide_type": "subslide"
    }
   },
   "source": [
    "Pandas DataFrames and Series define data over indexes:"
   ]
  },
  {
   "cell_type": "code",
   "execution_count": 2,
   "id": "529a7ebd",
   "metadata": {
    "slideshow": {
     "slide_type": "-"
    }
   },
   "outputs": [
    {
     "data": {
      "text/html": [
       "<div>\n",
       "<style scoped>\n",
       "    .dataframe tbody tr th:only-of-type {\n",
       "        vertical-align: middle;\n",
       "    }\n",
       "\n",
       "    .dataframe tbody tr th {\n",
       "        vertical-align: top;\n",
       "    }\n",
       "\n",
       "    .dataframe thead th {\n",
       "        text-align: right;\n",
       "    }\n",
       "</style>\n",
       "<table border=\"1\" class=\"dataframe\">\n",
       "  <thead>\n",
       "    <tr style=\"text-align: right;\">\n",
       "      <th></th>\n",
       "      <th>cost_per_unit</th>\n",
       "      <th>amount_available</th>\n",
       "    </tr>\n",
       "  </thead>\n",
       "  <tbody>\n",
       "    <tr>\n",
       "      <th>1</th>\n",
       "      <td>0.80</td>\n",
       "      <td>0.11</td>\n",
       "    </tr>\n",
       "    <tr>\n",
       "      <th>2</th>\n",
       "      <td>0.33</td>\n",
       "      <td>0.97</td>\n",
       "    </tr>\n",
       "    <tr>\n",
       "      <th>3</th>\n",
       "      <td>0.27</td>\n",
       "      <td>0.66</td>\n",
       "    </tr>\n",
       "    <tr>\n",
       "      <th>4</th>\n",
       "      <td>0.66</td>\n",
       "      <td>0.35</td>\n",
       "    </tr>\n",
       "    <tr>\n",
       "      <th>5</th>\n",
       "      <td>0.13</td>\n",
       "      <td>0.29</td>\n",
       "    </tr>\n",
       "  </tbody>\n",
       "</table>\n",
       "</div>"
      ],
      "text/plain": [
       "   cost_per_unit  amount_available\n",
       "1           0.80              0.11\n",
       "2           0.33              0.97\n",
       "3           0.27              0.66\n",
       "4           0.66              0.35\n",
       "5           0.13              0.29"
      ]
     },
     "execution_count": 2,
     "metadata": {},
     "output_type": "execute_result"
    }
   ],
   "source": [
    "product_data"
   ]
  },
  {
   "cell_type": "markdown",
   "id": "f10969d2",
   "metadata": {
    "slideshow": {
     "slide_type": "subslide"
    }
   },
   "source": [
    "## Missing Link?\n",
    "\n",
    "Defining gurobipy variables and constraints over pandas indexes.\n",
    "\n",
    "`gurobipy-pandas` provides simple functions to help here."
   ]
  },
  {
   "cell_type": "markdown",
   "id": "c8c8aede",
   "metadata": {
    "slideshow": {
     "slide_type": "slide"
    }
   },
   "source": [
    "# Installation\n",
    "\n",
    "```\n",
    "pip install gurobipy-pandas\n",
    "```\n",
    "\n",
    "Then, add one more import to your arsenal:"
   ]
  },
  {
   "cell_type": "code",
   "execution_count": 3,
   "id": "59a2c9f8",
   "metadata": {
    "slideshow": {
     "slide_type": "-"
    }
   },
   "outputs": [],
   "source": [
    "import pandas as pd\n",
    "import gurobipy as gp\n",
    "from gurobipy import GRB\n",
    "\n",
    "import gurobipy_pandas as gppd\n",
    "\n",
    "# Handy trick for live coding\n",
    "gppd.set_interactive()\n",
    "\n",
    "# Silence please\n",
    "gp.setParam('OutputFlag', 0)"
   ]
  },
  {
   "cell_type": "markdown",
   "id": "7b94b2b7",
   "metadata": {
    "slideshow": {
     "slide_type": "slide"
    }
   },
   "source": [
    "# Usage\n",
    "\n",
    "- `gurobipy` objects are still the entry point for:\n",
    "    - creating models\n",
    "    - starting optimization\n",
    "    - constants, status codes, etc\n",
    "- `gurobipy_pandas` provides accessors and functions to:\n",
    "    - create sets of variables based on indexes\n",
    "    - create constraints based on aligned series\n",
    "    - extract solutions as series"
   ]
  },
  {
   "cell_type": "markdown",
   "id": "26b4c738",
   "metadata": {
    "slideshow": {
     "slide_type": "subslide"
    }
   },
   "source": [
    "# Creating Models\n",
    "\n",
    "The usual way"
   ]
  },
  {
   "cell_type": "code",
   "execution_count": 4,
   "id": "9d8eae30",
   "metadata": {},
   "outputs": [],
   "source": [
    "model = gp.Model()"
   ]
  },
  {
   "cell_type": "markdown",
   "id": "5b07ff1f",
   "metadata": {
    "slideshow": {
     "slide_type": "subslide"
    }
   },
   "source": [
    "# Creating Variables\n",
    "\n",
    "- Using free functions"
   ]
  },
  {
   "cell_type": "code",
   "execution_count": 5,
   "id": "6d0358a3",
   "metadata": {
    "slideshow": {
     "slide_type": "skip"
    }
   },
   "outputs": [],
   "source": [
    "data = pd.DataFrame(\n",
    "    {\n",
    "        \"i\": [0, 0, 1, 2, 2],\n",
    "        \"j\": [1, 2, 0, 0, 1],\n",
    "        \"u\": [0.3, 1.2, 0.7, 0.9, 1.2],\n",
    "        \"c\": [1.3, 1.7, 1.4, 1.1, 0.9],\n",
    "    }\n",
    ").set_index([\"i\", \"j\"])"
   ]
  },
  {
   "cell_type": "code",
   "execution_count": 6,
   "id": "2daacc18",
   "metadata": {
    "slideshow": {
     "slide_type": "fragment"
    }
   },
   "outputs": [
    {
     "data": {
      "text/html": [
       "<div>\n",
       "<style scoped>\n",
       "    .dataframe tbody tr th:only-of-type {\n",
       "        vertical-align: middle;\n",
       "    }\n",
       "\n",
       "    .dataframe tbody tr th {\n",
       "        vertical-align: top;\n",
       "    }\n",
       "\n",
       "    .dataframe thead th {\n",
       "        text-align: right;\n",
       "    }\n",
       "</style>\n",
       "<table border=\"1\" class=\"dataframe\">\n",
       "  <thead>\n",
       "    <tr style=\"text-align: right;\">\n",
       "      <th></th>\n",
       "      <th></th>\n",
       "      <th>u</th>\n",
       "      <th>c</th>\n",
       "    </tr>\n",
       "    <tr>\n",
       "      <th>i</th>\n",
       "      <th>j</th>\n",
       "      <th></th>\n",
       "      <th></th>\n",
       "    </tr>\n",
       "  </thead>\n",
       "  <tbody>\n",
       "    <tr>\n",
       "      <th rowspan=\"2\" valign=\"top\">0</th>\n",
       "      <th>1</th>\n",
       "      <td>0.3</td>\n",
       "      <td>1.3</td>\n",
       "    </tr>\n",
       "    <tr>\n",
       "      <th>2</th>\n",
       "      <td>1.2</td>\n",
       "      <td>1.7</td>\n",
       "    </tr>\n",
       "    <tr>\n",
       "      <th>1</th>\n",
       "      <th>0</th>\n",
       "      <td>0.7</td>\n",
       "      <td>1.4</td>\n",
       "    </tr>\n",
       "    <tr>\n",
       "      <th rowspan=\"2\" valign=\"top\">2</th>\n",
       "      <th>0</th>\n",
       "      <td>0.9</td>\n",
       "      <td>1.1</td>\n",
       "    </tr>\n",
       "    <tr>\n",
       "      <th>1</th>\n",
       "      <td>1.2</td>\n",
       "      <td>0.9</td>\n",
       "    </tr>\n",
       "  </tbody>\n",
       "</table>\n",
       "</div>"
      ],
      "text/plain": [
       "       u    c\n",
       "i j          \n",
       "0 1  0.3  1.3\n",
       "  2  1.2  1.7\n",
       "1 0  0.7  1.4\n",
       "2 0  0.9  1.1\n",
       "  1  1.2  0.9"
      ]
     },
     "execution_count": 6,
     "metadata": {},
     "output_type": "execute_result"
    }
   ],
   "source": [
    "data"
   ]
  },
  {
   "cell_type": "code",
   "execution_count": 7,
   "id": "878abfa4",
   "metadata": {
    "slideshow": {
     "slide_type": "fragment"
    }
   },
   "outputs": [
    {
     "data": {
      "text/plain": [
       "i  j\n",
       "0  1    <gurobi.Var x[0,1]>\n",
       "   2    <gurobi.Var x[0,2]>\n",
       "1  0    <gurobi.Var x[1,0]>\n",
       "2  0    <gurobi.Var x[2,0]>\n",
       "   1    <gurobi.Var x[2,1]>\n",
       "Name: x, dtype: object"
      ]
     },
     "execution_count": 7,
     "metadata": {},
     "output_type": "execute_result"
    }
   ],
   "source": [
    "x = gppd.add_vars(model, data, name=\"x\", ub=\"u\")\n",
    "x"
   ]
  },
  {
   "cell_type": "markdown",
   "id": "13b35a07",
   "metadata": {
    "slideshow": {
     "slide_type": "subslide"
    }
   },
   "source": [
    "# Creating Variables\n",
    "\n",
    "- Using dataframe accessors"
   ]
  },
  {
   "cell_type": "code",
   "execution_count": 8,
   "id": "134d0cb6",
   "metadata": {
    "slideshow": {
     "slide_type": "-"
    }
   },
   "outputs": [
    {
     "data": {
      "text/html": [
       "<div>\n",
       "<style scoped>\n",
       "    .dataframe tbody tr th:only-of-type {\n",
       "        vertical-align: middle;\n",
       "    }\n",
       "\n",
       "    .dataframe tbody tr th {\n",
       "        vertical-align: top;\n",
       "    }\n",
       "\n",
       "    .dataframe thead th {\n",
       "        text-align: right;\n",
       "    }\n",
       "</style>\n",
       "<table border=\"1\" class=\"dataframe\">\n",
       "  <thead>\n",
       "    <tr style=\"text-align: right;\">\n",
       "      <th></th>\n",
       "      <th></th>\n",
       "      <th>u</th>\n",
       "      <th>c</th>\n",
       "    </tr>\n",
       "    <tr>\n",
       "      <th>i</th>\n",
       "      <th>j</th>\n",
       "      <th></th>\n",
       "      <th></th>\n",
       "    </tr>\n",
       "  </thead>\n",
       "  <tbody>\n",
       "    <tr>\n",
       "      <th rowspan=\"2\" valign=\"top\">0</th>\n",
       "      <th>1</th>\n",
       "      <td>0.3</td>\n",
       "      <td>1.3</td>\n",
       "    </tr>\n",
       "    <tr>\n",
       "      <th>2</th>\n",
       "      <td>1.2</td>\n",
       "      <td>1.7</td>\n",
       "    </tr>\n",
       "    <tr>\n",
       "      <th>1</th>\n",
       "      <th>0</th>\n",
       "      <td>0.7</td>\n",
       "      <td>1.4</td>\n",
       "    </tr>\n",
       "    <tr>\n",
       "      <th rowspan=\"2\" valign=\"top\">2</th>\n",
       "      <th>0</th>\n",
       "      <td>0.9</td>\n",
       "      <td>1.1</td>\n",
       "    </tr>\n",
       "    <tr>\n",
       "      <th>1</th>\n",
       "      <td>1.2</td>\n",
       "      <td>0.9</td>\n",
       "    </tr>\n",
       "  </tbody>\n",
       "</table>\n",
       "</div>"
      ],
      "text/plain": [
       "       u    c\n",
       "i j          \n",
       "0 1  0.3  1.3\n",
       "  2  1.2  1.7\n",
       "1 0  0.7  1.4\n",
       "2 0  0.9  1.1\n",
       "  1  1.2  0.9"
      ]
     },
     "execution_count": 8,
     "metadata": {},
     "output_type": "execute_result"
    }
   ],
   "source": [
    "data"
   ]
  },
  {
   "cell_type": "code",
   "execution_count": 9,
   "id": "54eb2a32",
   "metadata": {
    "slideshow": {
     "slide_type": "fragment"
    }
   },
   "outputs": [
    {
     "data": {
      "text/html": [
       "<div>\n",
       "<style scoped>\n",
       "    .dataframe tbody tr th:only-of-type {\n",
       "        vertical-align: middle;\n",
       "    }\n",
       "\n",
       "    .dataframe tbody tr th {\n",
       "        vertical-align: top;\n",
       "    }\n",
       "\n",
       "    .dataframe thead th {\n",
       "        text-align: right;\n",
       "    }\n",
       "</style>\n",
       "<table border=\"1\" class=\"dataframe\">\n",
       "  <thead>\n",
       "    <tr style=\"text-align: right;\">\n",
       "      <th></th>\n",
       "      <th></th>\n",
       "      <th>u</th>\n",
       "      <th>c</th>\n",
       "      <th>y</th>\n",
       "      <th>z</th>\n",
       "    </tr>\n",
       "    <tr>\n",
       "      <th>i</th>\n",
       "      <th>j</th>\n",
       "      <th></th>\n",
       "      <th></th>\n",
       "      <th></th>\n",
       "      <th></th>\n",
       "    </tr>\n",
       "  </thead>\n",
       "  <tbody>\n",
       "    <tr>\n",
       "      <th rowspan=\"2\" valign=\"top\">0</th>\n",
       "      <th>1</th>\n",
       "      <td>0.3</td>\n",
       "      <td>1.3</td>\n",
       "      <td>&lt;gurobi.Var y[0,1]&gt;</td>\n",
       "      <td>&lt;gurobi.Var z[0,1]&gt;</td>\n",
       "    </tr>\n",
       "    <tr>\n",
       "      <th>2</th>\n",
       "      <td>1.2</td>\n",
       "      <td>1.7</td>\n",
       "      <td>&lt;gurobi.Var y[0,2]&gt;</td>\n",
       "      <td>&lt;gurobi.Var z[0,2]&gt;</td>\n",
       "    </tr>\n",
       "    <tr>\n",
       "      <th>1</th>\n",
       "      <th>0</th>\n",
       "      <td>0.7</td>\n",
       "      <td>1.4</td>\n",
       "      <td>&lt;gurobi.Var y[1,0]&gt;</td>\n",
       "      <td>&lt;gurobi.Var z[1,0]&gt;</td>\n",
       "    </tr>\n",
       "    <tr>\n",
       "      <th rowspan=\"2\" valign=\"top\">2</th>\n",
       "      <th>0</th>\n",
       "      <td>0.9</td>\n",
       "      <td>1.1</td>\n",
       "      <td>&lt;gurobi.Var y[2,0]&gt;</td>\n",
       "      <td>&lt;gurobi.Var z[2,0]&gt;</td>\n",
       "    </tr>\n",
       "    <tr>\n",
       "      <th>1</th>\n",
       "      <td>1.2</td>\n",
       "      <td>0.9</td>\n",
       "      <td>&lt;gurobi.Var y[2,1]&gt;</td>\n",
       "      <td>&lt;gurobi.Var z[2,1]&gt;</td>\n",
       "    </tr>\n",
       "  </tbody>\n",
       "</table>\n",
       "</div>"
      ],
      "text/plain": [
       "       u    c                    y                    z\n",
       "i j                                                    \n",
       "0 1  0.3  1.3  <gurobi.Var y[0,1]>  <gurobi.Var z[0,1]>\n",
       "  2  1.2  1.7  <gurobi.Var y[0,2]>  <gurobi.Var z[0,2]>\n",
       "1 0  0.7  1.4  <gurobi.Var y[1,0]>  <gurobi.Var z[1,0]>\n",
       "2 0  0.9  1.1  <gurobi.Var y[2,0]>  <gurobi.Var z[2,0]>\n",
       "  1  1.2  0.9  <gurobi.Var y[2,1]>  <gurobi.Var z[2,1]>"
      ]
     },
     "execution_count": 9,
     "metadata": {},
     "output_type": "execute_result"
    }
   ],
   "source": [
    "variables = (\n",
    "    data\n",
    "    .gppd.add_vars(model, name=\"y\", ub=\"u\")\n",
    "    .gppd.add_vars(model, name=\"z\", obj=\"c\")\n",
    ")\n",
    "variables"
   ]
  },
  {
   "cell_type": "markdown",
   "id": "84a7448a",
   "metadata": {
    "slideshow": {
     "slide_type": "subslide"
    }
   },
   "source": [
    "# Creating Expressions\n",
    "\n",
    "- Pandas largely handles this for us"
   ]
  },
  {
   "cell_type": "code",
   "execution_count": 10,
   "id": "2478ffd1",
   "metadata": {
    "slideshow": {
     "slide_type": "fragment"
    }
   },
   "outputs": [
    {
     "data": {
      "text/plain": [
       "i\n",
       "0        x[0,1] + x[0,2]\n",
       "1    <gurobi.Var x[1,0]>\n",
       "2        x[2,0] + x[2,1]\n",
       "Name: x, dtype: object"
      ]
     },
     "execution_count": 10,
     "metadata": {},
     "output_type": "execute_result"
    }
   ],
   "source": [
    "x.groupby(\"i\").sum()"
   ]
  },
  {
   "cell_type": "code",
   "execution_count": 11,
   "id": "90bd7a2a",
   "metadata": {
    "slideshow": {
     "slide_type": "fragment"
    }
   },
   "outputs": [
    {
     "data": {
      "text/plain": [
       "i  j\n",
       "0  1    2.0 y[0,1] + z[0,1]\n",
       "   2    2.0 y[0,2] + z[0,2]\n",
       "1  0    2.0 y[1,0] + z[1,0]\n",
       "2  0    2.0 y[2,0] + z[2,0]\n",
       "   1    2.0 y[2,1] + z[2,1]\n",
       "dtype: object"
      ]
     },
     "execution_count": 11,
     "metadata": {},
     "output_type": "execute_result"
    }
   ],
   "source": [
    "2 * variables[\"y\"] + variables[\"z\"]"
   ]
  },
  {
   "cell_type": "markdown",
   "id": "ba7cd77c",
   "metadata": {
    "slideshow": {
     "slide_type": "subslide"
    }
   },
   "source": [
    "# Creating Constraints\n",
    "\n",
    "- Using free functions"
   ]
  },
  {
   "cell_type": "code",
   "execution_count": 12,
   "id": "0cd34dc4",
   "metadata": {},
   "outputs": [
    {
     "data": {
      "text/plain": [
       "0    <gurobi.Constr c1[0]>\n",
       "1    <gurobi.Constr c1[1]>\n",
       "2    <gurobi.Constr c1[2]>\n",
       "Name: c1, dtype: object"
      ]
     },
     "execution_count": 12,
     "metadata": {},
     "output_type": "execute_result"
    }
   ],
   "source": [
    "gppd.add_constrs(  \n",
    "    model,\n",
    "    variables.groupby(\"j\")[\"y\"].sum(),\n",
    "    GRB.LESS_EQUAL,\n",
    "    variables.groupby(\"i\")[\"y\"].sum(),\n",
    "    name=\"c1\",\n",
    ")"
   ]
  },
  {
   "cell_type": "markdown",
   "id": "00095eac",
   "metadata": {
    "slideshow": {
     "slide_type": "subslide"
    }
   },
   "source": [
    "# Creating Constraints\n",
    "\n",
    "- Using dataframe accessors"
   ]
  },
  {
   "cell_type": "code",
   "execution_count": 13,
   "id": "6f9c6028",
   "metadata": {},
   "outputs": [
    {
     "data": {
      "text/html": [
       "<div>\n",
       "<style scoped>\n",
       "    .dataframe tbody tr th:only-of-type {\n",
       "        vertical-align: middle;\n",
       "    }\n",
       "\n",
       "    .dataframe tbody tr th {\n",
       "        vertical-align: top;\n",
       "    }\n",
       "\n",
       "    .dataframe thead th {\n",
       "        text-align: right;\n",
       "    }\n",
       "</style>\n",
       "<table border=\"1\" class=\"dataframe\">\n",
       "  <thead>\n",
       "    <tr style=\"text-align: right;\">\n",
       "      <th></th>\n",
       "      <th></th>\n",
       "      <th>u</th>\n",
       "      <th>c</th>\n",
       "      <th>y</th>\n",
       "      <th>z</th>\n",
       "      <th>c1</th>\n",
       "    </tr>\n",
       "    <tr>\n",
       "      <th>i</th>\n",
       "      <th>j</th>\n",
       "      <th></th>\n",
       "      <th></th>\n",
       "      <th></th>\n",
       "      <th></th>\n",
       "      <th></th>\n",
       "    </tr>\n",
       "  </thead>\n",
       "  <tbody>\n",
       "    <tr>\n",
       "      <th rowspan=\"2\" valign=\"top\">0</th>\n",
       "      <th>1</th>\n",
       "      <td>0.3</td>\n",
       "      <td>1.3</td>\n",
       "      <td>&lt;gurobi.Var y[0,1]&gt;</td>\n",
       "      <td>&lt;gurobi.Var z[0,1]&gt;</td>\n",
       "      <td>&lt;gurobi.Constr c1[0,1]&gt;</td>\n",
       "    </tr>\n",
       "    <tr>\n",
       "      <th>2</th>\n",
       "      <td>1.2</td>\n",
       "      <td>1.7</td>\n",
       "      <td>&lt;gurobi.Var y[0,2]&gt;</td>\n",
       "      <td>&lt;gurobi.Var z[0,2]&gt;</td>\n",
       "      <td>&lt;gurobi.Constr c1[0,2]&gt;</td>\n",
       "    </tr>\n",
       "    <tr>\n",
       "      <th>1</th>\n",
       "      <th>0</th>\n",
       "      <td>0.7</td>\n",
       "      <td>1.4</td>\n",
       "      <td>&lt;gurobi.Var y[1,0]&gt;</td>\n",
       "      <td>&lt;gurobi.Var z[1,0]&gt;</td>\n",
       "      <td>&lt;gurobi.Constr c1[1,0]&gt;</td>\n",
       "    </tr>\n",
       "    <tr>\n",
       "      <th rowspan=\"2\" valign=\"top\">2</th>\n",
       "      <th>0</th>\n",
       "      <td>0.9</td>\n",
       "      <td>1.1</td>\n",
       "      <td>&lt;gurobi.Var y[2,0]&gt;</td>\n",
       "      <td>&lt;gurobi.Var z[2,0]&gt;</td>\n",
       "      <td>&lt;gurobi.Constr c1[2,0]&gt;</td>\n",
       "    </tr>\n",
       "    <tr>\n",
       "      <th>1</th>\n",
       "      <td>1.2</td>\n",
       "      <td>0.9</td>\n",
       "      <td>&lt;gurobi.Var y[2,1]&gt;</td>\n",
       "      <td>&lt;gurobi.Var z[2,1]&gt;</td>\n",
       "      <td>&lt;gurobi.Constr c1[2,1]&gt;</td>\n",
       "    </tr>\n",
       "  </tbody>\n",
       "</table>\n",
       "</div>"
      ],
      "text/plain": [
       "       u    c                    y                    z  \\\n",
       "i j                                                       \n",
       "0 1  0.3  1.3  <gurobi.Var y[0,1]>  <gurobi.Var z[0,1]>   \n",
       "  2  1.2  1.7  <gurobi.Var y[0,2]>  <gurobi.Var z[0,2]>   \n",
       "1 0  0.7  1.4  <gurobi.Var y[1,0]>  <gurobi.Var z[1,0]>   \n",
       "2 0  0.9  1.1  <gurobi.Var y[2,0]>  <gurobi.Var z[2,0]>   \n",
       "  1  1.2  0.9  <gurobi.Var y[2,1]>  <gurobi.Var z[2,1]>   \n",
       "\n",
       "                          c1  \n",
       "i j                           \n",
       "0 1  <gurobi.Constr c1[0,1]>  \n",
       "  2  <gurobi.Constr c1[0,2]>  \n",
       "1 0  <gurobi.Constr c1[1,0]>  \n",
       "2 0  <gurobi.Constr c1[2,0]>  \n",
       "  1  <gurobi.Constr c1[2,1]>  "
      ]
     },
     "execution_count": 13,
     "metadata": {},
     "output_type": "execute_result"
    }
   ],
   "source": [
    "vars_and_constrs = variables.gppd.add_constrs(  \n",
    "    model, \"y + z <= 1\", name=\"c1\"\n",
    ")\n",
    "vars_and_constrs"
   ]
  },
  {
   "cell_type": "markdown",
   "id": "8de3d54d",
   "metadata": {
    "slideshow": {
     "slide_type": "subslide"
    }
   },
   "source": [
    "# Setting Objectives\n",
    "\n",
    "Generally one objective (not an index-wise operation)\n",
    "\n",
    "So we use `gurobipy` methods here"
   ]
  },
  {
   "cell_type": "code",
   "execution_count": 14,
   "id": "b6b3ab6f",
   "metadata": {},
   "outputs": [
    {
     "data": {
      "text/plain": [
       "<gurobi.LinExpr: 1.3 x[0,1] + 1.7 x[0,2] + 1.4 x[1,0] + 1.1 x[2,0] + 0.9 x[2,1]>"
      ]
     },
     "execution_count": 14,
     "metadata": {},
     "output_type": "execute_result"
    }
   ],
   "source": [
    "(x * data[\"c\"]).sum()"
   ]
  },
  {
   "cell_type": "code",
   "execution_count": 15,
   "id": "2bc45a92",
   "metadata": {},
   "outputs": [],
   "source": [
    "model.setObjective((x * data[\"c\"]).sum(), sense=GRB.MAXIMIZE)"
   ]
  },
  {
   "cell_type": "markdown",
   "id": "1312d26b",
   "metadata": {
    "slideshow": {
     "slide_type": "subslide"
    }
   },
   "source": [
    "# Extracting Solutions\n",
    "\n",
    "(Solve the model first)"
   ]
  },
  {
   "cell_type": "code",
   "execution_count": 16,
   "id": "85f55a4c",
   "metadata": {},
   "outputs": [
    {
     "data": {
      "text/plain": [
       "i  j\n",
       "0  1    0.3\n",
       "   2    1.2\n",
       "1  0    0.7\n",
       "2  0    0.9\n",
       "   1    1.2\n",
       "Name: x, dtype: float64"
      ]
     },
     "execution_count": 16,
     "metadata": {},
     "output_type": "execute_result"
    }
   ],
   "source": [
    "model.optimize()\n",
    "x.gppd.X  # Series accessor"
   ]
  },
  {
   "cell_type": "markdown",
   "id": "d4a22b39",
   "metadata": {
    "slideshow": {
     "slide_type": "subslide"
    }
   },
   "source": [
    "# Other Series accessor functionality"
   ]
  },
  {
   "cell_type": "code",
   "execution_count": 17,
   "id": "0c8a15ca",
   "metadata": {
    "slideshow": {
     "slide_type": "subslide"
    }
   },
   "outputs": [
    {
     "data": {
      "text/plain": [
       "i  j\n",
       "0  1    <gurobi.Constr c1[0,1]>\n",
       "   2    <gurobi.Constr c1[0,2]>\n",
       "1  0    <gurobi.Constr c1[1,0]>\n",
       "2  0    <gurobi.Constr c1[2,0]>\n",
       "   1    <gurobi.Constr c1[2,1]>\n",
       "Name: c1, dtype: object"
      ]
     },
     "execution_count": 17,
     "metadata": {},
     "output_type": "execute_result"
    }
   ],
   "source": [
    "vars_and_constrs['c1']"
   ]
  },
  {
   "cell_type": "code",
   "execution_count": 18,
   "id": "c16e73d7",
   "metadata": {
    "slideshow": {
     "slide_type": "fragment"
    }
   },
   "outputs": [
    {
     "data": {
      "text/plain": [
       "i  j\n",
       "0  1    1.0\n",
       "   2    1.0\n",
       "1  0    1.0\n",
       "2  0    1.0\n",
       "   1    1.0\n",
       "Name: c1, dtype: float64"
      ]
     },
     "execution_count": 18,
     "metadata": {},
     "output_type": "execute_result"
    }
   ],
   "source": [
    "vars_and_constrs['c1'].gppd.Slack"
   ]
  },
  {
   "cell_type": "code",
   "execution_count": 19,
   "id": "bc27da98",
   "metadata": {
    "slideshow": {
     "slide_type": "subslide"
    }
   },
   "outputs": [
    {
     "data": {
      "text/plain": [
       "i  j\n",
       "0  1    0.5 + 2.0 x[0,1] + y[0,1]\n",
       "   2    0.5 + 2.0 x[0,2] + y[0,2]\n",
       "1  0    0.5 + 2.0 x[1,0] + y[1,0]\n",
       "2  0    0.5 + 2.0 x[2,0] + y[2,0]\n",
       "   1    0.5 + 2.0 x[2,1] + y[2,1]\n",
       "dtype: object"
      ]
     },
     "execution_count": 19,
     "metadata": {},
     "output_type": "execute_result"
    }
   ],
   "source": [
    "expr = 2.0 * x + variables['y'] + 0.5\n",
    "expr"
   ]
  },
  {
   "cell_type": "code",
   "execution_count": 20,
   "id": "69b53a24",
   "metadata": {
    "slideshow": {
     "slide_type": "fragment"
    }
   },
   "outputs": [
    {
     "data": {
      "text/plain": [
       "i  j\n",
       "0  1    1.1\n",
       "   2    2.9\n",
       "1  0    1.9\n",
       "2  0    2.3\n",
       "   1    2.9\n",
       "dtype: float64"
      ]
     },
     "execution_count": 20,
     "metadata": {},
     "output_type": "execute_result"
    }
   ],
   "source": [
    "expr.gppd.get_value()"
   ]
  },
  {
   "cell_type": "markdown",
   "id": "242b35c8",
   "metadata": {
    "slideshow": {
     "slide_type": "slide"
    }
   },
   "source": [
    "# Example\n",
    "\n",
    "[Project-Team Allocation](https://gurobi-optimization-gurobipy-pandas.readthedocs-hosted.com/en/latest/examples/projects.html). Key points:\n",
    "\n",
    "- *Before* taking any modelling steps: prepare your data properly\n",
    "    - Clearly define your model indexes, and align your dataframes to these indexes\n",
    "    - Keep data reading & cleaning separate from model building\n",
    "- Solutions are read back as numeric pandas data\n",
    "    - Plug directly into the rest of pydata ecosystem for post-processing\n",
    "    - Work pandonically with the results"
   ]
  },
  {
   "cell_type": "markdown",
   "id": "3241e60b",
   "metadata": {
    "slideshow": {
     "slide_type": "subslide"
    }
   },
   "source": [
    "- Show mathematical model\n",
    "- Talk through the indexes and data"
   ]
  },
  {
   "cell_type": "markdown",
   "id": "1d2dbfdf",
   "metadata": {
    "slideshow": {
     "slide_type": "subslide"
    }
   },
   "source": [
    "- Show the prepared dataframes\n",
    "- Correct dtypes, no missing values, sparse index"
   ]
  },
  {
   "cell_type": "markdown",
   "id": "8b29661b",
   "metadata": {
    "slideshow": {
     "slide_type": "subslide"
    }
   },
   "source": [
    "- Walk through the code"
   ]
  },
  {
   "cell_type": "markdown",
   "id": "b52c8845",
   "metadata": {
    "slideshow": {
     "slide_type": "slide"
    }
   },
   "source": [
    "# More examples are available\n",
    "\n",
    "https://gurobi-optimization-gurobipy-pandas.readthedocs-hosted.com/en/latest/examples.html"
   ]
  },
  {
   "cell_type": "markdown",
   "id": "c9d3e62b",
   "metadata": {
    "slideshow": {
     "slide_type": "slide"
    }
   },
   "source": [
    "# Performance\n",
    "\n",
    "[Dedicated page in the docs](https://gurobi-optimization-gurobipy-pandas.readthedocs-hosted.com/en/latest/performance.html). Key points:\n",
    "\n",
    "- `gurobipy-pandas` won't magically make your model building code fast\n",
    "- The API provides some structure to take *well-organized and prepared data* and help you build *clearly defined models* in the pandas style"
   ]
  },
  {
   "cell_type": "markdown",
   "id": "19576d89",
   "metadata": {
    "slideshow": {
     "slide_type": "slide"
    }
   },
   "source": [
    "# Final thoughts\n",
    "\n",
    "- [Read the docs](https://gurobi-optimization-gurobipy-pandas.readthedocs-hosted.com/en/latest/index.html)\n",
    "    - Check the examples for clean patterns to emulate\n",
    "- [Check the repo](https://github.com/Gurobi/gurobipy-pandas)\n",
    "    - Bugs? Feature request? Open an issue\n",
    "- [Discuss!](https://support.gurobi.com/hc/en-us/community/topics/10373864542609-GitHub-Projects%3E)\n",
    "    - For usage questions"
   ]
  },
  {
   "cell_type": "markdown",
   "id": "1e5c8202",
   "metadata": {
    "slideshow": {
     "slide_type": "slide"
    }
   },
   "source": [
    "# Thanks!\n",
    "\n",
    "Questions?"
   ]
  }
 ],
 "metadata": {
  "celltoolbar": "Slideshow",
  "kernelspec": {
   "display_name": "gurobipy-pandas",
   "language": "python",
   "name": "gurobipy-pandas"
  },
  "language_info": {
   "codemirror_mode": {
    "name": "ipython",
    "version": 3
   },
   "file_extension": ".py",
   "mimetype": "text/x-python",
   "name": "python",
   "nbconvert_exporter": "python",
   "pygments_lexer": "ipython3",
   "version": "3.11.1"
  }
 },
 "nbformat": 4,
 "nbformat_minor": 5
}
