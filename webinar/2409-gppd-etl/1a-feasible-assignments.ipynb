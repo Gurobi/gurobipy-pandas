{
 "cells": [
  {
   "cell_type": "markdown",
   "id": "2d469673",
   "metadata": {},
   "source": [
    "## Feasible assignments\n",
    "\n",
    "This task extracts feasible staff-shift assignments from the SQL database and writes them to a temporary file."
   ]
  },
  {
   "cell_type": "code",
   "execution_count": null,
   "id": "6b519a8c-e837-4e9d-9e2f-6d59491992b8",
   "metadata": {},
   "outputs": [],
   "source": [
    "import pathlib\n",
    "\n",
    "model_data_path = pathlib.Path(\"./model_data/\").resolve()\n",
    "db_path = pathlib.Path(\"./sample_data/staffing.db\").resolve()"
   ]
  },
  {
   "cell_type": "code",
   "execution_count": null,
   "id": "7e2ddfa4-b77e-43ad-8484-bf01849fece0",
   "metadata": {},
   "outputs": [],
   "source": [
    "import pandas as pd\n",
    "from sqlalchemy import create_engine, text\n",
    "\n",
    "engine = create_engine(f\"sqlite:///{db_path}\")"
   ]
  },
  {
   "cell_type": "code",
   "execution_count": null,
   "id": "d0ec4e9c-1515-429d-8b82-558dff87d30c",
   "metadata": {},
   "outputs": [],
   "source": [
    "query = \"\"\"\n",
    "SELECT\n",
    "    shifts.id as shift_id,\n",
    "    staff_qualifications.staff_id as staff_id\n",
    "FROM shifts\n",
    "INNER JOIN staff_qualifications ON (\n",
    "    staff_qualifications.qualification_id = shifts.qualification_id\n",
    ")\n",
    "INNER JOIN availability ON (\n",
    "    availability.staff_id == staff_qualifications.staff_id\n",
    "    AND shifts.start_time >= availability.from_time\n",
    "    AND shifts.end_time <= availability.to_time\n",
    ")\n",
    "INNER JOIN staff on (\n",
    "    staff_qualifications.staff_id == staff.id\n",
    ")\n",
    "WHERE staff.active == 1\n",
    "\"\"\"\n",
    "\n",
    "with engine.connect() as connection:\n",
    "    feasible_assignments = pd.read_sql(text(query), connection)\n",
    "\n",
    "feasible_assignments.to_feather(model_data_path / \"feasible_assignments.feather\")"
   ]
  },
  {
   "cell_type": "code",
   "execution_count": null,
   "id": "1203f2cd-fa44-4c27-bcb9-b03c3a3ce348",
   "metadata": {},
   "outputs": [],
   "source": [
    "feasible_assignments.sample(4)"
   ]
  }
 ],
 "metadata": {
  "language_info": {
   "name": "python"
  }
 },
 "nbformat": 4,
 "nbformat_minor": 5
}
