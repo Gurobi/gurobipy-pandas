{
 "cells": [
  {
   "cell_type": "markdown",
   "id": "7252cb11",
   "metadata": {},
   "source": [
    "## Optimization\n",
    "\n",
    "This task loads the model input dataframes from temporary files written by tasks 1a, 1b & 1c, formulates and solves the optimization model using Gurobi, and writes the results to a temporary file."
   ]
  },
  {
   "cell_type": "code",
   "execution_count": null,
   "id": "8d3c67f6-63e0-40bb-9570-4e2b7fe43da1",
   "metadata": {},
   "outputs": [],
   "source": [
    "# If running in databricks, fetch Gurobi cloud license key from secrets.\n",
    "# If unavailable, use Gurobi's free size-limited license to run the job.\n",
    "\n",
    "try:\n",
    "    gurobi_params = {\n",
    "        \"CloudAccessID\": dbutils.secrets.get(\"grbcloud\", \"CloudAccessID\"),\n",
    "        \"CloudSecretKey\": dbutils.secrets.get(\"grbcloud\", \"CloudSecretKey\"),\n",
    "        \"LicenseID\": int(dbutils.secrets.get(\"grbcloud\", \"LicenseID\")),\n",
    "        \"CSAppName\": dbutils.secrets.get(\"grbcloud\", \"CSAppName\"),\n",
    "        \"CloudPool\": dbutils.secrets.get(\"grbcloud\", \"CloudPool\"),\n",
    "    }\n",
    "except Exception as e:\n",
    "    print(\"Databricks secrets are not set up.\")\n",
    "    print(f\"Error message: {e}\")\n",
    "    print(\"Using Gurobi size-limited license.\")\n",
    "    gurobi_params = {}"
   ]
  },
  {
   "cell_type": "code",
   "execution_count": null,
   "id": "676c6152-4584-4695-835d-9661a045de80",
   "metadata": {},
   "outputs": [],
   "source": [
    "import pathlib\n",
    "\n",
    "model_data_path = pathlib.Path(\"./model_data/\").resolve()"
   ]
  },
  {
   "cell_type": "code",
   "execution_count": null,
   "id": "30a6c09e-63db-471d-bb01-b6585dd25937",
   "metadata": {},
   "outputs": [],
   "source": [
    "import gurobipy as gp\n",
    "from gurobipy import GRB\n",
    "import pandas as pd\n",
    "import gurobipy_pandas as gppd"
   ]
  },
  {
   "cell_type": "code",
   "execution_count": null,
   "id": "abd26d61-ac91-4c33-86f1-445cbd5d77c3",
   "metadata": {},
   "outputs": [],
   "source": [
    "feasible_assignments = pd.read_feather(model_data_path / \"feasible_assignments.feather\")\n",
    "staff_required = pd.read_feather(model_data_path / \"staff_required.feather\")\n",
    "shift_conflicts = pd.read_feather(model_data_path / \"shift_conflicts.feather\")"
   ]
  },
  {
   "cell_type": "code",
   "execution_count": null,
   "id": "6b64827e-9ec2-48e2-b835-4c7510fc4467",
   "metadata": {},
   "outputs": [],
   "source": [
    "with gp.Env(params=gurobi_params) as env, gp.Model(env=env) as model:\n",
    "\n",
    "    model.ModelSense = GRB.MAXIMIZE\n",
    "    assign = gppd.add_vars(\n",
    "        model,\n",
    "        feasible_assignments.set_index([\"staff_id\", \"shift_id\"]),\n",
    "        obj=1.0,\n",
    "        vtype=GRB.BINARY,\n",
    "        name=\"assign\",\n",
    "    )\n",
    "    \n",
    "    constr_requires = gppd.add_constrs(\n",
    "        model,\n",
    "        assign.groupby(\"shift_id\").sum(),\n",
    "        GRB.LESS_EQUAL,\n",
    "        staff_required[\"staff_count\"],\n",
    "        name=\"staffing\",\n",
    "    )\n",
    "\n",
    "    df_conflict_vars = (\n",
    "        shift_conflicts\n",
    "        .join(assign.rename(\"assign1\"), on=[\"staff_id\", \"shift1_id\"])\n",
    "        .join(assign.rename(\"assign2\"), on=[\"staff_id\", \"shift2_id\"])\n",
    "        .dropna()\n",
    "    )\n",
    "\n",
    "    constr_conflicts = df_conflict_vars.gppd.add_constrs(\n",
    "        model,\n",
    "        \"assign1 + assign2 <= 1\",\n",
    "        name=\"conflict\",\n",
    "    )\n",
    "\n",
    "    model.optimize()\n",
    "\n",
    "    assignments = assign.gppd.X\n",
    "    assignments = assignments[assignments == 1.0].reset_index().drop(columns=[\"assign\"])\n",
    "\n",
    "assignments.to_feather(model_data_path / \"assignments.feather\")"
   ]
  },
  {
   "cell_type": "code",
   "execution_count": null,
   "id": "b9149846-3832-4c8b-8ee4-11a2731ad90c",
   "metadata": {},
   "outputs": [],
   "source": [
    "assignments.sample(5)"
   ]
  }
 ],
 "metadata": {
  "language_info": {
   "name": "python"
  }
 },
 "nbformat": 4,
 "nbformat_minor": 5
}
