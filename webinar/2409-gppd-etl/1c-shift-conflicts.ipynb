{
 "cells": [
  {
   "cell_type": "markdown",
   "id": "efc3362c",
   "metadata": {},
   "source": [
    "## Shift conflicts\n",
    "\n",
    "This task extracts pairwise conflicts between shifts for each staff member and writes them to a temporary file."
   ]
  },
  {
   "cell_type": "code",
   "execution_count": null,
   "id": "8fc372ab-2c3a-448f-9d13-2dd261f873a2",
   "metadata": {},
   "outputs": [],
   "source": [
    "import pathlib\n",
    "\n",
    "model_data_path = pathlib.Path(\"./model_data/\").resolve()\n",
    "db_path = pathlib.Path(\"./sample_data/staffing.db\").resolve()"
   ]
  },
  {
   "cell_type": "code",
   "execution_count": null,
   "id": "b01de209-3ed6-4b31-b6b0-54fe7f863d77",
   "metadata": {},
   "outputs": [],
   "source": [
    "import pandas as pd\n",
    "from sqlalchemy import create_engine, text\n",
    "\n",
    "engine = create_engine(f\"sqlite:///{db_path}\")"
   ]
  },
  {
   "cell_type": "code",
   "execution_count": null,
   "id": "8f826b91-b902-4dc3-83ce-6c4d1565b9db",
   "metadata": {},
   "outputs": [],
   "source": [
    "query = \"\"\"\n",
    "SELECT\n",
    "    s1.id as shift1_id,\n",
    "    s2.id as shift2_id,\n",
    "    staff.id as staff_id\n",
    "FROM shifts s1\n",
    "INNER JOIN shifts s2\n",
    "INNER JOIN staff\n",
    "ON s2.start_time >= s1.start_time\n",
    "AND s2.start_time <= s1.end_time\n",
    "AND s1.id < s2.id\n",
    "\"\"\"\n",
    "\n",
    "with engine.connect() as connection:\n",
    "    shift_conflicts = pd.read_sql(text(query), connection)\n",
    "\n",
    "shift_conflicts.to_feather(model_data_path / \"shift_conflicts.feather\")"
   ]
  },
  {
   "cell_type": "code",
   "execution_count": null,
   "id": "3e1dd52d-db4f-4821-9e5d-9b5cb0a5eb50",
   "metadata": {},
   "outputs": [],
   "source": [
    "shift_conflicts.sample(4)"
   ]
  }
 ],
 "metadata": {
  "language_info": {
   "name": "python"
  }
 },
 "nbformat": 4,
 "nbformat_minor": 5
}
