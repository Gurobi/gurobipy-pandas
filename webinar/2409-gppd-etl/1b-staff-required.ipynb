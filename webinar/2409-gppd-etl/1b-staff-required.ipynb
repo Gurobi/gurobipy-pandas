{
 "cells": [
  {
   "cell_type": "markdown",
   "id": "b48cf940",
   "metadata": {},
   "source": [
    "## Shift requirements\n",
    "\n",
    "This task extracts staffing requirements for each shift from the SQL database and writes them to a temporary file."
   ]
  },
  {
   "cell_type": "code",
   "execution_count": null,
   "id": "dcaf9aa5-0b4c-4168-8ef5-a9880a60e311",
   "metadata": {},
   "outputs": [],
   "source": [
    "import pathlib\n",
    "\n",
    "model_data_path = pathlib.Path(\"./model_data/\").resolve()\n",
    "db_path = pathlib.Path(\"./sample_data/staffing.db\").resolve()"
   ]
  },
  {
   "cell_type": "code",
   "execution_count": null,
   "id": "b01de209-3ed6-4b31-b6b0-54fe7f863d77",
   "metadata": {},
   "outputs": [],
   "source": [
    "import pandas as pd\n",
    "from sqlalchemy import create_engine, text\n",
    "\n",
    "engine = create_engine(f\"sqlite:///{db_path}\")"
   ]
  },
  {
   "cell_type": "code",
   "execution_count": null,
   "id": "628315ac-5c02-427d-b217-b502ec734fb0",
   "metadata": {},
   "outputs": [],
   "source": [
    "query = \"\"\"\n",
    "SELECT id as shift_id, staff_count\n",
    "FROM shifts\n",
    "WHERE start_time BETWEEN '2023-04-01T00:00:00Z' and '2023-05-30T00:00:00Z'\n",
    "\"\"\"\n",
    "\n",
    "with engine.connect() as connection:\n",
    "    staff_required = pd.read_sql(text(query), connection, index_col=\"shift_id\")\n",
    "\n",
    "staff_required.to_feather(model_data_path / \"staff_required.feather\")"
   ]
  },
  {
   "cell_type": "code",
   "execution_count": null,
   "id": "ce485953-230b-4974-b185-5be21d98ebc9",
   "metadata": {},
   "outputs": [],
   "source": [
    "staff_required.sample(4)"
   ]
  }
 ],
 "metadata": {
  "language_info": {
   "name": "python"
  }
 },
 "nbformat": 4,
 "nbformat_minor": 5
}
