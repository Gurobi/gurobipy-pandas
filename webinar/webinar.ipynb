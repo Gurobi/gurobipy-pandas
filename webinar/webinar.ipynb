{
 "cells": [
  {
   "cell_type": "markdown",
   "id": "58fdf594",
   "metadata": {
    "slideshow": {
     "slide_type": "slide"
    }
   },
   "source": [
    "<div class=\"titlepage\">\n",
    "    \n",
    "## gurobipy-pandas\n",
    "### Building optimization models from pandas dataframes\n",
    "\n",
    "<br><br><br>\n",
    "Simon Bowly<br>\n",
    "Optimization Engineer\n",
    "\n",
    "<br>\n",
    "\n",
    "https://github.com/Gurobi/gurobipy-pandas#webinar\n",
    "    \n",
    "</div>"
   ]
  },
  {
   "cell_type": "markdown",
   "id": "0eab627f",
   "metadata": {
    "slideshow": {
     "slide_type": "subslide"
    }
   },
   "source": [
    "## gurobipy\n",
    "\n",
    "- Python API for the [Gurobi Optimizer](https://www.gurobi.com/solutions/gurobi-optimizer/)\n",
    "- Commercially licensed; developed and supported by Gurobi\n",
    "- [Documentation](https://www.gurobi.com/documentation/current/refman/py_python_api_overview.html) on the Gurobi website\n",
    "- Provides a translation layer from maths to Python code\n",
    "\n",
    "$$\n",
    "\\begin{alignat}{3}\n",
    "\\max \\quad & x + y + 2z \\\\\n",
    "\\mbox{s.t.} \\quad & x + 2y + 3z \\,\\, & \\le 4 \\\\\n",
    "                  & x + y & \\ge 1\n",
    "\\end{alignat}\n",
    "$$\n",
    "\n",
    "```python\n",
    "x = m.addVar(vtype=GRB.BINARY, name=\"x\")\n",
    "...\n",
    "m.setObjective(x + y + 2 * z, GRB.MAXIMIZE)\n",
    "m.addConstr(x + 2 * y + 3 * z <= 4, \"c0\")\n",
    "...\n",
    "```"
   ]
  },
  {
   "cell_type": "markdown",
   "id": "f4c5e248",
   "metadata": {
    "slideshow": {
     "slide_type": "subslide"
    }
   },
   "source": [
    "## pandas\n",
    "\n",
    "- Flexible data analysis and manipulation tool for Python\n",
    "- Open source at [github.com/pandas-dev/pandas](https://github.com/pandas-dev/pandas)\n",
    "- NumFOCUS sponsored project\n",
    "- [Documentation](https://pandas.pydata.org/) on pydata.org\n",
    "- Provides DataFrames for Python; plus I/O, analysis, plotting & more\n",
    "- Standard package for analytics projects in Python"
   ]
  },
  {
   "cell_type": "markdown",
   "id": "8366eca2",
   "metadata": {
    "slideshow": {
     "slide_type": "subslide"
    }
   },
   "source": [
    "## gurobipy-pandas\n",
    "\n",
    "- Linking package between `gurobipy` and `pandas`\n",
    "- Open source at [github.com/Gurobi/gurobipy-pandas](https://github.com/Gurobi/gurobipy-pandas)\n",
    "- Developed by several enthusiasts at Gurobi, with input from Princeton Consultants\n",
    "- [Documentation](https://gurobi-optimization-gurobipy-pandas.readthedocs-hosted.com/en/latest) on readthedocs\n",
    "- Allows users to build Gurobi models from Pandas data in a readable way"
   ]
  },
  {
   "cell_type": "markdown",
   "id": "03ea15d5",
   "metadata": {
    "slideshow": {
     "slide_type": "slide"
    }
   },
   "source": [
    "## In this session:\n",
    "\n",
    "- Overview of `gurobipy-pandas` design\n",
    "- Basic usage mechanics\n",
    "    - Creating variables\n",
    "    - Building expressions using series of variables and data\n",
    "    - Creating constraints\n",
    "    - Retrieving solutions\n",
    "- A complete modelling example"
   ]
  },
  {
   "cell_type": "markdown",
   "id": "b7f4000a",
   "metadata": {
    "slideshow": {
     "slide_type": "slide"
    }
   },
   "source": [
    "## Design Principles\n",
    "\n",
    "Optimization models define all data, variables, and constraints over indexes:\n",
    "\n",
    "$$\n",
    "\\begin{alignat}{3}\n",
    "\\max \\quad        & \\sum_{i \\in I} c_i x_i \\\\\n",
    "\\mbox{s.t.} \\quad & \\sum_{i \\in I} a_i x_i \\le b \\\\\n",
    "                  & x_{i} \\in \\lbrace 0, 1 \\rbrace & \\forall i \\in I \\\\\n",
    "\\end{alignat}\n",
    "$$\n",
    "\n",
    "These mathematical indices provide a clear way to structure data in code."
   ]
  },
  {
   "cell_type": "markdown",
   "id": "311de466",
   "metadata": {
    "slideshow": {
     "slide_type": "subslide"
    }
   },
   "source": [
    "## Design Principles\n",
    "\n",
    "- Pandas DataFrames and Series already define *data* over indexes"
   ]
  },
  {
   "cell_type": "code",
   "execution_count": 1,
   "id": "ce924faf",
   "metadata": {
    "slideshow": {
     "slide_type": "-"
    }
   },
   "outputs": [
    {
     "data": {
      "text/html": [
       "<div>\n",
       "<style scoped>\n",
       "    .dataframe tbody tr th:only-of-type {\n",
       "        vertical-align: middle;\n",
       "    }\n",
       "\n",
       "    .dataframe tbody tr th {\n",
       "        vertical-align: top;\n",
       "    }\n",
       "\n",
       "    .dataframe thead th {\n",
       "        text-align: right;\n",
       "    }\n",
       "</style>\n",
       "<table border=\"1\" class=\"dataframe\">\n",
       "  <thead>\n",
       "    <tr style=\"text-align: right;\">\n",
       "      <th></th>\n",
       "      <th>a</th>\n",
       "      <th>b</th>\n",
       "    </tr>\n",
       "    <tr>\n",
       "      <th>i</th>\n",
       "      <th></th>\n",
       "      <th></th>\n",
       "    </tr>\n",
       "  </thead>\n",
       "  <tbody>\n",
       "    <tr>\n",
       "      <th>0</th>\n",
       "      <td>0.45</td>\n",
       "      <td>0.08</td>\n",
       "    </tr>\n",
       "    <tr>\n",
       "      <th>1</th>\n",
       "      <td>0.57</td>\n",
       "      <td>0.48</td>\n",
       "    </tr>\n",
       "    <tr>\n",
       "      <th>2</th>\n",
       "      <td>0.10</td>\n",
       "      <td>0.95</td>\n",
       "    </tr>\n",
       "    <tr>\n",
       "      <th>3</th>\n",
       "      <td>0.05</td>\n",
       "      <td>0.43</td>\n",
       "    </tr>\n",
       "  </tbody>\n",
       "</table>\n",
       "</div>"
      ],
      "text/plain": [
       "      a     b\n",
       "i            \n",
       "0  0.45  0.08\n",
       "1  0.57  0.48\n",
       "2  0.10  0.95\n",
       "3  0.05  0.43"
      ]
     },
     "execution_count": 1,
     "metadata": {},
     "output_type": "execute_result"
    }
   ],
   "source": [
    "import pandas as pd\n",
    "import numpy as np\n",
    "\n",
    "df = pd.DataFrame(\n",
    "    index=pd.RangeIndex(4, name=\"i\"),\n",
    "    columns=[\"a\", \"b\"],\n",
    "    data=np.random.random((4, 2)).round(2)\n",
    ")\n",
    "df"
   ]
  },
  {
   "cell_type": "markdown",
   "id": "66b936c1",
   "metadata": {
    "slideshow": {
     "slide_type": "-"
    }
   },
   "source": [
    "- We need a way to *define variables* and *build constraints* over the same indexes"
   ]
  },
  {
   "cell_type": "markdown",
   "id": "f10969d2",
   "metadata": {
    "slideshow": {
     "slide_type": "subslide"
    }
   },
   "source": [
    "# Design Principles\n",
    "\n",
    "`gurobipy-pandas` provides:\n",
    "\n",
    "- Methods to create pandas-indexed series of variables\n",
    "- Methods to build constraints from expressions\n",
    "- Accessors to extract solutions as pandas structures\n",
    "\n",
    "`pandas` provides:\n",
    "\n",
    "- Existing algebraic/split-apply-combine logic\n",
    "- Well known syntax and methods"
   ]
  },
  {
   "cell_type": "markdown",
   "id": "db89dff0",
   "metadata": {
    "slideshow": {
     "slide_type": "notes"
    }
   },
   "source": [
    "- With pandas, we are already set up to define all our data over various indexes, aligned with the mathematical model.\n",
    "- What we are missing:\n",
    "    - Easy way to define/construct variables over the same indexes using pandas structures\n",
    "    - Methods to transform data and variables into constraint expressions (actually, we just leverage pandas' capabilities here)\n",
    "    - Easy way to take the resulting expressions and build constraints from them"
   ]
  },
  {
   "cell_type": "markdown",
   "id": "c8c8aede",
   "metadata": {
    "slideshow": {
     "slide_type": "slide"
    }
   },
   "source": [
    "# Installation and Imports\n",
    "\n",
    "```\n",
    "pip install gurobipy-pandas\n",
    "```"
   ]
  },
  {
   "cell_type": "code",
   "execution_count": 2,
   "id": "59a2c9f8",
   "metadata": {
    "slideshow": {
     "slide_type": "-"
    }
   },
   "outputs": [],
   "source": [
    "import pandas as pd\n",
    "import gurobipy as gp\n",
    "from gurobipy import GRB\n",
    "import gurobipy_pandas as gppd\n",
    "\n",
    "# Handy trick for live coding, not for production\n",
    "gppd.set_interactive()\n",
    "\n",
    "# Quiet please\n",
    "gp.setParam('OutputFlag', 0)"
   ]
  },
  {
   "cell_type": "markdown",
   "id": "fbcbbdca",
   "metadata": {
    "slideshow": {
     "slide_type": "notes"
    }
   },
   "source": [
    "- If you're familiar with gurobipy, you'll know `model.update()` is needed to read back changes.\n",
    "- `set_interactive` enforces that `update()` is called by every `gurobipy-pandas` method.\n",
    "- In interactive mode you can immediately read back names and properties for variables and constraints you've created (handy for debugging).\n",
    "- `OutputFlag=0` suppresses all Gurobi logging, so we can focus on the inputs and outputs (not recommended in general, as the logs can be very informative)."
   ]
  },
  {
   "cell_type": "markdown",
   "id": "7b94b2b7",
   "metadata": {
    "slideshow": {
     "slide_type": "slide"
    }
   },
   "source": [
    "## Usage\n",
    "\n",
    "- `gurobipy` is the entry point for:\n",
    "    - creating models\n",
    "    - starting optimization\n",
    "    - constants, status codes, etc\n",
    "- `gurobipy-pandas` provides accessors and functions to:\n",
    "    - create sets of variables based on indexes\n",
    "    - create constraints based on aligned series\n",
    "    - extract solutions as series"
   ]
  },
  {
   "cell_type": "code",
   "execution_count": 3,
   "id": "9d8eae30",
   "metadata": {
    "slideshow": {
     "slide_type": "-"
    }
   },
   "outputs": [],
   "source": [
    "# Create a gurobipy model\n",
    "model = gp.Model()"
   ]
  },
  {
   "cell_type": "markdown",
   "id": "68ce3586",
   "metadata": {
    "slideshow": {
     "slide_type": "notes"
    }
   },
   "source": [
    "- `gurobipy-pandas` purely consists of modelling functions\n",
    "- All model creation and solver control uses `gurobipy`, all data handling uses `pandas`"
   ]
  },
  {
   "cell_type": "markdown",
   "id": "5b07ff1f",
   "metadata": {
    "slideshow": {
     "slide_type": "slide"
    }
   },
   "source": [
    "## Creating variables\n",
    "\n",
    "Using the free function `gppd.add_vars`:\n",
    "\n",
    "- Creates one variable per entry in the index\n",
    "- Returns a pandas `Series` of gurobipy `Var` objects\n",
    "- Variable names are based on index values\n",
    "- Variable attributes can be set"
   ]
  },
  {
   "cell_type": "code",
   "execution_count": 4,
   "id": "38157c8c",
   "metadata": {
    "slideshow": {
     "slide_type": "-"
    }
   },
   "outputs": [
    {
     "data": {
      "text/plain": [
       "RangeIndex(start=0, stop=5, step=1, name='i')"
      ]
     },
     "execution_count": 4,
     "metadata": {},
     "output_type": "execute_result"
    }
   ],
   "source": [
    "i = pd.RangeIndex(5, name=\"i\")\n",
    "i"
   ]
  },
  {
   "cell_type": "code",
   "execution_count": 5,
   "id": "878abfa4",
   "metadata": {
    "slideshow": {
     "slide_type": "fragment"
    }
   },
   "outputs": [
    {
     "data": {
      "text/plain": [
       "i\n",
       "0    <gurobi.Var x[0]>\n",
       "1    <gurobi.Var x[1]>\n",
       "2    <gurobi.Var x[2]>\n",
       "3    <gurobi.Var x[3]>\n",
       "4    <gurobi.Var x[4]>\n",
       "Name: x, dtype: object"
      ]
     },
     "execution_count": 5,
     "metadata": {},
     "output_type": "execute_result"
    }
   ],
   "source": [
    "x = gppd.add_vars(model, i, name=\"x\", vtype=\"B\")\n",
    "x"
   ]
  },
  {
   "cell_type": "markdown",
   "id": "dfc5a735",
   "metadata": {
    "slideshow": {
     "slide_type": "notes"
    }
   },
   "source": [
    "- Here we set the variable type to binary, but otherwise no other attributes"
   ]
  },
  {
   "cell_type": "markdown",
   "id": "13b35a07",
   "metadata": {
    "slideshow": {
     "slide_type": "subslide"
    }
   },
   "source": [
    "## Creating variables\n",
    "\n",
    "Using the `DataFrame.gppd` accessor:\n",
    "- A new dataframe is returned with an appended column of Vars\n",
    "- Variable attributes can be populated from dataframe columns"
   ]
  },
  {
   "cell_type": "code",
   "execution_count": 6,
   "id": "134d0cb6",
   "metadata": {
    "slideshow": {
     "slide_type": "-"
    }
   },
   "outputs": [
    {
     "data": {
      "text/html": [
       "<div>\n",
       "<style scoped>\n",
       "    .dataframe tbody tr th:only-of-type {\n",
       "        vertical-align: middle;\n",
       "    }\n",
       "\n",
       "    .dataframe tbody tr th {\n",
       "        vertical-align: top;\n",
       "    }\n",
       "\n",
       "    .dataframe thead th {\n",
       "        text-align: right;\n",
       "    }\n",
       "</style>\n",
       "<table border=\"1\" class=\"dataframe\">\n",
       "  <thead>\n",
       "    <tr style=\"text-align: right;\">\n",
       "      <th></th>\n",
       "      <th>u</th>\n",
       "    </tr>\n",
       "    <tr>\n",
       "      <th>i</th>\n",
       "      <th></th>\n",
       "    </tr>\n",
       "  </thead>\n",
       "  <tbody>\n",
       "    <tr>\n",
       "      <th>0</th>\n",
       "      <td>1.4</td>\n",
       "    </tr>\n",
       "    <tr>\n",
       "      <th>1</th>\n",
       "      <td>0.2</td>\n",
       "    </tr>\n",
       "    <tr>\n",
       "      <th>2</th>\n",
       "      <td>0.7</td>\n",
       "    </tr>\n",
       "  </tbody>\n",
       "</table>\n",
       "</div>"
      ],
      "text/plain": [
       "     u\n",
       "i     \n",
       "0  1.4\n",
       "1  0.2\n",
       "2  0.7"
      ]
     },
     "execution_count": 6,
     "metadata": {},
     "output_type": "execute_result"
    }
   ],
   "source": [
    "data = pd.DataFrame(index=pd.RangeIndex(3, name=\"i\"),\n",
    "                    data=[1.4, 0.2, 0.7], columns=['u'])\n",
    "data"
   ]
  },
  {
   "cell_type": "code",
   "execution_count": 7,
   "id": "54eb2a32",
   "metadata": {
    "slideshow": {
     "slide_type": "fragment"
    }
   },
   "outputs": [
    {
     "data": {
      "text/html": [
       "<div>\n",
       "<style scoped>\n",
       "    .dataframe tbody tr th:only-of-type {\n",
       "        vertical-align: middle;\n",
       "    }\n",
       "\n",
       "    .dataframe tbody tr th {\n",
       "        vertical-align: top;\n",
       "    }\n",
       "\n",
       "    .dataframe thead th {\n",
       "        text-align: right;\n",
       "    }\n",
       "</style>\n",
       "<table border=\"1\" class=\"dataframe\">\n",
       "  <thead>\n",
       "    <tr style=\"text-align: right;\">\n",
       "      <th></th>\n",
       "      <th>u</th>\n",
       "      <th>y</th>\n",
       "    </tr>\n",
       "    <tr>\n",
       "      <th>i</th>\n",
       "      <th></th>\n",
       "      <th></th>\n",
       "    </tr>\n",
       "  </thead>\n",
       "  <tbody>\n",
       "    <tr>\n",
       "      <th>0</th>\n",
       "      <td>1.4</td>\n",
       "      <td>&lt;gurobi.Var y[0]&gt;</td>\n",
       "    </tr>\n",
       "    <tr>\n",
       "      <th>1</th>\n",
       "      <td>0.2</td>\n",
       "      <td>&lt;gurobi.Var y[1]&gt;</td>\n",
       "    </tr>\n",
       "    <tr>\n",
       "      <th>2</th>\n",
       "      <td>0.7</td>\n",
       "      <td>&lt;gurobi.Var y[2]&gt;</td>\n",
       "    </tr>\n",
       "  </tbody>\n",
       "</table>\n",
       "</div>"
      ],
      "text/plain": [
       "     u                  y\n",
       "i                        \n",
       "0  1.4  <gurobi.Var y[0]>\n",
       "1  0.2  <gurobi.Var y[1]>\n",
       "2  0.7  <gurobi.Var y[2]>"
      ]
     },
     "execution_count": 7,
     "metadata": {},
     "output_type": "execute_result"
    }
   ],
   "source": [
    "variables = data.gppd.add_vars(model, name=\"y\", ub=\"u\")\n",
    "variables"
   ]
  },
  {
   "cell_type": "markdown",
   "id": "3f579721",
   "metadata": {
    "slideshow": {
     "slide_type": "notes"
    }
   },
   "source": [
    "- The accessor allows pandas method chaining style to be used\n",
    "- Upper bound for each variable is set to the value in the given column of the DataFrame\n",
    "- Variable type is continuous (the default)"
   ]
  },
  {
   "cell_type": "markdown",
   "id": "84a7448a",
   "metadata": {
    "slideshow": {
     "slide_type": "slide"
    }
   },
   "source": [
    "# Creating Expressions\n",
    "\n",
    "- Pandas handles this for us\n",
    "- We always leverage pandas-native functions\n",
    "- Common operations:\n",
    "    - summation\n",
    "    - arithmetic operations\n",
    "    - groupby (split-apply-combine) operations\n",
    "- Let's explore some common mathematical expressions"
   ]
  },
  {
   "cell_type": "markdown",
   "id": "368828c6",
   "metadata": {
    "slideshow": {
     "slide_type": "subslide"
    }
   },
   "source": [
    "## Single indexes\n",
    "\n",
    "Consider an index $i \\in I$, some variables $x_i$, and some data $c_i$:"
   ]
  },
  {
   "cell_type": "code",
   "execution_count": 8,
   "id": "6d5fe84b",
   "metadata": {
    "slideshow": {
     "slide_type": "-"
    }
   },
   "outputs": [
    {
     "data": {
      "text/plain": [
       "RangeIndex(start=0, stop=5, step=1, name='i')"
      ]
     },
     "execution_count": 8,
     "metadata": {},
     "output_type": "execute_result"
    }
   ],
   "source": [
    "i = pd.RangeIndex(5, name=\"i\")\n",
    "i"
   ]
  },
  {
   "cell_type": "code",
   "execution_count": 9,
   "id": "31129014",
   "metadata": {
    "slideshow": {
     "slide_type": "-"
    }
   },
   "outputs": [
    {
     "data": {
      "text/plain": [
       "i\n",
       "0    <gurobi.Var x[0]>\n",
       "1    <gurobi.Var x[1]>\n",
       "2    <gurobi.Var x[2]>\n",
       "3    <gurobi.Var x[3]>\n",
       "4    <gurobi.Var x[4]>\n",
       "Name: x, dtype: object"
      ]
     },
     "execution_count": 9,
     "metadata": {},
     "output_type": "execute_result"
    }
   ],
   "source": [
    "x = gppd.add_vars(model, i, name=\"x\")\n",
    "x"
   ]
  },
  {
   "cell_type": "code",
   "execution_count": 10,
   "id": "9f2ba5b3",
   "metadata": {
    "slideshow": {
     "slide_type": "-"
    }
   },
   "outputs": [
    {
     "data": {
      "text/plain": [
       "i\n",
       "0    1\n",
       "1    2\n",
       "2    3\n",
       "3    4\n",
       "4    5\n",
       "Name: c, dtype: int64"
      ]
     },
     "execution_count": 10,
     "metadata": {},
     "output_type": "execute_result"
    }
   ],
   "source": [
    "c = pd.Series(index=i, name=\"c\", data=np.arange(1, 6))\n",
    "c"
   ]
  },
  {
   "cell_type": "markdown",
   "id": "3123a56c",
   "metadata": {
    "slideshow": {
     "slide_type": "subslide"
    }
   },
   "source": [
    "## Arithmetic with scalars\n",
    "\n",
    "$$\n",
    "2 x_i + 5 \\quad \\forall i \\in I\n",
    "$$\n",
    "\n",
    "- Produce a new series on the same index\n",
    "- One linear expression per entry in the index"
   ]
  },
  {
   "cell_type": "code",
   "execution_count": 11,
   "id": "e8e10e3c",
   "metadata": {
    "slideshow": {
     "slide_type": "-"
    }
   },
   "outputs": [
    {
     "data": {
      "text/plain": [
       "i\n",
       "0    5.0 + 2.0 x[0]\n",
       "1    5.0 + 2.0 x[1]\n",
       "2    5.0 + 2.0 x[2]\n",
       "3    5.0 + 2.0 x[3]\n",
       "4    5.0 + 2.0 x[4]\n",
       "Name: x, dtype: object"
      ]
     },
     "execution_count": 11,
     "metadata": {},
     "output_type": "execute_result"
    }
   ],
   "source": [
    "2*x + 5"
   ]
  },
  {
   "cell_type": "markdown",
   "id": "10a0f185",
   "metadata": {
    "slideshow": {
     "slide_type": "subslide"
    }
   },
   "source": [
    "## Summation\n",
    "\n",
    "$$\n",
    "\\sum_i x_i\n",
    "$$\n",
    "\n",
    "- Produce a single linear expression\n",
    "- Sums the whole series over the index"
   ]
  },
  {
   "cell_type": "code",
   "execution_count": 12,
   "id": "9e3c1dd2",
   "metadata": {
    "slideshow": {
     "slide_type": "-"
    }
   },
   "outputs": [
    {
     "data": {
      "text/plain": [
       "<gurobi.LinExpr: x[0] + x[1] + x[2] + x[3] + x[4]>"
      ]
     },
     "execution_count": 12,
     "metadata": {},
     "output_type": "execute_result"
    }
   ],
   "source": [
    "x.sum()"
   ]
  },
  {
   "cell_type": "markdown",
   "id": "f0429f4d",
   "metadata": {
    "slideshow": {
     "slide_type": "subslide"
    }
   },
   "source": [
    "## Arithmetic with Series\n",
    "\n",
    "$$\n",
    "c_i x_i \\quad \\forall i \\in I\n",
    "$$\n",
    "\n",
    "- Produce a new series on the same index\n",
    "- Pointwise product for each entry in the index"
   ]
  },
  {
   "cell_type": "code",
   "execution_count": 13,
   "id": "5467e4f1",
   "metadata": {
    "slideshow": {
     "slide_type": "-"
    }
   },
   "outputs": [
    {
     "data": {
      "text/plain": [
       "i\n",
       "0        x[0]\n",
       "1    2.0 x[1]\n",
       "2    3.0 x[2]\n",
       "3    4.0 x[3]\n",
       "4    5.0 x[4]\n",
       "dtype: object"
      ]
     },
     "execution_count": 13,
     "metadata": {},
     "output_type": "execute_result"
    }
   ],
   "source": [
    "c * x"
   ]
  },
  {
   "cell_type": "markdown",
   "id": "b0fc7c7d",
   "metadata": {
    "slideshow": {
     "slide_type": "subslide"
    }
   },
   "source": [
    "## Summing the result\n",
    "\n",
    "$$\n",
    "\\sum_{i \\in I} c_i x_i\n",
    "$$\n",
    "\n",
    "- Produce a single linear expression\n",
    "- Take our pointwise product series, sum over the index"
   ]
  },
  {
   "cell_type": "code",
   "execution_count": 14,
   "id": "511ad6d3",
   "metadata": {
    "slideshow": {
     "slide_type": "-"
    }
   },
   "outputs": [
    {
     "data": {
      "text/plain": [
       "<gurobi.LinExpr: x[0] + 2.0 x[1] + 3.0 x[2] + 4.0 x[3] + 5.0 x[4]>"
      ]
     },
     "execution_count": 14,
     "metadata": {},
     "output_type": "execute_result"
    }
   ],
   "source": [
    "(c * x).sum()"
   ]
  },
  {
   "cell_type": "markdown",
   "id": "0ec68aa2",
   "metadata": {
    "slideshow": {
     "slide_type": "subslide"
    }
   },
   "source": [
    "## Looking Familiar?\n",
    "\n",
    "Hopefully!\n",
    "\n",
    "Any operation you would do with data in pandas, you can do in the same way with data & variables."
   ]
  },
  {
   "cell_type": "markdown",
   "id": "d2427e6c",
   "metadata": {
    "slideshow": {
     "slide_type": "notes"
    }
   },
   "source": [
    "- To pandas users, hopefully the above code statements come naturally.\n",
    "- There's no magic here. A pandas series can store `gurobipy` native modelling objects."
   ]
  },
  {
   "cell_type": "markdown",
   "id": "17ddabdc",
   "metadata": {
    "slideshow": {
     "slide_type": "subslide"
    }
   },
   "source": [
    "## Multi-Index\n",
    "\n",
    "- Multi-indexes allow us to add dimensions for data and variables\n",
    "- Start with an example DataFrame, representing the data $p_{ij}$"
   ]
  },
  {
   "cell_type": "code",
   "execution_count": 15,
   "id": "90652cec",
   "metadata": {
    "slideshow": {
     "slide_type": "-"
    }
   },
   "outputs": [
    {
     "data": {
      "text/html": [
       "<div>\n",
       "<style scoped>\n",
       "    .dataframe tbody tr th:only-of-type {\n",
       "        vertical-align: middle;\n",
       "    }\n",
       "\n",
       "    .dataframe tbody tr th {\n",
       "        vertical-align: top;\n",
       "    }\n",
       "\n",
       "    .dataframe thead th {\n",
       "        text-align: right;\n",
       "    }\n",
       "</style>\n",
       "<table border=\"1\" class=\"dataframe\">\n",
       "  <thead>\n",
       "    <tr style=\"text-align: right;\">\n",
       "      <th></th>\n",
       "      <th></th>\n",
       "      <th>p</th>\n",
       "    </tr>\n",
       "    <tr>\n",
       "      <th>i</th>\n",
       "      <th>j</th>\n",
       "      <th></th>\n",
       "    </tr>\n",
       "  </thead>\n",
       "  <tbody>\n",
       "    <tr>\n",
       "      <th rowspan=\"2\" valign=\"top\">0</th>\n",
       "      <th>1</th>\n",
       "      <td>0.1</td>\n",
       "    </tr>\n",
       "    <tr>\n",
       "      <th>2</th>\n",
       "      <td>0.6</td>\n",
       "    </tr>\n",
       "    <tr>\n",
       "      <th>1</th>\n",
       "      <th>0</th>\n",
       "      <td>1.2</td>\n",
       "    </tr>\n",
       "    <tr>\n",
       "      <th rowspan=\"2\" valign=\"top\">2</th>\n",
       "      <th>0</th>\n",
       "      <td>0.4</td>\n",
       "    </tr>\n",
       "    <tr>\n",
       "      <th>1</th>\n",
       "      <td>0.9</td>\n",
       "    </tr>\n",
       "  </tbody>\n",
       "</table>\n",
       "</div>"
      ],
      "text/plain": [
       "       p\n",
       "i j     \n",
       "0 1  0.1\n",
       "  2  0.6\n",
       "1 0  1.2\n",
       "2 0  0.4\n",
       "  1  0.9"
      ]
     },
     "execution_count": 15,
     "metadata": {},
     "output_type": "execute_result"
    }
   ],
   "source": [
    "data = pd.DataFrame({\n",
    "    \"i\": [0, 0, 1, 2, 2],\n",
    "    \"j\": [1, 2, 0, 0, 1],\n",
    "    \"p\": [0.1, 0.6, 1.2, 0.4, 0.9],\n",
    "}).set_index([\"i\", \"j\"])\n",
    "data"
   ]
  },
  {
   "cell_type": "markdown",
   "id": "981a093d",
   "metadata": {
    "slideshow": {
     "slide_type": "subslide"
    }
   },
   "source": [
    "## Multi-Index\n",
    "\n",
    "- Add corresponding variables $y_{ij}$ as a Series:"
   ]
  },
  {
   "cell_type": "code",
   "execution_count": 16,
   "id": "51602578",
   "metadata": {
    "slideshow": {
     "slide_type": "-"
    }
   },
   "outputs": [
    {
     "data": {
      "text/plain": [
       "i  j\n",
       "0  1    <gurobi.Var y[0,1]>\n",
       "   2    <gurobi.Var y[0,2]>\n",
       "1  0    <gurobi.Var y[1,0]>\n",
       "2  0    <gurobi.Var y[2,0]>\n",
       "   1    <gurobi.Var y[2,1]>\n",
       "Name: y, dtype: object"
      ]
     },
     "execution_count": 16,
     "metadata": {},
     "output_type": "execute_result"
    }
   ],
   "source": [
    "y = gppd.add_vars(model, data, name=\"y\")\n",
    "y"
   ]
  },
  {
   "cell_type": "markdown",
   "id": "0a18e3c1",
   "metadata": {
    "slideshow": {
     "slide_type": "notes"
    }
   },
   "source": [
    "- Note that we just pass the dataframe and get back a matching index\n",
    "- This is how the mathematical model is structured: 1:1 correspondence between data and variables over a given index"
   ]
  },
  {
   "cell_type": "markdown",
   "id": "b49557eb",
   "metadata": {
    "slideshow": {
     "slide_type": "subslide"
    }
   },
   "source": [
    "## Grouped summation\n",
    "\n",
    "$$\n",
    "\\sum_{i \\in I} y_{ij} \\quad \\forall j \\in J\n",
    "$$\n",
    "\n",
    "- For each $j$, sum $y_{ij}$ terms over all corresponding valid $i$ values\n",
    "- Produces a Series of linear expressions, indexed by $j$"
   ]
  },
  {
   "cell_type": "code",
   "execution_count": 17,
   "id": "2478ffd1",
   "metadata": {
    "slideshow": {
     "slide_type": "-"
    }
   },
   "outputs": [
    {
     "data": {
      "text/plain": [
       "j\n",
       "0        y[1,0] + y[2,0]\n",
       "1        y[0,1] + y[2,1]\n",
       "2    <gurobi.Var y[0,2]>\n",
       "Name: y, dtype: object"
      ]
     },
     "execution_count": 17,
     "metadata": {},
     "output_type": "execute_result"
    }
   ],
   "source": [
    "y.groupby(\"j\").sum()"
   ]
  },
  {
   "cell_type": "markdown",
   "id": "209d6e2f",
   "metadata": {
    "slideshow": {
     "slide_type": "notes"
    }
   },
   "source": [
    "- index specified in `groupby` matches `\\forall`.\n",
    "- `.sum()` reduces over the remaining index levels.\n",
    "- Note: *valid* $j$ values. This multi-index is sparse. Not every $(i, j)$ pair is represented.\n",
    "- Pandas handles this sparsity without any special handling by the user."
   ]
  },
  {
   "cell_type": "markdown",
   "id": "40aaf76a",
   "metadata": {
    "slideshow": {
     "slide_type": "subslide"
    }
   },
   "source": [
    "## Align data on partial indexes\n",
    "\n",
    "$$\n",
    "c_j y_{ij} \\quad \\forall i, j\n",
    "$$\n",
    "\n",
    "- For each $y_{ij}$ and $c_j$, join on the corresponding $j$\n",
    "- Pandas defines how this alignment is done\n",
    "- Index *names* are important"
   ]
  },
  {
   "cell_type": "code",
   "execution_count": 18,
   "id": "17118c97",
   "metadata": {
    "slideshow": {
     "slide_type": "-"
    }
   },
   "outputs": [
    {
     "data": {
      "text/plain": [
       "j\n",
       "0    1.0\n",
       "1    2.0\n",
       "2    3.0\n",
       "Name: c, dtype: float64"
      ]
     },
     "execution_count": 18,
     "metadata": {},
     "output_type": "execute_result"
    }
   ],
   "source": [
    "c = pd.Series(index=pd.RangeIndex(3, name='j'),\n",
    "              data=[1.0, 2.0, 3.0], name=\"c\")\n",
    "c"
   ]
  },
  {
   "cell_type": "code",
   "execution_count": 19,
   "id": "c9746075",
   "metadata": {
    "slideshow": {
     "slide_type": "-"
    }
   },
   "outputs": [
    {
     "data": {
      "text/plain": [
       "i  j\n",
       "0  1    2.0 y[0,1]\n",
       "   2    3.0 y[0,2]\n",
       "1  0        y[1,0]\n",
       "2  0        y[2,0]\n",
       "   1    2.0 y[2,1]\n",
       "dtype: object"
      ]
     },
     "execution_count": 19,
     "metadata": {},
     "output_type": "execute_result"
    }
   ],
   "source": [
    "c * y"
   ]
  },
  {
   "cell_type": "markdown",
   "id": "d4433150",
   "metadata": {
    "slideshow": {
     "slide_type": "subslide"
    }
   },
   "source": [
    "## Pandas arithmetic 'rules'\n",
    "\n",
    "- Pandas aligns before applying operators: see [align](https://pandas.pydata.org/docs/reference/api/pandas.DataFrame.align.html) and [add](https://pandas.pydata.org/docs/reference/api/pandas.DataFrame.add.html)\n",
    "- Note that this alignment is all performed by pandas, according to pandas internal rules (joining, matching, aligning, broadcasting)"
   ]
  },
  {
   "cell_type": "markdown",
   "id": "d1e3b3bb",
   "metadata": {
    "slideshow": {
     "slide_type": "subslide"
    }
   },
   "source": [
    "## Finally...\n",
    "\n",
    "$$\n",
    "\\sum_{j \\in J} c_j y_{ij} \\quad \\forall i \\in I\n",
    "$$\n",
    "\n",
    "- Use the series `c * y`\n",
    "- Apply the same groupby-aggregate operation as before\n",
    "- Result is a series indexed by $i$"
   ]
  },
  {
   "cell_type": "code",
   "execution_count": 20,
   "id": "53c8ec6d",
   "metadata": {
    "slideshow": {
     "slide_type": "-"
    }
   },
   "outputs": [
    {
     "data": {
      "text/plain": [
       "i\n",
       "0    2.0 y[0,1] + 3.0 y[0,2]\n",
       "1                     y[1,0]\n",
       "2        y[2,0] + 2.0 y[2,1]\n",
       "dtype: object"
      ]
     },
     "execution_count": 20,
     "metadata": {},
     "output_type": "execute_result"
    }
   ],
   "source": [
    "(c * y).groupby(\"i\").sum()"
   ]
  },
  {
   "cell_type": "markdown",
   "id": "de11a76d",
   "metadata": {
    "slideshow": {
     "slide_type": "notes"
    }
   },
   "source": [
    "- We've arrived at a general/typical form appearing in optimization models\n",
    "- We have almost everything we need to build sets of constraints"
   ]
  },
  {
   "cell_type": "markdown",
   "id": "2bc01ee7",
   "metadata": {
    "slideshow": {
     "slide_type": "subslide"
    }
   },
   "source": [
    "# Creating Constraints\n",
    "\n",
    "- Indexes must align between two series\n",
    "- Aim to build vectorized constraints (no manual iteration)\n",
    "\n",
    "$$\n",
    "\\sum_j c_j y_{ij} \\le b_i \\quad \\forall i \\in I\n",
    "$$"
   ]
  },
  {
   "cell_type": "code",
   "execution_count": 21,
   "id": "b278c927",
   "metadata": {
    "slideshow": {
     "slide_type": "-"
    }
   },
   "outputs": [
    {
     "data": {
      "text/plain": [
       "i\n",
       "0    2.0 y[0,1] + 3.0 y[0,2]\n",
       "1                     y[1,0]\n",
       "2        y[2,0] + 2.0 y[2,1]\n",
       "dtype: object"
      ]
     },
     "execution_count": 21,
     "metadata": {},
     "output_type": "execute_result"
    }
   ],
   "source": [
    "(c * y).groupby(\"i\").sum()"
   ]
  },
  {
   "cell_type": "code",
   "execution_count": 22,
   "id": "7879ee02",
   "metadata": {
    "slideshow": {
     "slide_type": "-"
    }
   },
   "outputs": [
    {
     "data": {
      "text/plain": [
       "i\n",
       "0    1\n",
       "1    2\n",
       "2    3\n",
       "dtype: int64"
      ]
     },
     "execution_count": 22,
     "metadata": {},
     "output_type": "execute_result"
    }
   ],
   "source": [
    "b = pd.Series(index=pd.RangeIndex(3, name=\"i\"), data=[1, 2, 3])\n",
    "b"
   ]
  },
  {
   "cell_type": "markdown",
   "id": "4a36ee60",
   "metadata": {
    "slideshow": {
     "slide_type": "notes"
    }
   },
   "source": [
    "- We know how to build the left- and right-hand sides of the expression\n",
    "- What's left is to add them to the model"
   ]
  },
  {
   "cell_type": "markdown",
   "id": "3667c233",
   "metadata": {
    "slideshow": {
     "slide_type": "subslide"
    }
   },
   "source": [
    "## Using free functions\n",
    "\n",
    "- Use `gppd.add_constrs` free function\n",
    "- Return a series of constraint handles"
   ]
  },
  {
   "cell_type": "code",
   "execution_count": 23,
   "id": "9217b28b",
   "metadata": {
    "slideshow": {
     "slide_type": "-"
    }
   },
   "outputs": [
    {
     "data": {
      "text/plain": [
       "i\n",
       "0    <gurobi.Constr constr[0]>\n",
       "1    <gurobi.Constr constr[1]>\n",
       "2    <gurobi.Constr constr[2]>\n",
       "Name: constr, dtype: object"
      ]
     },
     "execution_count": 23,
     "metadata": {},
     "output_type": "execute_result"
    }
   ],
   "source": [
    "constraints = gppd.add_constrs(  \n",
    "    model,\n",
    "    (c * y).groupby(\"i\").sum(),  # left-hand side\n",
    "    GRB.LESS_EQUAL,              # inequality (sense)\n",
    "    b,                           # right-hand side\n",
    "    name=\"constr\",\n",
    ")\n",
    "constraints"
   ]
  },
  {
   "cell_type": "markdown",
   "id": "fb9826c2",
   "metadata": {
    "slideshow": {
     "slide_type": "notes"
    }
   },
   "source": [
    "- `gppd.add_constrs` adds the constraints to the model\n",
    "- One constraint per index entry was added\n",
    "- A series of gurobipy objects are returned (handles to the new constraints)\n",
    "- The returned series is based on the same index as the inputs"
   ]
  },
  {
   "cell_type": "markdown",
   "id": "cbd92b26",
   "metadata": {
    "slideshow": {
     "slide_type": "subslide"
    }
   },
   "source": [
    "## Inspecting the result\n",
    "\n",
    "- Check linear terms using `model.getRow`\n",
    "- Coefficients in the `RHS` attribute"
   ]
  },
  {
   "cell_type": "code",
   "execution_count": 24,
   "id": "d6a8bf5f",
   "metadata": {
    "slideshow": {
     "slide_type": "-"
    }
   },
   "outputs": [
    {
     "data": {
      "text/plain": [
       "i\n",
       "0    2.0 y[0,1] + 3.0 y[0,2]\n",
       "1                     y[1,0]\n",
       "2        y[2,0] + 2.0 y[2,1]\n",
       "Name: constr, dtype: object"
      ]
     },
     "execution_count": 24,
     "metadata": {},
     "output_type": "execute_result"
    }
   ],
   "source": [
    "constraints.apply(model.getRow)"
   ]
  },
  {
   "cell_type": "code",
   "execution_count": 25,
   "id": "82741a6d",
   "metadata": {
    "slideshow": {
     "slide_type": "fragment"
    }
   },
   "outputs": [
    {
     "data": {
      "text/plain": [
       "i\n",
       "0    1.0\n",
       "1    2.0\n",
       "2    3.0\n",
       "Name: constr, dtype: float64"
      ]
     },
     "execution_count": 25,
     "metadata": {},
     "output_type": "execute_result"
    }
   ],
   "source": [
    "constraints.gppd.RHS"
   ]
  },
  {
   "cell_type": "markdown",
   "id": "b0ad0077",
   "metadata": {
    "slideshow": {
     "slide_type": "notes"
    }
   },
   "source": [
    "- `apply` should be familar: this is in general not efficient when handling data, but ok for debugging & checking purposes\n",
    "- `.gppd.RHS` is the first *Series accessor* we've seen\n",
    "- Series accessors extract a series of attributes from a series of `gurobipy` objects"
   ]
  },
  {
   "cell_type": "markdown",
   "id": "b8336e1c",
   "metadata": {
    "slideshow": {
     "slide_type": "subslide"
    }
   },
   "source": [
    "## Missing data\n",
    "\n",
    "- Unaligned data is filled in arithmetic operations\n",
    "- Missing data is represented with `NaN`s"
   ]
  },
  {
   "cell_type": "code",
   "execution_count": 26,
   "id": "f13c3de6",
   "metadata": {
    "slideshow": {
     "slide_type": "-"
    }
   },
   "outputs": [
    {
     "data": {
      "text/plain": [
       "i\n",
       "0    1.0 + -2.0 y[0,1] + -3.0 y[0,2]\n",
       "1                  2.0 + -1.0 y[1,0]\n",
       "2    3.0 + -1.0 y[2,0] + -2.0 y[2,1]\n",
       "3                                NaN\n",
       "dtype: object"
      ]
     },
     "execution_count": 26,
     "metadata": {},
     "output_type": "execute_result"
    }
   ],
   "source": [
    "# Data on a different index\n",
    "b = pd.Series(index=pd.RangeIndex(4, name=\"i\"), data=[1, 2, 3, 4])\n",
    "\n",
    "# An arithmetic operation would give missing values\n",
    "b - (c * y).groupby(\"i\").sum()"
   ]
  },
  {
   "cell_type": "markdown",
   "id": "cc2b8395",
   "metadata": {
    "slideshow": {
     "slide_type": "subslide"
    }
   },
   "source": [
    "## Missing data\n",
    "\n",
    "- Unaligned or missing data is an error when adding constraints"
   ]
  },
  {
   "cell_type": "code",
   "execution_count": 27,
   "id": "6d04c4b9",
   "metadata": {
    "scrolled": false,
    "slideshow": {
     "slide_type": "-"
    }
   },
   "outputs": [
    {
     "name": "stderr",
     "output_type": "stream",
     "text": [
      "ERROR:root:FAILED\n",
      "Traceback (most recent call last):\n",
      "  File \"/var/folders/4r/6_qcvl013q38j8jjt4txhygm0002yk/T/ipykernel_52820/3157923601.py\", line 2, in <module>\n",
      "    gppd.add_constrs(model, (c * y).groupby(\"i\").sum(),\n",
      "  File \"/Users/bowly/workspaces/gurobipy-pandas/src/gurobipy_pandas/api.py\", line 198, in add_constrs\n",
      "    return add_constrs_from_series(\n",
      "           ^^^^^^^^^^^^^^^^^^^^^^^^\n",
      "  File \"/Users/bowly/workspaces/gurobipy-pandas/src/gurobipy_pandas/constraints.py\", line 74, in add_constrs_from_series\n",
      "    raise KeyError(\"series must be aligned\")\n",
      "KeyError: 'series must be aligned'\n"
     ]
    }
   ],
   "source": [
    "try:\n",
    "    gppd.add_constrs(model, (c * y).groupby(\"i\").sum(),\n",
    "                     GRB.LESS_EQUAL, b, name=\"constr\")\n",
    "except:\n",
    "    import logging\n",
    "    logging.exception(\"FAILED\")"
   ]
  },
  {
   "cell_type": "markdown",
   "id": "0a3281fd",
   "metadata": {
    "slideshow": {
     "slide_type": "notes"
    }
   },
   "source": [
    "- *Important point*: if the left- and right-hand sides of a constraint don't align, then some data must be missing, or a variable was not properly defined.\n",
    "- This is a hard error in gurobipy pandas. The user must ensure no data is missing and indexes are aligned."
   ]
  },
  {
   "cell_type": "markdown",
   "id": "00095eac",
   "metadata": {
    "slideshow": {
     "slide_type": "subslide"
    }
   },
   "source": [
    "## Creating Constraints\n",
    "\n",
    "- Using `DataFrame.gppd` accessors\n",
    "- Enables method chaining"
   ]
  },
  {
   "cell_type": "code",
   "execution_count": 28,
   "id": "d417bebd",
   "metadata": {
    "slideshow": {
     "slide_type": "-"
    }
   },
   "outputs": [
    {
     "data": {
      "text/html": [
       "<div>\n",
       "<style scoped>\n",
       "    .dataframe tbody tr th:only-of-type {\n",
       "        vertical-align: middle;\n",
       "    }\n",
       "\n",
       "    .dataframe tbody tr th {\n",
       "        vertical-align: top;\n",
       "    }\n",
       "\n",
       "    .dataframe thead th {\n",
       "        text-align: right;\n",
       "    }\n",
       "</style>\n",
       "<table border=\"1\" class=\"dataframe\">\n",
       "  <thead>\n",
       "    <tr style=\"text-align: right;\">\n",
       "      <th></th>\n",
       "      <th></th>\n",
       "      <th>p</th>\n",
       "    </tr>\n",
       "    <tr>\n",
       "      <th>i</th>\n",
       "      <th>j</th>\n",
       "      <th></th>\n",
       "    </tr>\n",
       "  </thead>\n",
       "  <tbody>\n",
       "    <tr>\n",
       "      <th rowspan=\"2\" valign=\"top\">0</th>\n",
       "      <th>1</th>\n",
       "      <td>0.1</td>\n",
       "    </tr>\n",
       "    <tr>\n",
       "      <th>2</th>\n",
       "      <td>0.6</td>\n",
       "    </tr>\n",
       "    <tr>\n",
       "      <th>1</th>\n",
       "      <th>0</th>\n",
       "      <td>1.2</td>\n",
       "    </tr>\n",
       "    <tr>\n",
       "      <th rowspan=\"2\" valign=\"top\">2</th>\n",
       "      <th>0</th>\n",
       "      <td>0.4</td>\n",
       "    </tr>\n",
       "    <tr>\n",
       "      <th>1</th>\n",
       "      <td>0.9</td>\n",
       "    </tr>\n",
       "  </tbody>\n",
       "</table>\n",
       "</div>"
      ],
      "text/plain": [
       "       p\n",
       "i j     \n",
       "0 1  0.1\n",
       "  2  0.6\n",
       "1 0  1.2\n",
       "2 0  0.4\n",
       "  1  0.9"
      ]
     },
     "execution_count": 28,
     "metadata": {},
     "output_type": "execute_result"
    }
   ],
   "source": [
    "data = pd.DataFrame({\n",
    "    \"i\": [0, 0, 1, 2, 2],\n",
    "    \"j\": [1, 2, 0, 0, 1],\n",
    "    \"p\": [0.1, 0.6, 1.2, 0.4, 0.9],\n",
    "}).set_index([\"i\", \"j\"])\n",
    "data"
   ]
  },
  {
   "cell_type": "markdown",
   "id": "0d6eed4d",
   "metadata": {
    "slideshow": {
     "slide_type": "subslide"
    }
   },
   "source": [
    "## Creating Constraints\n",
    "\n",
    "- Use pandas `eval`-like syntax\n",
    "- One constraint added per row"
   ]
  },
  {
   "cell_type": "code",
   "execution_count": 29,
   "id": "6f9c6028",
   "metadata": {
    "slideshow": {
     "slide_type": "-"
    }
   },
   "outputs": [
    {
     "data": {
      "text/html": [
       "<div>\n",
       "<style scoped>\n",
       "    .dataframe tbody tr th:only-of-type {\n",
       "        vertical-align: middle;\n",
       "    }\n",
       "\n",
       "    .dataframe tbody tr th {\n",
       "        vertical-align: top;\n",
       "    }\n",
       "\n",
       "    .dataframe thead th {\n",
       "        text-align: right;\n",
       "    }\n",
       "</style>\n",
       "<table border=\"1\" class=\"dataframe\">\n",
       "  <thead>\n",
       "    <tr style=\"text-align: right;\">\n",
       "      <th></th>\n",
       "      <th></th>\n",
       "      <th>p</th>\n",
       "      <th>y</th>\n",
       "      <th>z</th>\n",
       "      <th>c1</th>\n",
       "    </tr>\n",
       "    <tr>\n",
       "      <th>i</th>\n",
       "      <th>j</th>\n",
       "      <th></th>\n",
       "      <th></th>\n",
       "      <th></th>\n",
       "      <th></th>\n",
       "    </tr>\n",
       "  </thead>\n",
       "  <tbody>\n",
       "    <tr>\n",
       "      <th rowspan=\"2\" valign=\"top\">0</th>\n",
       "      <th>1</th>\n",
       "      <td>0.1</td>\n",
       "      <td>&lt;gurobi.Var y[0,1]&gt;</td>\n",
       "      <td>&lt;gurobi.Var z[0,1]&gt;</td>\n",
       "      <td>&lt;gurobi.Constr c1[0,1]&gt;</td>\n",
       "    </tr>\n",
       "    <tr>\n",
       "      <th>2</th>\n",
       "      <td>0.6</td>\n",
       "      <td>&lt;gurobi.Var y[0,2]&gt;</td>\n",
       "      <td>&lt;gurobi.Var z[0,2]&gt;</td>\n",
       "      <td>&lt;gurobi.Constr c1[0,2]&gt;</td>\n",
       "    </tr>\n",
       "    <tr>\n",
       "      <th>1</th>\n",
       "      <th>0</th>\n",
       "      <td>1.2</td>\n",
       "      <td>&lt;gurobi.Var y[1,0]&gt;</td>\n",
       "      <td>&lt;gurobi.Var z[1,0]&gt;</td>\n",
       "      <td>&lt;gurobi.Constr c1[1,0]&gt;</td>\n",
       "    </tr>\n",
       "    <tr>\n",
       "      <th rowspan=\"2\" valign=\"top\">2</th>\n",
       "      <th>0</th>\n",
       "      <td>0.4</td>\n",
       "      <td>&lt;gurobi.Var y[2,0]&gt;</td>\n",
       "      <td>&lt;gurobi.Var z[2,0]&gt;</td>\n",
       "      <td>&lt;gurobi.Constr c1[2,0]&gt;</td>\n",
       "    </tr>\n",
       "    <tr>\n",
       "      <th>1</th>\n",
       "      <td>0.9</td>\n",
       "      <td>&lt;gurobi.Var y[2,1]&gt;</td>\n",
       "      <td>&lt;gurobi.Var z[2,1]&gt;</td>\n",
       "      <td>&lt;gurobi.Constr c1[2,1]&gt;</td>\n",
       "    </tr>\n",
       "  </tbody>\n",
       "</table>\n",
       "</div>"
      ],
      "text/plain": [
       "       p                    y                    z                       c1\n",
       "i j                                                                        \n",
       "0 1  0.1  <gurobi.Var y[0,1]>  <gurobi.Var z[0,1]>  <gurobi.Constr c1[0,1]>\n",
       "  2  0.6  <gurobi.Var y[0,2]>  <gurobi.Var z[0,2]>  <gurobi.Constr c1[0,2]>\n",
       "1 0  1.2  <gurobi.Var y[1,0]>  <gurobi.Var z[1,0]>  <gurobi.Constr c1[1,0]>\n",
       "2 0  0.4  <gurobi.Var y[2,0]>  <gurobi.Var z[2,0]>  <gurobi.Constr c1[2,0]>\n",
       "  1  0.9  <gurobi.Var y[2,1]>  <gurobi.Var z[2,1]>  <gurobi.Constr c1[2,1]>"
      ]
     },
     "execution_count": 29,
     "metadata": {},
     "output_type": "execute_result"
    }
   ],
   "source": [
    "vars_and_constrs = (\n",
    "    data\n",
    "    .gppd.add_vars(model, name=\"y\")\n",
    "    .gppd.add_vars(model, name=\"z\")\n",
    "    .gppd.add_constrs(model, \"y + z <= 1\", name=\"c1\")\n",
    ")\n",
    "vars_and_constrs"
   ]
  },
  {
   "cell_type": "code",
   "execution_count": 30,
   "id": "9bcfdb59",
   "metadata": {
    "slideshow": {
     "slide_type": "fragment"
    }
   },
   "outputs": [
    {
     "data": {
      "text/plain": [
       "i  j\n",
       "0  1    y[0,1] + z[0,1]\n",
       "   2    y[0,2] + z[0,2]\n",
       "1  0    y[1,0] + z[1,0]\n",
       "2  0    y[2,0] + z[2,0]\n",
       "   1    y[2,1] + z[2,1]\n",
       "Name: c1, dtype: object"
      ]
     },
     "execution_count": 30,
     "metadata": {},
     "output_type": "execute_result"
    }
   ],
   "source": [
    "vars_and_constrs[\"c1\"].apply(model.getRow)"
   ]
  },
  {
   "cell_type": "markdown",
   "id": "8de3d54d",
   "metadata": {
    "slideshow": {
     "slide_type": "subslide"
    }
   },
   "source": [
    "## Setting the Objective\n",
    "\n",
    "- Objectives are set from single expressions\n",
    "- No `gurobipy-pandas` method here (no vectorized operations)"
   ]
  },
  {
   "cell_type": "code",
   "execution_count": 31,
   "id": "2bc45a92",
   "metadata": {
    "slideshow": {
     "slide_type": "-"
    }
   },
   "outputs": [],
   "source": [
    "model.setObjective(y.sum(), sense=GRB.MAXIMIZE)"
   ]
  },
  {
   "cell_type": "code",
   "execution_count": 32,
   "id": "a00b8972",
   "metadata": {
    "slideshow": {
     "slide_type": "-"
    }
   },
   "outputs": [
    {
     "data": {
      "text/plain": [
       "<gurobi.LinExpr: y[0,1] + y[0,2] + y[1,0] + y[2,0] + y[2,1]>"
      ]
     },
     "execution_count": 32,
     "metadata": {},
     "output_type": "execute_result"
    }
   ],
   "source": [
    "model.update()\n",
    "model.getObjective()"
   ]
  },
  {
   "cell_type": "markdown",
   "id": "8cb9b140",
   "metadata": {
    "slideshow": {
     "slide_type": "notes"
    }
   },
   "source": [
    "- We need an update to read the objective back (`gppd.set_interactive()` only applies to `gurobipy-pandas` methods)"
   ]
  },
  {
   "cell_type": "markdown",
   "id": "1312d26b",
   "metadata": {
    "slideshow": {
     "slide_type": "subslide"
    }
   },
   "source": [
    "# Extracting Solutions\n",
    "\n",
    "- In `gurobipy`, solutions are retrieved from the `.X` attribute of a `Var`\n",
    "- `gppd` *Series accessor* vectorizes this operation\n",
    "- Works for any attributes (bounds, coefficients, RHS, etc)\n",
    "- Returns a Series on the same index"
   ]
  },
  {
   "cell_type": "code",
   "execution_count": 33,
   "id": "85f55a4c",
   "metadata": {
    "slideshow": {
     "slide_type": "-"
    }
   },
   "outputs": [
    {
     "data": {
      "text/plain": [
       "i  j\n",
       "0  1    0.5\n",
       "   2    0.0\n",
       "1  0    2.0\n",
       "2  0    3.0\n",
       "   1    0.0\n",
       "Name: y, dtype: float64"
      ]
     },
     "execution_count": 33,
     "metadata": {},
     "output_type": "execute_result"
    }
   ],
   "source": [
    "model.optimize()\n",
    "y.gppd.X  # Series accessor"
   ]
  },
  {
   "cell_type": "markdown",
   "id": "242b35c8",
   "metadata": {
    "slideshow": {
     "slide_type": "slide"
    }
   },
   "source": [
    "# Example\n",
    "\n",
    "- [Project-Team Allocation](https://gurobi-optimization-gurobipy-pandas.readthedocs-hosted.com/en/latest/examples/projects.html)\n",
    "- TODO: screenshot of docs page which presents this in more depth"
   ]
  },
  {
   "cell_type": "markdown",
   "id": "5174d532",
   "metadata": {
    "slideshow": {
     "slide_type": "subslide"
    }
   },
   "source": [
    "# The Model\n",
    "\n",
    "- Given a set of projects $i \\in I$ and teams $j \\in J$\n",
    "- Project $i$ requires $w_i$ resources to complete, and each team $j$ has capacity $c_j$\n",
    "- If team $j$ completes project $i$, we get profit $p_{ij}$\n",
    "- Our goal is to maximize the value of completed projects, respecting team capacities"
   ]
  },
  {
   "cell_type": "markdown",
   "id": "1d2dbfdf",
   "metadata": {
    "slideshow": {
     "slide_type": "subslide"
    }
   },
   "source": [
    "# The Data\n",
    "\n",
    "*Before* taking any modelling steps: prepare your data properly:\n",
    "- Clearly define your model indexes, and align your dataframes to these indexes\n",
    "- Keep data reading & cleaning separate from model building"
   ]
  },
  {
   "cell_type": "code",
   "execution_count": 34,
   "id": "df4c8a91",
   "metadata": {
    "slideshow": {
     "slide_type": "-"
    }
   },
   "outputs": [
    {
     "data": {
      "text/html": [
       "<div>\n",
       "<style scoped>\n",
       "    .dataframe tbody tr th:only-of-type {\n",
       "        vertical-align: middle;\n",
       "    }\n",
       "\n",
       "    .dataframe tbody tr th {\n",
       "        vertical-align: top;\n",
       "    }\n",
       "\n",
       "    .dataframe thead th {\n",
       "        text-align: right;\n",
       "    }\n",
       "</style>\n",
       "<table border=\"1\" class=\"dataframe\">\n",
       "  <thead>\n",
       "    <tr style=\"text-align: right;\">\n",
       "      <th></th>\n",
       "      <th>resource</th>\n",
       "    </tr>\n",
       "    <tr>\n",
       "      <th>project</th>\n",
       "      <th></th>\n",
       "    </tr>\n",
       "  </thead>\n",
       "  <tbody>\n",
       "    <tr>\n",
       "      <th>0</th>\n",
       "      <td>1.1</td>\n",
       "    </tr>\n",
       "    <tr>\n",
       "      <th>1</th>\n",
       "      <td>1.4</td>\n",
       "    </tr>\n",
       "    <tr>\n",
       "      <th>2</th>\n",
       "      <td>1.2</td>\n",
       "    </tr>\n",
       "  </tbody>\n",
       "</table>\n",
       "</div>"
      ],
      "text/plain": [
       "         resource\n",
       "project          \n",
       "0             1.1\n",
       "1             1.4\n",
       "2             1.2"
      ]
     },
     "execution_count": 34,
     "metadata": {},
     "output_type": "execute_result"
    }
   ],
   "source": [
    "projects = pd.read_csv(\"projects.csv\", index_col=\"project\")\n",
    "projects.head(3)"
   ]
  },
  {
   "cell_type": "code",
   "execution_count": 35,
   "id": "ccd22f10",
   "metadata": {
    "slideshow": {
     "slide_type": "-"
    }
   },
   "outputs": [
    {
     "data": {
      "text/html": [
       "<div>\n",
       "<style scoped>\n",
       "    .dataframe tbody tr th:only-of-type {\n",
       "        vertical-align: middle;\n",
       "    }\n",
       "\n",
       "    .dataframe tbody tr th {\n",
       "        vertical-align: top;\n",
       "    }\n",
       "\n",
       "    .dataframe thead th {\n",
       "        text-align: right;\n",
       "    }\n",
       "</style>\n",
       "<table border=\"1\" class=\"dataframe\">\n",
       "  <thead>\n",
       "    <tr style=\"text-align: right;\">\n",
       "      <th></th>\n",
       "      <th>capacity</th>\n",
       "    </tr>\n",
       "    <tr>\n",
       "      <th>team</th>\n",
       "      <th></th>\n",
       "    </tr>\n",
       "  </thead>\n",
       "  <tbody>\n",
       "    <tr>\n",
       "      <th>0</th>\n",
       "      <td>2.4</td>\n",
       "    </tr>\n",
       "    <tr>\n",
       "      <th>1</th>\n",
       "      <td>1.8</td>\n",
       "    </tr>\n",
       "    <tr>\n",
       "      <th>2</th>\n",
       "      <td>1.1</td>\n",
       "    </tr>\n",
       "    <tr>\n",
       "      <th>3</th>\n",
       "      <td>1.9</td>\n",
       "    </tr>\n",
       "    <tr>\n",
       "      <th>4</th>\n",
       "      <td>1.4</td>\n",
       "    </tr>\n",
       "  </tbody>\n",
       "</table>\n",
       "</div>"
      ],
      "text/plain": [
       "      capacity\n",
       "team          \n",
       "0          2.4\n",
       "1          1.8\n",
       "2          1.1\n",
       "3          1.9\n",
       "4          1.4"
      ]
     },
     "execution_count": 35,
     "metadata": {},
     "output_type": "execute_result"
    }
   ],
   "source": [
    "teams = pd.read_csv(\"teams.csv\", index_col=\"team\")\n",
    "teams"
   ]
  },
  {
   "cell_type": "markdown",
   "id": "74a59b82",
   "metadata": {
    "slideshow": {
     "slide_type": "subslide"
    }
   },
   "source": [
    "## Sparsity\n",
    "\n",
    "- Note that the model is not defined over all $(i, j)$ pairs\n",
    "- (Not all teams can complete all projects)\n",
    "- There are 80 < 150 combinations (sparse!)\n",
    "- This is tidy data which matches the model"
   ]
  },
  {
   "cell_type": "code",
   "execution_count": 36,
   "id": "7b589bcb",
   "metadata": {
    "slideshow": {
     "slide_type": "-"
    }
   },
   "outputs": [
    {
     "data": {
      "text/html": [
       "<div>\n",
       "<style scoped>\n",
       "    .dataframe tbody tr th:only-of-type {\n",
       "        vertical-align: middle;\n",
       "    }\n",
       "\n",
       "    .dataframe tbody tr th {\n",
       "        vertical-align: top;\n",
       "    }\n",
       "\n",
       "    .dataframe thead th {\n",
       "        text-align: right;\n",
       "    }\n",
       "</style>\n",
       "<table border=\"1\" class=\"dataframe\">\n",
       "  <thead>\n",
       "    <tr style=\"text-align: right;\">\n",
       "      <th></th>\n",
       "      <th></th>\n",
       "      <th>profit</th>\n",
       "    </tr>\n",
       "    <tr>\n",
       "      <th>project</th>\n",
       "      <th>team</th>\n",
       "      <th></th>\n",
       "    </tr>\n",
       "  </thead>\n",
       "  <tbody>\n",
       "    <tr>\n",
       "      <th>0</th>\n",
       "      <th>4</th>\n",
       "      <td>0.4</td>\n",
       "    </tr>\n",
       "    <tr>\n",
       "      <th>1</th>\n",
       "      <th>4</th>\n",
       "      <td>1.3</td>\n",
       "    </tr>\n",
       "    <tr>\n",
       "      <th rowspan=\"3\" valign=\"top\">2</th>\n",
       "      <th>0</th>\n",
       "      <td>1.7</td>\n",
       "    </tr>\n",
       "    <tr>\n",
       "      <th>1</th>\n",
       "      <td>1.7</td>\n",
       "    </tr>\n",
       "    <tr>\n",
       "      <th>2</th>\n",
       "      <td>1.7</td>\n",
       "    </tr>\n",
       "    <tr>\n",
       "      <th>...</th>\n",
       "      <th>...</th>\n",
       "      <td>...</td>\n",
       "    </tr>\n",
       "    <tr>\n",
       "      <th rowspan=\"3\" valign=\"top\">28</th>\n",
       "      <th>2</th>\n",
       "      <td>1.0</td>\n",
       "    </tr>\n",
       "    <tr>\n",
       "      <th>3</th>\n",
       "      <td>1.0</td>\n",
       "    </tr>\n",
       "    <tr>\n",
       "      <th>4</th>\n",
       "      <td>1.0</td>\n",
       "    </tr>\n",
       "    <tr>\n",
       "      <th rowspan=\"2\" valign=\"top\">29</th>\n",
       "      <th>3</th>\n",
       "      <td>1.3</td>\n",
       "    </tr>\n",
       "    <tr>\n",
       "      <th>4</th>\n",
       "      <td>1.3</td>\n",
       "    </tr>\n",
       "  </tbody>\n",
       "</table>\n",
       "<p>80 rows × 1 columns</p>\n",
       "</div>"
      ],
      "text/plain": [
       "              profit\n",
       "project team        \n",
       "0       4        0.4\n",
       "1       4        1.3\n",
       "2       0        1.7\n",
       "        1        1.7\n",
       "        2        1.7\n",
       "...              ...\n",
       "28      2        1.0\n",
       "        3        1.0\n",
       "        4        1.0\n",
       "29      3        1.3\n",
       "        4        1.3\n",
       "\n",
       "[80 rows x 1 columns]"
      ]
     },
     "execution_count": 36,
     "metadata": {},
     "output_type": "execute_result"
    }
   ],
   "source": [
    "project_values = pd.read_csv(\"project_values.csv\", index_col=[\"project\", \"team\"])\n",
    "project_values"
   ]
  },
  {
   "cell_type": "markdown",
   "id": "672404dd",
   "metadata": {
    "slideshow": {
     "slide_type": "subslide"
    }
   },
   "source": [
    "## Clean data\n",
    "\n",
    "- All indexes ($i$, $j$, $ij$) are correctly represented\n",
    "- There are no missing values\n",
    "- Index alignment is correct\n",
    "    - Every project in `project_values` has an entry in `projects`\n",
    "    - Every team in `project_values` has an entry in `teams`"
   ]
  },
  {
   "cell_type": "markdown",
   "id": "8b29661b",
   "metadata": {
    "slideshow": {
     "slide_type": "subslide"
    }
   },
   "source": [
    "## Define variables and objective\n",
    "\n",
    "$$\n",
    "\\begin{alignat}{2}\n",
    "\\max \\quad        & \\sum_{i \\in I} \\sum_{j \\in J} p_{ij} x_{ij} \\\\\n",
    "\\mbox{s.t.} \\quad & x_{ij} \\in \\lbrace 0, 1 \\rbrace & \\forall (i, j) \\\\\n",
    "\\end{alignat}\n",
    "$$"
   ]
  },
  {
   "cell_type": "code",
   "execution_count": 37,
   "id": "29641cbf",
   "metadata": {
    "slideshow": {
     "slide_type": "-"
    }
   },
   "outputs": [
    {
     "data": {
      "text/plain": [
       "project  team\n",
       "0        4       <gurobi.Var x[0,4]>\n",
       "1        4       <gurobi.Var x[1,4]>\n",
       "2        0       <gurobi.Var x[2,0]>\n",
       "         1       <gurobi.Var x[2,1]>\n",
       "         2       <gurobi.Var x[2,2]>\n",
       "Name: x, dtype: object"
      ]
     },
     "execution_count": 37,
     "metadata": {},
     "output_type": "execute_result"
    }
   ],
   "source": [
    "model = gp.Model()\n",
    "model.ModelSense = GRB.MAXIMIZE\n",
    "x = gppd.add_vars(model, project_values, vtype=GRB.BINARY, obj=\"profit\", name=\"x\")\n",
    "x.head()"
   ]
  },
  {
   "cell_type": "code",
   "execution_count": 38,
   "id": "aecf171c",
   "metadata": {
    "slideshow": {
     "slide_type": "fragment"
    }
   },
   "outputs": [
    {
     "data": {
      "text/plain": [
       "<gurobi.LinExpr: 0.4 x[0,4] + 1.3 x[1,4] + 1.7 x[2,0] + 1.7 x[2,1] + 1.7 x[2,2] + 1.7 x[2,3] + 1.7 x[2,4] + 1.3 x[3,4] + 1.3 x[4,0] + 1.3 x[4,1] + 1.3 x[4,2] + 1.3 x[4,3] + 1.3 x[4,4] + 1.8 x[5,0] + 1.8 x[5,1] + 1.8 x[5,2] + 1.8 x[5,3] + 1.8 x[5,4] + 1.2 x[6,0] + 1.2 x[6,1] + 1.2 x[6,2] + 1.2 x[6,3] + 1.2 x[6,4] + 0.9 x[7,3] + 0.9 x[7,4] + x[8,3] + x[8,4] + 1.2 x[9,4] + 0.8 x[10,0] + 0.8 x[10,1] + 0.8 x[10,2] + 0.8 x[10,3] + 0.8 x[10,4] + 1.3 x[11,0] + 1.3 x[11,1] + 1.3 x[11,2] + 1.3 x[11,3] + 1.3 x[11,4] + 0.8 x[12,3] + 0.8 x[12,4] + 1.5 x[13,0] + 1.5 x[13,1] + 1.5 x[13,2] + 1.5 x[13,3] + 1.5 x[13,4] + 1.7 x[14,3] + 1.7 x[14,4] + 1.3 x[15,4] + 0.3 x[16,4] + 1.2 x[17,0] + 1.2 x[17,1] + 1.2 x[17,2] + 1.2 x[17,3] + 1.2 x[17,4] + 1.3 x[18,3] + 1.3 x[18,4] + 1.8 x[19,3] + 1.8 x[19,4] + 1.6 x[20,3] + 1.6 x[20,4] + 1.1 x[21,3] + 1.1 x[21,4] + 0.4 x[22,4] + x[23,4] + 0.3 x[24,4] + x[25,0] + x[25,1] + x[25,2] + x[25,3] + x[25,4] + 1.8 x[26,4] + 0.8 x[27,3] + 0.8 x[27,4] + x[28,0] + x[28,1] + x[28,2] + x[28,3] + x[28,4] + 1.3 x[29,3] + 1.3 x[29,4]>"
      ]
     },
     "execution_count": 38,
     "metadata": {},
     "output_type": "execute_result"
    }
   ],
   "source": [
    "model.getObjective()"
   ]
  },
  {
   "cell_type": "markdown",
   "id": "b74d9c29",
   "metadata": {
    "slideshow": {
     "slide_type": "notes"
    }
   },
   "source": [
    "- Define binary variables for every valid $i$, $j$ pairing\n",
    "- Assign linear objective coefficients up-front using attributes"
   ]
  },
  {
   "cell_type": "markdown",
   "id": "8d3772e9",
   "metadata": {
    "slideshow": {
     "slide_type": "subslide"
    }
   },
   "source": [
    "## Capacity constraint\n",
    "\n",
    "$$\n",
    "\\sum_{i \\in I} w_{i} x_{ij} \\le c_{j} \\quad \\forall j \\in J\n",
    "$$"
   ]
  },
  {
   "cell_type": "code",
   "execution_count": 39,
   "id": "5e123143",
   "metadata": {
    "slideshow": {
     "slide_type": "-"
    }
   },
   "outputs": [
    {
     "data": {
      "text/plain": [
       "team\n",
       "0    <gurobi.Constr capacity[0]>\n",
       "1    <gurobi.Constr capacity[1]>\n",
       "2    <gurobi.Constr capacity[2]>\n",
       "3    <gurobi.Constr capacity[3]>\n",
       "4    <gurobi.Constr capacity[4]>\n",
       "Name: capacity, dtype: object"
      ]
     },
     "execution_count": 39,
     "metadata": {},
     "output_type": "execute_result"
    }
   ],
   "source": [
    "capacity_constraints = gppd.add_constrs(\n",
    "    model,\n",
    "    (\n",
    "        (projects[\"resource\"] * x)\n",
    "        .groupby(\"team\").sum()\n",
    "    ),\n",
    "    GRB.LESS_EQUAL,\n",
    "    teams[\"capacity\"],\n",
    "    name='capacity',\n",
    ")\n",
    "capacity_constraints"
   ]
  },
  {
   "cell_type": "markdown",
   "id": "71a2e86e",
   "metadata": {
    "slideshow": {
     "slide_type": "notes"
    }
   },
   "source": [
    "- Team capacity is respected\n",
    "- Group by team index $j$, sum terms $w_i x_{ij}$"
   ]
  },
  {
   "cell_type": "markdown",
   "id": "693a0b18",
   "metadata": {
    "slideshow": {
     "slide_type": "subslide"
    }
   },
   "source": [
    "## Allocate once\n",
    "\n",
    "$$\n",
    "\\sum_{j \\in J} x_{ij} \\le 1 \\quad \\forall i \\in I\n",
    "$$"
   ]
  },
  {
   "cell_type": "code",
   "execution_count": 40,
   "id": "ba8688b6",
   "metadata": {
    "slideshow": {
     "slide_type": "-"
    }
   },
   "outputs": [
    {
     "data": {
      "text/plain": [
       "project\n",
       "0    <gurobi.Constr allocate_once[0]>\n",
       "1    <gurobi.Constr allocate_once[1]>\n",
       "2    <gurobi.Constr allocate_once[2]>\n",
       "3    <gurobi.Constr allocate_once[3]>\n",
       "4    <gurobi.Constr allocate_once[4]>\n",
       "Name: allocate_once, dtype: object"
      ]
     },
     "execution_count": 40,
     "metadata": {},
     "output_type": "execute_result"
    }
   ],
   "source": [
    "allocate_once = gppd.add_constrs(\n",
    "    model, x.groupby('project').sum(),\n",
    "    GRB.LESS_EQUAL, 1.0, name=\"allocate_once\",\n",
    ")\n",
    "allocate_once.head()"
   ]
  },
  {
   "cell_type": "markdown",
   "id": "954498cf",
   "metadata": {
    "slideshow": {
     "slide_type": "notes"
    }
   },
   "source": [
    "- A project is allocated at most once\n",
    "- Group by the project index $i$, sum over possible team assignments"
   ]
  },
  {
   "cell_type": "markdown",
   "id": "258177d6",
   "metadata": {
    "slideshow": {
     "slide_type": "subslide"
    }
   },
   "source": [
    "## Solutions\n",
    "\n",
    "- Solve the model\n",
    "- Get back solution values as a series on our original index"
   ]
  },
  {
   "cell_type": "code",
   "execution_count": 41,
   "id": "2ee270f5",
   "metadata": {
    "slideshow": {
     "slide_type": "-"
    }
   },
   "outputs": [
    {
     "data": {
      "text/plain": [
       "project  team\n",
       "0        4       0.0\n",
       "1        4       0.0\n",
       "2        0      -0.0\n",
       "         1       1.0\n",
       "         2       0.0\n",
       "Name: x, dtype: float64"
      ]
     },
     "execution_count": 41,
     "metadata": {},
     "output_type": "execute_result"
    }
   ],
   "source": [
    "model.optimize()\n",
    "x.gppd.X.head()"
   ]
  },
  {
   "cell_type": "code",
   "execution_count": 42,
   "id": "da7a281c",
   "metadata": {
    "slideshow": {
     "slide_type": "fragment"
    }
   },
   "outputs": [
    {
     "data": {
      "text/html": [
       "<div>\n",
       "<style scoped>\n",
       "    .dataframe tbody tr th:only-of-type {\n",
       "        vertical-align: middle;\n",
       "    }\n",
       "\n",
       "    .dataframe tbody tr th {\n",
       "        vertical-align: top;\n",
       "    }\n",
       "\n",
       "    .dataframe thead th {\n",
       "        text-align: right;\n",
       "    }\n",
       "</style>\n",
       "<table border=\"1\" class=\"dataframe\">\n",
       "  <thead>\n",
       "    <tr style=\"text-align: right;\">\n",
       "      <th></th>\n",
       "      <th>project</th>\n",
       "    </tr>\n",
       "    <tr>\n",
       "      <th>team</th>\n",
       "      <th></th>\n",
       "    </tr>\n",
       "  </thead>\n",
       "  <tbody>\n",
       "    <tr>\n",
       "      <th>0</th>\n",
       "      <td>[4, 5]</td>\n",
       "    </tr>\n",
       "    <tr>\n",
       "      <th>1</th>\n",
       "      <td>[2]</td>\n",
       "    </tr>\n",
       "    <tr>\n",
       "      <th>2</th>\n",
       "      <td>[11]</td>\n",
       "    </tr>\n",
       "    <tr>\n",
       "      <th>3</th>\n",
       "      <td>[6, 29]</td>\n",
       "    </tr>\n",
       "    <tr>\n",
       "      <th>4</th>\n",
       "      <td>[14, 15, 26]</td>\n",
       "    </tr>\n",
       "  </tbody>\n",
       "</table>\n",
       "</div>"
      ],
      "text/plain": [
       "           project\n",
       "team              \n",
       "0           [4, 5]\n",
       "1              [2]\n",
       "2             [11]\n",
       "3          [6, 29]\n",
       "4     [14, 15, 26]"
      ]
     },
     "execution_count": 42,
     "metadata": {},
     "output_type": "execute_result"
    }
   ],
   "source": [
    "(\n",
    "    x.gppd.X.to_frame()\n",
    "    .query(\"x >= 0.9\").reset_index()\n",
    "    .groupby(\"team\").agg({\"project\": list})\n",
    ")"
   ]
  },
  {
   "cell_type": "markdown",
   "id": "aa3647c7",
   "metadata": {
    "slideshow": {
     "slide_type": "notes"
    }
   },
   "source": [
    "- Apply a little pandas magic to the outputs.\n",
    "- Extract them, transform them, write them somewhere.\n",
    "- *Important*: input data and output data can be handled directly as pandas objects.\n",
    "- It should now be easy to read data from a SQL database or HTTP endpoint, use it to build a model, then write solutions to a different database or endpoint, all without leaving the comfort of pandas."
   ]
  },
  {
   "cell_type": "markdown",
   "id": "b52c8845",
   "metadata": {
    "slideshow": {
     "slide_type": "slide"
    }
   },
   "source": [
    "## More examples are available\n",
    "\n",
    "- This was an abriged version of the project-team allocation example\n",
    "- [More examples can be found in the documentation](https://gurobi-optimization-gurobipy-pandas.readthedocs-hosted.com/en/latest/examples.html)\n",
    "- Contributions of examples welcome!"
   ]
  },
  {
   "cell_type": "markdown",
   "id": "c9d3e62b",
   "metadata": {
    "slideshow": {
     "slide_type": "slide"
    }
   },
   "source": [
    "## Performance\n",
    "\n",
    "[Dedicated page in the docs](https://gurobi-optimization-gurobipy-pandas.readthedocs-hosted.com/en/latest/performance.html). FIXME Key points:\n",
    "\n",
    "- `gurobipy-pandas` won't magically make your model building code fast. It is best suited to cases where your inputs and outputs live naturally as pandas structures.\n",
    "- The API provides some structure to take *well-organized and prepared data* and help you build *clearly defined models* in the pandas style.\n",
    "- For large models, use `.agg(gp.quicksum)` (ommitted in the examples for clarity). TODO explain by example that this replaces `.sum()` in all cases."
   ]
  },
  {
   "cell_type": "markdown",
   "id": "19576d89",
   "metadata": {
    "slideshow": {
     "slide_type": "slide"
    }
   },
   "source": [
    "# Final thoughts\n",
    "\n",
    "- Check the examples for clean patterns to emulate:\n",
    "    - Documentation lives on [readthedocs](https://gurobi-optimization-gurobipy-pandas.readthedocs-hosted.com/en/latest/index.html)\n",
    "- Bugs? Feature request? Open an issue to discuss. PRs welcome:\n",
    "    - [github.com/Gurobi/gurobipy-pandas](https://github.com/Gurobi/gurobipy-pandas)\n",
    "- Usage questions and discussion:\n",
    "    - See the [Gurobi community forum](https://support.gurobi.com/hc/en-us/community/topics/10373864542609-GitHub-Projects%3E)"
   ]
  },
  {
   "cell_type": "markdown",
   "id": "1e5c8202",
   "metadata": {
    "slideshow": {
     "slide_type": "slide"
    }
   },
   "source": [
    "# Thanks!\n",
    "\n",
    "Questions?"
   ]
  },
  {
   "cell_type": "markdown",
   "id": "83bcd5ef",
   "metadata": {
    "slideshow": {
     "slide_type": "slide"
    }
   },
   "source": [
    "https://www.gurobi.com/free-trial"
   ]
  }
 ],
 "metadata": {
  "celltoolbar": "Slideshow",
  "kernelspec": {
   "display_name": "gurobipy-pandas",
   "language": "python",
   "name": "gurobipy-pandas"
  },
  "language_info": {
   "codemirror_mode": {
    "name": "ipython",
    "version": 3
   },
   "file_extension": ".py",
   "mimetype": "text/x-python",
   "name": "python",
   "nbconvert_exporter": "python",
   "pygments_lexer": "ipython3",
   "version": "3.11.1"
  }
 },
 "nbformat": 4,
 "nbformat_minor": 5
}
