{
 "cells": [
  {
   "cell_type": "code",
   "execution_count": 1,
   "id": "326a37fc",
   "metadata": {},
   "outputs": [],
   "source": [
    "from itertools import product\n",
    "\n",
    "import pandas as pd\n",
    "import gurobipy as gp\n",
    "from gurobipy import GRB\n",
    "import gurobipy_pandas as gppd"
   ]
  },
  {
   "cell_type": "code",
   "execution_count": 2,
   "id": "1f6f21d6",
   "metadata": {},
   "outputs": [
    {
     "name": "stdout",
     "output_type": "stream",
     "text": [
      "Restricted license - for non-production use only - expires 2024-10-28\n"
     ]
    }
   ],
   "source": [
    "I = ['a', 'b', 'c'] # List of facilities\n",
    "W = [1,2,3,4,5] # List of weeks\n",
    "\n",
    "P_initialWt = pd.Series({'a': 0.1, 'b': 0.3, 'c': 0.2})\n",
    "P_initialWt.index.name = 'Facility'\n",
    "data = pd.DataFrame(list(product(I, W)), columns=['Facility', 'Week']).set_index([\"Facility\",\"Week\"])\n",
    "\n",
    "m = gp.Model(\"Model1\")\n",
    "CV_EndInv = gppd.add_vars(m, data, name=\"end_inv\", lb=0, ub=GRB.INFINITY, vtype=GRB.CONTINUOUS)\n",
    "CV_StartInv = gppd.add_vars(m, data, name=\"start_inv\", lb=0, ub=GRB.INFINITY, vtype=GRB.CONTINUOUS)\n",
    "\n",
    "m.update()"
   ]
  },
  {
   "cell_type": "markdown",
   "id": "f2769b74",
   "metadata": {},
   "source": [
    "Constraint I am trying to model in pandas vectorized form is `CV_StartInv[i,w] = CV_EndInv[i,w-1]` if `w > 1` else `P_InitialWt[i]`, for all i in I and w in W."
   ]
  },
  {
   "cell_type": "code",
   "execution_count": 3,
   "id": "4ac4a6f1",
   "metadata": {},
   "outputs": [
    {
     "data": {
      "text/html": [
       "<div>\n",
       "<style scoped>\n",
       "    .dataframe tbody tr th:only-of-type {\n",
       "        vertical-align: middle;\n",
       "    }\n",
       "\n",
       "    .dataframe tbody tr th {\n",
       "        vertical-align: top;\n",
       "    }\n",
       "\n",
       "    .dataframe thead th {\n",
       "        text-align: right;\n",
       "    }\n",
       "</style>\n",
       "<table border=\"1\" class=\"dataframe\">\n",
       "  <thead>\n",
       "    <tr style=\"text-align: right;\">\n",
       "      <th></th>\n",
       "      <th></th>\n",
       "      <th>start_inv</th>\n",
       "    </tr>\n",
       "    <tr>\n",
       "      <th>Facility</th>\n",
       "      <th>Week</th>\n",
       "      <th></th>\n",
       "    </tr>\n",
       "  </thead>\n",
       "  <tbody>\n",
       "    <tr>\n",
       "      <th rowspan=\"4\" valign=\"top\">a</th>\n",
       "      <th>2</th>\n",
       "      <td>&lt;gurobi.Var start_inv[a,1]&gt;</td>\n",
       "    </tr>\n",
       "    <tr>\n",
       "      <th>3</th>\n",
       "      <td>&lt;gurobi.Var start_inv[a,2]&gt;</td>\n",
       "    </tr>\n",
       "    <tr>\n",
       "      <th>4</th>\n",
       "      <td>&lt;gurobi.Var start_inv[a,3]&gt;</td>\n",
       "    </tr>\n",
       "    <tr>\n",
       "      <th>5</th>\n",
       "      <td>&lt;gurobi.Var start_inv[a,4]&gt;</td>\n",
       "    </tr>\n",
       "    <tr>\n",
       "      <th rowspan=\"4\" valign=\"top\">b</th>\n",
       "      <th>2</th>\n",
       "      <td>&lt;gurobi.Var start_inv[b,1]&gt;</td>\n",
       "    </tr>\n",
       "    <tr>\n",
       "      <th>3</th>\n",
       "      <td>&lt;gurobi.Var start_inv[b,2]&gt;</td>\n",
       "    </tr>\n",
       "    <tr>\n",
       "      <th>4</th>\n",
       "      <td>&lt;gurobi.Var start_inv[b,3]&gt;</td>\n",
       "    </tr>\n",
       "    <tr>\n",
       "      <th>5</th>\n",
       "      <td>&lt;gurobi.Var start_inv[b,4]&gt;</td>\n",
       "    </tr>\n",
       "    <tr>\n",
       "      <th rowspan=\"4\" valign=\"top\">c</th>\n",
       "      <th>2</th>\n",
       "      <td>&lt;gurobi.Var start_inv[c,1]&gt;</td>\n",
       "    </tr>\n",
       "    <tr>\n",
       "      <th>3</th>\n",
       "      <td>&lt;gurobi.Var start_inv[c,2]&gt;</td>\n",
       "    </tr>\n",
       "    <tr>\n",
       "      <th>4</th>\n",
       "      <td>&lt;gurobi.Var start_inv[c,3]&gt;</td>\n",
       "    </tr>\n",
       "    <tr>\n",
       "      <th>5</th>\n",
       "      <td>&lt;gurobi.Var start_inv[c,4]&gt;</td>\n",
       "    </tr>\n",
       "  </tbody>\n",
       "</table>\n",
       "</div>"
      ],
      "text/plain": [
       "                                 start_inv\n",
       "Facility Week                             \n",
       "a        2     <gurobi.Var start_inv[a,1]>\n",
       "         3     <gurobi.Var start_inv[a,2]>\n",
       "         4     <gurobi.Var start_inv[a,3]>\n",
       "         5     <gurobi.Var start_inv[a,4]>\n",
       "b        2     <gurobi.Var start_inv[b,1]>\n",
       "         3     <gurobi.Var start_inv[b,2]>\n",
       "         4     <gurobi.Var start_inv[b,3]>\n",
       "         5     <gurobi.Var start_inv[b,4]>\n",
       "c        2     <gurobi.Var start_inv[c,1]>\n",
       "         3     <gurobi.Var start_inv[c,2]>\n",
       "         4     <gurobi.Var start_inv[c,3]>\n",
       "         5     <gurobi.Var start_inv[c,4]>"
      ]
     },
     "execution_count": 3,
     "metadata": {},
     "output_type": "execute_result"
    }
   ],
   "source": [
    "# Shift \n",
    "shifted = CV_StartInv.reset_index().assign(Week=lambda df: df['Week']+1).set_index([\"Facility\",\"Week\"])\n",
    "lhs, rhs = shifted.align(CV_EndInv, axis=0, join='inner')\n",
    "lhs"
   ]
  },
  {
   "cell_type": "code",
   "execution_count": 4,
   "id": "a35892fb",
   "metadata": {},
   "outputs": [
    {
     "data": {
      "text/plain": [
       "Facility  Week\n",
       "a         2       end_inv[a,1] + -1.0 start_inv[a,2]\n",
       "          3       end_inv[a,2] + -1.0 start_inv[a,3]\n",
       "          4       end_inv[a,3] + -1.0 start_inv[a,4]\n",
       "          5       end_inv[a,4] + -1.0 start_inv[a,5]\n",
       "b         2       end_inv[b,1] + -1.0 start_inv[b,2]\n",
       "          3       end_inv[b,2] + -1.0 start_inv[b,3]\n",
       "          4       end_inv[b,3] + -1.0 start_inv[b,4]\n",
       "          5       end_inv[b,4] + -1.0 start_inv[b,5]\n",
       "c         2       end_inv[c,1] + -1.0 start_inv[c,2]\n",
       "          3       end_inv[c,2] + -1.0 start_inv[c,3]\n",
       "          4       end_inv[c,3] + -1.0 start_inv[c,4]\n",
       "          5       end_inv[c,4] + -1.0 start_inv[c,5]\n",
       "Name: Balance, dtype: object"
      ]
     },
     "execution_count": 4,
     "metadata": {},
     "output_type": "execute_result"
    }
   ],
   "source": [
    "# Shift the end variables so that 'w' in the index aligns with the 'w-1' variable\n",
    "lhs = CV_EndInv.groupby(\"Facility\").transform(lambda s: s.shift(1)).dropna()\n",
    "# Extract only the 'w > 1' part of the start variables\n",
    "rhs = CV_StartInv.loc[:, 2:]\n",
    "# Both series are now on the index w = 2..5, so can be aligned\n",
    "balance = gppd.add_constrs(m, lhs, GRB.EQUAL, rhs, name=\"Balance\")\n",
    "\n",
    "m.update()\n",
    "balance.apply(m.getRow)"
   ]
  },
  {
   "cell_type": "code",
   "execution_count": 5,
   "id": "034a9c6a",
   "metadata": {},
   "outputs": [
    {
     "data": {
      "text/plain": [
       "Facility\n",
       "a    start_inv[a,1]\n",
       "b    start_inv[b,1]\n",
       "c    start_inv[c,1]\n",
       "Name: Initial, dtype: object"
      ]
     },
     "execution_count": 5,
     "metadata": {},
     "output_type": "execute_result"
    }
   ],
   "source": [
    "# For the initial constraints, we only need to align the facilities\n",
    "initial = gppd.add_constrs(\n",
    "    m,\n",
    "    CV_StartInv.loc[:, 1],  # All facilities, time step 1\n",
    "    GRB.EQUAL,\n",
    "    P_initialWt,\n",
    "    name=\"Initial\",\n",
    ")\n",
    "\n",
    "m.update()\n",
    "initial.apply(m.getRow)"
   ]
  }
 ],
 "metadata": {
  "kernelspec": {
   "display_name": "Python 3 (ipykernel)",
   "language": "python",
   "name": "python3"
  },
  "language_info": {
   "codemirror_mode": {
    "name": "ipython",
    "version": 3
   },
   "file_extension": ".py",
   "mimetype": "text/x-python",
   "name": "python",
   "nbconvert_exporter": "python",
   "pygments_lexer": "ipython3",
   "version": "3.11.2"
  }
 },
 "nbformat": 4,
 "nbformat_minor": 5
}
