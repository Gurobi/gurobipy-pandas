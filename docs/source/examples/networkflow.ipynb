{
 "cells": [
  {
   "cell_type": "markdown",
   "id": "6d81603a",
   "metadata": {},
   "source": [
    "# Network flow modelling examples"
   ]
  },
  {
   "cell_type": "code",
   "execution_count": 1,
   "id": "b93c20fb",
   "metadata": {
    "execution": {
     "iopub.execute_input": "2023-01-22T11:00:57.202967Z",
     "iopub.status.busy": "2023-01-22T11:00:57.202592Z",
     "iopub.status.idle": "2023-01-22T11:00:57.733857Z",
     "shell.execute_reply": "2023-01-22T11:00:57.733137Z"
    }
   },
   "outputs": [],
   "source": [
    "import numpy as np\n",
    "import pandas as pd\n",
    "import gurobipy as gp\n",
    "from gurobipy import GRB\n",
    "import gurobipy_pandas as gppd\n",
    "\n",
    "gppd.set_interactive()\n",
    "gp.setParam('OutputFlag', 0)"
   ]
  },
  {
   "cell_type": "markdown",
   "id": "2e7bd8ca",
   "metadata": {},
   "source": [
    "## Min-cost flow network for max-flow computation\n",
    "\n",
    "The following example sets up a min-cost flow network for computing maximum flow through a network. In general, network data should be stored as a multi-indexed dataframe, where:\n",
    "\n",
    "- A row in the dataframe corresponds to an edge.\n",
    "- The (from, to) pair in the index of a given row represents the direction of the arc.\n",
    "- Data columns store edge attributes. In most cases this will be capacity and cost.\n",
    "\n",
    "A basic assumption here is that the network is sparsely connected, and all edges are represented in the dataframe. So, if a (from, to) edge pair is not represented in `arc_data`, then the network does not contain an edge between this pair."
   ]
  },
  {
   "cell_type": "code",
   "execution_count": 2,
   "id": "8b12d95b",
   "metadata": {
    "execution": {
     "iopub.execute_input": "2023-01-22T11:00:57.737615Z",
     "iopub.status.busy": "2023-01-22T11:00:57.737273Z",
     "iopub.status.idle": "2023-01-22T11:00:57.756118Z",
     "shell.execute_reply": "2023-01-22T11:00:57.754867Z"
    }
   },
   "outputs": [
    {
     "data": {
      "text/html": [
       "<div>\n",
       "<style scoped>\n",
       "    .dataframe tbody tr th:only-of-type {\n",
       "        vertical-align: middle;\n",
       "    }\n",
       "\n",
       "    .dataframe tbody tr th {\n",
       "        vertical-align: top;\n",
       "    }\n",
       "\n",
       "    .dataframe thead th {\n",
       "        text-align: right;\n",
       "    }\n",
       "</style>\n",
       "<table border=\"1\" class=\"dataframe\">\n",
       "  <thead>\n",
       "    <tr style=\"text-align: right;\">\n",
       "      <th></th>\n",
       "      <th></th>\n",
       "      <th>capacity</th>\n",
       "      <th>cost</th>\n",
       "    </tr>\n",
       "    <tr>\n",
       "      <th>from</th>\n",
       "      <th>to</th>\n",
       "      <th></th>\n",
       "      <th></th>\n",
       "    </tr>\n",
       "  </thead>\n",
       "  <tbody>\n",
       "    <tr>\n",
       "      <th rowspan=\"2\" valign=\"top\">0</th>\n",
       "      <th>1</th>\n",
       "      <td>16.0</td>\n",
       "      <td>0</td>\n",
       "    </tr>\n",
       "    <tr>\n",
       "      <th>2</th>\n",
       "      <td>13.0</td>\n",
       "      <td>0</td>\n",
       "    </tr>\n",
       "    <tr>\n",
       "      <th>1</th>\n",
       "      <th>2</th>\n",
       "      <td>10.0</td>\n",
       "      <td>0</td>\n",
       "    </tr>\n",
       "    <tr>\n",
       "      <th>2</th>\n",
       "      <th>1</th>\n",
       "      <td>4.0</td>\n",
       "      <td>0</td>\n",
       "    </tr>\n",
       "    <tr>\n",
       "      <th>1</th>\n",
       "      <th>3</th>\n",
       "      <td>12.0</td>\n",
       "      <td>0</td>\n",
       "    </tr>\n",
       "    <tr>\n",
       "      <th>3</th>\n",
       "      <th>2</th>\n",
       "      <td>9.0</td>\n",
       "      <td>0</td>\n",
       "    </tr>\n",
       "    <tr>\n",
       "      <th>2</th>\n",
       "      <th>4</th>\n",
       "      <td>14.0</td>\n",
       "      <td>0</td>\n",
       "    </tr>\n",
       "    <tr>\n",
       "      <th>4</th>\n",
       "      <th>3</th>\n",
       "      <td>7.0</td>\n",
       "      <td>0</td>\n",
       "    </tr>\n",
       "    <tr>\n",
       "      <th>3</th>\n",
       "      <th>5</th>\n",
       "      <td>20.0</td>\n",
       "      <td>0</td>\n",
       "    </tr>\n",
       "    <tr>\n",
       "      <th>4</th>\n",
       "      <th>5</th>\n",
       "      <td>4.0</td>\n",
       "      <td>0</td>\n",
       "    </tr>\n",
       "    <tr>\n",
       "      <th>5</th>\n",
       "      <th>0</th>\n",
       "      <td>inf</td>\n",
       "      <td>-1</td>\n",
       "    </tr>\n",
       "  </tbody>\n",
       "</table>\n",
       "</div>"
      ],
      "text/plain": [
       "         capacity  cost\n",
       "from to                \n",
       "0    1       16.0     0\n",
       "     2       13.0     0\n",
       "1    2       10.0     0\n",
       "2    1        4.0     0\n",
       "1    3       12.0     0\n",
       "3    2        9.0     0\n",
       "2    4       14.0     0\n",
       "4    3        7.0     0\n",
       "3    5       20.0     0\n",
       "4    5        4.0     0\n",
       "5    0        inf    -1"
      ]
     },
     "execution_count": 2,
     "metadata": {},
     "output_type": "execute_result"
    }
   ],
   "source": [
    "arc_data = pd.DataFrame([\n",
    "    # Main components of the network: limited-capacity arcs\n",
    "    {\"from\": 0, \"to\": 1, \"capacity\": 16, \"cost\": 0},\n",
    "    {\"from\": 0, \"to\": 2, \"capacity\": 13, \"cost\": 0},\n",
    "    {\"from\": 1, \"to\": 2, \"capacity\": 10, \"cost\": 0},\n",
    "    {\"from\": 2, \"to\": 1, \"capacity\": 4, \"cost\": 0},\n",
    "    {\"from\": 1, \"to\": 3, \"capacity\": 12, \"cost\": 0},\n",
    "    {\"from\": 3, \"to\": 2, \"capacity\": 9, \"cost\": 0},\n",
    "    {\"from\": 2, \"to\": 4, \"capacity\": 14, \"cost\": 0},\n",
    "    {\"from\": 4, \"to\": 3, \"capacity\": 7, \"cost\": 0},\n",
    "    {\"from\": 3, \"to\": 5, \"capacity\": 20, \"cost\": 0},\n",
    "    {\"from\": 4, \"to\": 5, \"capacity\": 4, \"cost\": 0},\n",
    "    # Add an uncapacitated edge from sink to source\n",
    "    {\"from\": 5, \"to\": 0, \"capacity\": np.inf, \"cost\": -1},\n",
    "]).set_index([\"from\", \"to\"])\n",
    "\n",
    "arc_data"
   ]
  },
  {
   "cell_type": "markdown",
   "id": "9adbbe65",
   "metadata": {},
   "source": [
    "Min-cost network flow takes a simple and repeatable form. First, use the `.gppd.add_vars` dataframe accessor to add a flow variable for each arc in the network."
   ]
  },
  {
   "cell_type": "code",
   "execution_count": 3,
   "id": "9d815bf6",
   "metadata": {
    "execution": {
     "iopub.execute_input": "2023-01-22T11:00:57.760843Z",
     "iopub.status.busy": "2023-01-22T11:00:57.760556Z",
     "iopub.status.idle": "2023-01-22T11:00:57.780228Z",
     "shell.execute_reply": "2023-01-22T11:00:57.779365Z"
    }
   },
   "outputs": [
    {
     "data": {
      "text/html": [
       "<div>\n",
       "<style scoped>\n",
       "    .dataframe tbody tr th:only-of-type {\n",
       "        vertical-align: middle;\n",
       "    }\n",
       "\n",
       "    .dataframe tbody tr th {\n",
       "        vertical-align: top;\n",
       "    }\n",
       "\n",
       "    .dataframe thead th {\n",
       "        text-align: right;\n",
       "    }\n",
       "</style>\n",
       "<table border=\"1\" class=\"dataframe\">\n",
       "  <thead>\n",
       "    <tr style=\"text-align: right;\">\n",
       "      <th></th>\n",
       "      <th></th>\n",
       "      <th>capacity</th>\n",
       "      <th>cost</th>\n",
       "      <th>flow</th>\n",
       "    </tr>\n",
       "    <tr>\n",
       "      <th>from</th>\n",
       "      <th>to</th>\n",
       "      <th></th>\n",
       "      <th></th>\n",
       "      <th></th>\n",
       "    </tr>\n",
       "  </thead>\n",
       "  <tbody>\n",
       "    <tr>\n",
       "      <th rowspan=\"2\" valign=\"top\">0</th>\n",
       "      <th>1</th>\n",
       "      <td>16.0</td>\n",
       "      <td>0</td>\n",
       "      <td>&lt;gurobi.Var flow[0,1]&gt;</td>\n",
       "    </tr>\n",
       "    <tr>\n",
       "      <th>2</th>\n",
       "      <td>13.0</td>\n",
       "      <td>0</td>\n",
       "      <td>&lt;gurobi.Var flow[0,2]&gt;</td>\n",
       "    </tr>\n",
       "    <tr>\n",
       "      <th>1</th>\n",
       "      <th>2</th>\n",
       "      <td>10.0</td>\n",
       "      <td>0</td>\n",
       "      <td>&lt;gurobi.Var flow[1,2]&gt;</td>\n",
       "    </tr>\n",
       "    <tr>\n",
       "      <th>2</th>\n",
       "      <th>1</th>\n",
       "      <td>4.0</td>\n",
       "      <td>0</td>\n",
       "      <td>&lt;gurobi.Var flow[2,1]&gt;</td>\n",
       "    </tr>\n",
       "    <tr>\n",
       "      <th>1</th>\n",
       "      <th>3</th>\n",
       "      <td>12.0</td>\n",
       "      <td>0</td>\n",
       "      <td>&lt;gurobi.Var flow[1,3]&gt;</td>\n",
       "    </tr>\n",
       "    <tr>\n",
       "      <th>3</th>\n",
       "      <th>2</th>\n",
       "      <td>9.0</td>\n",
       "      <td>0</td>\n",
       "      <td>&lt;gurobi.Var flow[3,2]&gt;</td>\n",
       "    </tr>\n",
       "    <tr>\n",
       "      <th>2</th>\n",
       "      <th>4</th>\n",
       "      <td>14.0</td>\n",
       "      <td>0</td>\n",
       "      <td>&lt;gurobi.Var flow[2,4]&gt;</td>\n",
       "    </tr>\n",
       "    <tr>\n",
       "      <th>4</th>\n",
       "      <th>3</th>\n",
       "      <td>7.0</td>\n",
       "      <td>0</td>\n",
       "      <td>&lt;gurobi.Var flow[4,3]&gt;</td>\n",
       "    </tr>\n",
       "    <tr>\n",
       "      <th>3</th>\n",
       "      <th>5</th>\n",
       "      <td>20.0</td>\n",
       "      <td>0</td>\n",
       "      <td>&lt;gurobi.Var flow[3,5]&gt;</td>\n",
       "    </tr>\n",
       "    <tr>\n",
       "      <th>4</th>\n",
       "      <th>5</th>\n",
       "      <td>4.0</td>\n",
       "      <td>0</td>\n",
       "      <td>&lt;gurobi.Var flow[4,5]&gt;</td>\n",
       "    </tr>\n",
       "    <tr>\n",
       "      <th>5</th>\n",
       "      <th>0</th>\n",
       "      <td>inf</td>\n",
       "      <td>-1</td>\n",
       "      <td>&lt;gurobi.Var flow[5,0]&gt;</td>\n",
       "    </tr>\n",
       "  </tbody>\n",
       "</table>\n",
       "</div>"
      ],
      "text/plain": [
       "         capacity  cost                    flow\n",
       "from to                                        \n",
       "0    1       16.0     0  <gurobi.Var flow[0,1]>\n",
       "     2       13.0     0  <gurobi.Var flow[0,2]>\n",
       "1    2       10.0     0  <gurobi.Var flow[1,2]>\n",
       "2    1        4.0     0  <gurobi.Var flow[2,1]>\n",
       "1    3       12.0     0  <gurobi.Var flow[1,3]>\n",
       "3    2        9.0     0  <gurobi.Var flow[3,2]>\n",
       "2    4       14.0     0  <gurobi.Var flow[2,4]>\n",
       "4    3        7.0     0  <gurobi.Var flow[4,3]>\n",
       "3    5       20.0     0  <gurobi.Var flow[3,5]>\n",
       "4    5        4.0     0  <gurobi.Var flow[4,5]>\n",
       "5    0        inf    -1  <gurobi.Var flow[5,0]>"
      ]
     },
     "execution_count": 3,
     "metadata": {},
     "output_type": "execute_result"
    }
   ],
   "source": [
    "model = gp.Model(\"max-flow\")\n",
    "model.ModelSense = GRB.MINIMIZE\n",
    "\n",
    "arc_df = arc_data.gppd.add_vars(\n",
    "    model, ub=\"capacity\", obj=\"cost\", name=\"flow\"\n",
    ")\n",
    "arc_df"
   ]
  },
  {
   "cell_type": "markdown",
   "id": "3f7c963d",
   "metadata": {},
   "source": [
    "Using the `obj` attribute of the above method, and setting the model objective sense to minimization, sets up the linear objective function. In this case, the objective ultimately maximises the flow through the uncapacitated sink-source edge."
   ]
  },
  {
   "cell_type": "code",
   "execution_count": 4,
   "id": "50547f3b",
   "metadata": {},
   "outputs": [
    {
     "data": {
      "text/plain": [
       "<gurobi.LinExpr: -1.0 flow[5,0]>"
      ]
     },
     "execution_count": 4,
     "metadata": {},
     "output_type": "execute_result"
    }
   ],
   "source": [
    "model.getObjective()"
   ]
  },
  {
   "cell_type": "markdown",
   "id": "0a0c6228",
   "metadata": {},
   "source": [
    "Flow constraints are simple to formulate using pandas `groupby` operations. Since the `arc_df` dataframe, containing arc attributes and flow variables, is indexed by from and to entries, we can group by each key to create linear expressions for inflow and outflow of each node in the network.\n",
    "\n",
    "The inflow and outflow expressions are best grouped together in a single dataframe. This allows us to use the `.gppd.add_constrs` dataframe accessor to construct flow balance constraints."
   ]
  },
  {
   "cell_type": "code",
   "execution_count": 5,
   "id": "f1ece66a",
   "metadata": {
    "execution": {
     "iopub.execute_input": "2023-01-22T11:00:57.783816Z",
     "iopub.status.busy": "2023-01-22T11:00:57.783545Z",
     "iopub.status.idle": "2023-01-22T11:00:57.797893Z",
     "shell.execute_reply": "2023-01-22T11:00:57.797086Z"
    }
   },
   "outputs": [
    {
     "data": {
      "text/html": [
       "<div>\n",
       "<style scoped>\n",
       "    .dataframe tbody tr th:only-of-type {\n",
       "        vertical-align: middle;\n",
       "    }\n",
       "\n",
       "    .dataframe tbody tr th {\n",
       "        vertical-align: top;\n",
       "    }\n",
       "\n",
       "    .dataframe thead th {\n",
       "        text-align: right;\n",
       "    }\n",
       "</style>\n",
       "<table border=\"1\" class=\"dataframe\">\n",
       "  <thead>\n",
       "    <tr style=\"text-align: right;\">\n",
       "      <th></th>\n",
       "      <th>outflow</th>\n",
       "      <th>inflow</th>\n",
       "      <th>balance</th>\n",
       "    </tr>\n",
       "  </thead>\n",
       "  <tbody>\n",
       "    <tr>\n",
       "      <th>0</th>\n",
       "      <td>flow[0,1] + flow[0,2]</td>\n",
       "      <td>&lt;gurobi.Var flow[5,0]&gt;</td>\n",
       "      <td>&lt;gurobi.Constr balance[0]&gt;</td>\n",
       "    </tr>\n",
       "    <tr>\n",
       "      <th>1</th>\n",
       "      <td>flow[1,2] + flow[1,3]</td>\n",
       "      <td>flow[0,1] + flow[2,1]</td>\n",
       "      <td>&lt;gurobi.Constr balance[1]&gt;</td>\n",
       "    </tr>\n",
       "    <tr>\n",
       "      <th>2</th>\n",
       "      <td>flow[2,1] + flow[2,4]</td>\n",
       "      <td>flow[0,2] + flow[1,2] + flow[3,2]</td>\n",
       "      <td>&lt;gurobi.Constr balance[2]&gt;</td>\n",
       "    </tr>\n",
       "    <tr>\n",
       "      <th>3</th>\n",
       "      <td>flow[3,2] + flow[3,5]</td>\n",
       "      <td>flow[1,3] + flow[4,3]</td>\n",
       "      <td>&lt;gurobi.Constr balance[3]&gt;</td>\n",
       "    </tr>\n",
       "    <tr>\n",
       "      <th>4</th>\n",
       "      <td>flow[4,3] + flow[4,5]</td>\n",
       "      <td>&lt;gurobi.Var flow[2,4]&gt;</td>\n",
       "      <td>&lt;gurobi.Constr balance[4]&gt;</td>\n",
       "    </tr>\n",
       "    <tr>\n",
       "      <th>5</th>\n",
       "      <td>&lt;gurobi.Var flow[5,0]&gt;</td>\n",
       "      <td>flow[3,5] + flow[4,5]</td>\n",
       "      <td>&lt;gurobi.Constr balance[5]&gt;</td>\n",
       "    </tr>\n",
       "  </tbody>\n",
       "</table>\n",
       "</div>"
      ],
      "text/plain": [
       "                  outflow                             inflow  \\\n",
       "0   flow[0,1] + flow[0,2]             <gurobi.Var flow[5,0]>   \n",
       "1   flow[1,2] + flow[1,3]              flow[0,1] + flow[2,1]   \n",
       "2   flow[2,1] + flow[2,4]  flow[0,2] + flow[1,2] + flow[3,2]   \n",
       "3   flow[3,2] + flow[3,5]              flow[1,3] + flow[4,3]   \n",
       "4   flow[4,3] + flow[4,5]             <gurobi.Var flow[2,4]>   \n",
       "5  <gurobi.Var flow[5,0]>              flow[3,5] + flow[4,5]   \n",
       "\n",
       "                      balance  \n",
       "0  <gurobi.Constr balance[0]>  \n",
       "1  <gurobi.Constr balance[1]>  \n",
       "2  <gurobi.Constr balance[2]>  \n",
       "3  <gurobi.Constr balance[3]>  \n",
       "4  <gurobi.Constr balance[4]>  \n",
       "5  <gurobi.Constr balance[5]>  "
      ]
     },
     "execution_count": 5,
     "metadata": {},
     "output_type": "execute_result"
    }
   ],
   "source": [
    "constrs = (\n",
    "    pd.DataFrame({\n",
    "        \"outflow\": arc_df[\"flow\"].groupby(\"from\").sum(),\n",
    "        \"inflow\": arc_df[\"flow\"].groupby(\"to\").sum(),\n",
    "    })\n",
    "    .gppd.add_constrs(model, \"outflow == inflow\", name=\"balance\")\n",
    ")\n",
    "model.update()\n",
    "constrs"
   ]
  },
  {
   "cell_type": "markdown",
   "id": "796fee9a",
   "metadata": {},
   "source": [
    "Do some quick debugging checks to show the constraints were constructed as expected:"
   ]
  },
  {
   "cell_type": "code",
   "execution_count": 6,
   "id": "cc5273ec",
   "metadata": {},
   "outputs": [
    {
     "data": {
      "text/plain": [
       "0               flow[0,1] + flow[0,2] + -1.0 flow[5,0]\n",
       "1    -1.0 flow[0,1] + flow[1,2] + -1.0 flow[2,1] + ...\n",
       "2    -1.0 flow[0,2] + -1.0 flow[1,2] + flow[2,1] + ...\n",
       "3    -1.0 flow[1,3] + flow[3,2] + -1.0 flow[4,3] + ...\n",
       "4               -1.0 flow[2,4] + flow[4,3] + flow[4,5]\n",
       "5          -1.0 flow[3,5] + -1.0 flow[4,5] + flow[5,0]\n",
       "Name: balance, dtype: object"
      ]
     },
     "execution_count": 6,
     "metadata": {},
     "output_type": "execute_result"
    }
   ],
   "source": [
    "constrs['balance'].apply(model.getRow)"
   ]
  },
  {
   "cell_type": "code",
   "execution_count": 7,
   "id": "e1137103",
   "metadata": {},
   "outputs": [
    {
     "data": {
      "text/plain": [
       "0    0.0\n",
       "1    0.0\n",
       "2    0.0\n",
       "3    0.0\n",
       "4    0.0\n",
       "5    0.0\n",
       "Name: balance, dtype: float64"
      ]
     },
     "execution_count": 7,
     "metadata": {},
     "output_type": "execute_result"
    }
   ],
   "source": [
    "constrs['balance'].gppd.RHS"
   ]
  },
  {
   "cell_type": "markdown",
   "id": "d3cac270",
   "metadata": {},
   "source": [
    "Solve the model, and extract the arc flows using the series accessors implemented in `gurobipy-pandas`:"
   ]
  },
  {
   "cell_type": "code",
   "execution_count": 8,
   "id": "59d9038f",
   "metadata": {
    "execution": {
     "iopub.execute_input": "2023-01-22T11:00:57.801086Z",
     "iopub.status.busy": "2023-01-22T11:00:57.800809Z",
     "iopub.status.idle": "2023-01-22T11:00:57.815718Z",
     "shell.execute_reply": "2023-01-22T11:00:57.814992Z"
    }
   },
   "outputs": [
    {
     "data": {
      "text/plain": [
       "from  to\n",
       "0     1     16.0\n",
       "      2      7.0\n",
       "1     2      4.0\n",
       "2     1      0.0\n",
       "1     3     12.0\n",
       "3     2      0.0\n",
       "2     4     11.0\n",
       "4     3      7.0\n",
       "3     5     19.0\n",
       "4     5      4.0\n",
       "5     0     23.0\n",
       "Name: flow, dtype: float64"
      ]
     },
     "execution_count": 8,
     "metadata": {},
     "output_type": "execute_result"
    }
   ],
   "source": [
    "model.optimize()\n",
    "arc_df[\"flow\"].gppd.X"
   ]
  },
  {
   "cell_type": "markdown",
   "id": "4fd596ff",
   "metadata": {},
   "source": [
    "It's also possible to use the constraints dataframe to compute total inflows and outflows from each node, based on the current solution, since it contains all the relevant linear expressions."
   ]
  },
  {
   "cell_type": "code",
   "execution_count": 9,
   "id": "55038382",
   "metadata": {
    "execution": {
     "iopub.execute_input": "2023-01-22T11:00:57.831881Z",
     "iopub.status.busy": "2023-01-22T11:00:57.831570Z",
     "iopub.status.idle": "2023-01-22T11:00:57.843119Z",
     "shell.execute_reply": "2023-01-22T11:00:57.842569Z"
    }
   },
   "outputs": [
    {
     "data": {
      "text/html": [
       "<div>\n",
       "<style scoped>\n",
       "    .dataframe tbody tr th:only-of-type {\n",
       "        vertical-align: middle;\n",
       "    }\n",
       "\n",
       "    .dataframe tbody tr th {\n",
       "        vertical-align: top;\n",
       "    }\n",
       "\n",
       "    .dataframe thead th {\n",
       "        text-align: right;\n",
       "    }\n",
       "</style>\n",
       "<table border=\"1\" class=\"dataframe\">\n",
       "  <thead>\n",
       "    <tr style=\"text-align: right;\">\n",
       "      <th></th>\n",
       "      <th>outflow</th>\n",
       "      <th>inflow</th>\n",
       "      <th>balance</th>\n",
       "      <th>inflow_result</th>\n",
       "      <th>outflow_result</th>\n",
       "    </tr>\n",
       "  </thead>\n",
       "  <tbody>\n",
       "    <tr>\n",
       "      <th>0</th>\n",
       "      <td>flow[0,1] + flow[0,2]</td>\n",
       "      <td>&lt;gurobi.Var flow[5,0] (value 23.0)&gt;</td>\n",
       "      <td>&lt;gurobi.Constr balance[0]&gt;</td>\n",
       "      <td>23.0</td>\n",
       "      <td>23.0</td>\n",
       "    </tr>\n",
       "    <tr>\n",
       "      <th>1</th>\n",
       "      <td>flow[1,2] + flow[1,3]</td>\n",
       "      <td>flow[0,1] + flow[2,1]</td>\n",
       "      <td>&lt;gurobi.Constr balance[1]&gt;</td>\n",
       "      <td>16.0</td>\n",
       "      <td>16.0</td>\n",
       "    </tr>\n",
       "    <tr>\n",
       "      <th>2</th>\n",
       "      <td>flow[2,1] + flow[2,4]</td>\n",
       "      <td>flow[0,2] + flow[1,2] + flow[3,2]</td>\n",
       "      <td>&lt;gurobi.Constr balance[2]&gt;</td>\n",
       "      <td>11.0</td>\n",
       "      <td>11.0</td>\n",
       "    </tr>\n",
       "    <tr>\n",
       "      <th>3</th>\n",
       "      <td>flow[3,2] + flow[3,5]</td>\n",
       "      <td>flow[1,3] + flow[4,3]</td>\n",
       "      <td>&lt;gurobi.Constr balance[3]&gt;</td>\n",
       "      <td>19.0</td>\n",
       "      <td>19.0</td>\n",
       "    </tr>\n",
       "    <tr>\n",
       "      <th>4</th>\n",
       "      <td>flow[4,3] + flow[4,5]</td>\n",
       "      <td>&lt;gurobi.Var flow[2,4] (value 11.0)&gt;</td>\n",
       "      <td>&lt;gurobi.Constr balance[4]&gt;</td>\n",
       "      <td>11.0</td>\n",
       "      <td>11.0</td>\n",
       "    </tr>\n",
       "    <tr>\n",
       "      <th>5</th>\n",
       "      <td>&lt;gurobi.Var flow[5,0] (value 23.0)&gt;</td>\n",
       "      <td>flow[3,5] + flow[4,5]</td>\n",
       "      <td>&lt;gurobi.Constr balance[5]&gt;</td>\n",
       "      <td>23.0</td>\n",
       "      <td>23.0</td>\n",
       "    </tr>\n",
       "  </tbody>\n",
       "</table>\n",
       "</div>"
      ],
      "text/plain": [
       "                               outflow                               inflow  \\\n",
       "0                flow[0,1] + flow[0,2]  <gurobi.Var flow[5,0] (value 23.0)>   \n",
       "1                flow[1,2] + flow[1,3]                flow[0,1] + flow[2,1]   \n",
       "2                flow[2,1] + flow[2,4]    flow[0,2] + flow[1,2] + flow[3,2]   \n",
       "3                flow[3,2] + flow[3,5]                flow[1,3] + flow[4,3]   \n",
       "4                flow[4,3] + flow[4,5]  <gurobi.Var flow[2,4] (value 11.0)>   \n",
       "5  <gurobi.Var flow[5,0] (value 23.0)>                flow[3,5] + flow[4,5]   \n",
       "\n",
       "                      balance  inflow_result  outflow_result  \n",
       "0  <gurobi.Constr balance[0]>           23.0            23.0  \n",
       "1  <gurobi.Constr balance[1]>           16.0            16.0  \n",
       "2  <gurobi.Constr balance[2]>           11.0            11.0  \n",
       "3  <gurobi.Constr balance[3]>           19.0            19.0  \n",
       "4  <gurobi.Constr balance[4]>           11.0            11.0  \n",
       "5  <gurobi.Constr balance[5]>           23.0            23.0  "
      ]
     },
     "execution_count": 9,
     "metadata": {},
     "output_type": "execute_result"
    }
   ],
   "source": [
    "(\n",
    "    constrs\n",
    "    .assign(\n",
    "        inflow_result=lambda df: df['inflow'].apply(gp.LinExpr).gppd.get_value(),\n",
    "        outflow_result=lambda df: df['outflow'].apply(gp.LinExpr).gppd.get_value(),\n",
    "    )\n",
    ")"
   ]
  },
  {
   "cell_type": "markdown",
   "id": "76a485fb",
   "metadata": {},
   "source": [
    "## Networks with demand nodes\n",
    "\n",
    "Another model we might want to tackle is a network consisting of different node types:\n",
    "\n",
    "- transshipment nodes with no demand or supply\n",
    "- supply nodes with an external input\n",
    "- demand nodes with an external output\n",
    "\n",
    "The input dataframe structure for the network is the same here. Again, the model is structured such that if an edge is not in the network, it should not appear in this datase (and hence, cannot take any flows)."
   ]
  },
  {
   "cell_type": "code",
   "execution_count": 10,
   "id": "49e25a75",
   "metadata": {
    "execution": {
     "iopub.execute_input": "2023-01-22T11:00:57.846266Z",
     "iopub.status.busy": "2023-01-22T11:00:57.845982Z",
     "iopub.status.idle": "2023-01-22T11:00:57.856172Z",
     "shell.execute_reply": "2023-01-22T11:00:57.855610Z"
    }
   },
   "outputs": [
    {
     "data": {
      "text/html": [
       "<div>\n",
       "<style scoped>\n",
       "    .dataframe tbody tr th:only-of-type {\n",
       "        vertical-align: middle;\n",
       "    }\n",
       "\n",
       "    .dataframe tbody tr th {\n",
       "        vertical-align: top;\n",
       "    }\n",
       "\n",
       "    .dataframe thead th {\n",
       "        text-align: right;\n",
       "    }\n",
       "</style>\n",
       "<table border=\"1\" class=\"dataframe\">\n",
       "  <thead>\n",
       "    <tr style=\"text-align: right;\">\n",
       "      <th></th>\n",
       "      <th></th>\n",
       "      <th>capacity</th>\n",
       "      <th>cost</th>\n",
       "    </tr>\n",
       "    <tr>\n",
       "      <th>from</th>\n",
       "      <th>to</th>\n",
       "      <th></th>\n",
       "      <th></th>\n",
       "    </tr>\n",
       "  </thead>\n",
       "  <tbody>\n",
       "    <tr>\n",
       "      <th rowspan=\"2\" valign=\"top\">0</th>\n",
       "      <th>1</th>\n",
       "      <td>16</td>\n",
       "      <td>1</td>\n",
       "    </tr>\n",
       "    <tr>\n",
       "      <th>2</th>\n",
       "      <td>13</td>\n",
       "      <td>2</td>\n",
       "    </tr>\n",
       "    <tr>\n",
       "      <th>1</th>\n",
       "      <th>2</th>\n",
       "      <td>10</td>\n",
       "      <td>1</td>\n",
       "    </tr>\n",
       "    <tr>\n",
       "      <th>2</th>\n",
       "      <th>1</th>\n",
       "      <td>4</td>\n",
       "      <td>3</td>\n",
       "    </tr>\n",
       "    <tr>\n",
       "      <th>1</th>\n",
       "      <th>3</th>\n",
       "      <td>12</td>\n",
       "      <td>1</td>\n",
       "    </tr>\n",
       "    <tr>\n",
       "      <th>3</th>\n",
       "      <th>2</th>\n",
       "      <td>9</td>\n",
       "      <td>2</td>\n",
       "    </tr>\n",
       "    <tr>\n",
       "      <th>2</th>\n",
       "      <th>4</th>\n",
       "      <td>14</td>\n",
       "      <td>3</td>\n",
       "    </tr>\n",
       "    <tr>\n",
       "      <th>4</th>\n",
       "      <th>3</th>\n",
       "      <td>7</td>\n",
       "      <td>1</td>\n",
       "    </tr>\n",
       "    <tr>\n",
       "      <th>3</th>\n",
       "      <th>5</th>\n",
       "      <td>20</td>\n",
       "      <td>2</td>\n",
       "    </tr>\n",
       "    <tr>\n",
       "      <th>4</th>\n",
       "      <th>5</th>\n",
       "      <td>4</td>\n",
       "      <td>1</td>\n",
       "    </tr>\n",
       "  </tbody>\n",
       "</table>\n",
       "</div>"
      ],
      "text/plain": [
       "         capacity  cost\n",
       "from to                \n",
       "0    1         16     1\n",
       "     2         13     2\n",
       "1    2         10     1\n",
       "2    1          4     3\n",
       "1    3         12     1\n",
       "3    2          9     2\n",
       "2    4         14     3\n",
       "4    3          7     1\n",
       "3    5         20     2\n",
       "4    5          4     1"
      ]
     },
     "execution_count": 10,
     "metadata": {},
     "output_type": "execute_result"
    }
   ],
   "source": [
    "arc_data = pd.DataFrame([\n",
    "    {\"from\": 0, \"to\": 1, \"capacity\": 16, \"cost\": 1},\n",
    "    {\"from\": 0, \"to\": 2, \"capacity\": 13, \"cost\": 2},\n",
    "    {\"from\": 1, \"to\": 2, \"capacity\": 10, \"cost\": 1},\n",
    "    {\"from\": 2, \"to\": 1, \"capacity\": 4, \"cost\": 3},\n",
    "    {\"from\": 1, \"to\": 3, \"capacity\": 12, \"cost\": 1},\n",
    "    {\"from\": 3, \"to\": 2, \"capacity\": 9, \"cost\": 2},\n",
    "    {\"from\": 2, \"to\": 4, \"capacity\": 14, \"cost\": 3},\n",
    "    {\"from\": 4, \"to\": 3, \"capacity\": 7, \"cost\": 1},\n",
    "    {\"from\": 3, \"to\": 5, \"capacity\": 20, \"cost\": 2},\n",
    "    {\"from\": 4, \"to\": 5, \"capacity\": 4, \"cost\": 1},\n",
    "]).set_index([\"from\", \"to\"])\n",
    "\n",
    "arc_data"
   ]
  },
  {
   "cell_type": "markdown",
   "id": "ae00f7ed",
   "metadata": {},
   "source": [
    "We need to also store the supply/demand requirements for each node. Here, we store this data in a dataframe, indexed by node, with a single demand column. A negative demand entry indicates a supply node, positive a demand. Transshipment nodes do not appear in this frame (implicitly supply, & demand are zero)."
   ]
  },
  {
   "cell_type": "code",
   "execution_count": 11,
   "id": "679ee8ec",
   "metadata": {
    "execution": {
     "iopub.execute_input": "2023-01-22T11:00:57.858916Z",
     "iopub.status.busy": "2023-01-22T11:00:57.858665Z",
     "iopub.status.idle": "2023-01-22T11:00:57.865293Z",
     "shell.execute_reply": "2023-01-22T11:00:57.864766Z"
    }
   },
   "outputs": [
    {
     "data": {
      "text/html": [
       "<div>\n",
       "<style scoped>\n",
       "    .dataframe tbody tr th:only-of-type {\n",
       "        vertical-align: middle;\n",
       "    }\n",
       "\n",
       "    .dataframe tbody tr th {\n",
       "        vertical-align: top;\n",
       "    }\n",
       "\n",
       "    .dataframe thead th {\n",
       "        text-align: right;\n",
       "    }\n",
       "</style>\n",
       "<table border=\"1\" class=\"dataframe\">\n",
       "  <thead>\n",
       "    <tr style=\"text-align: right;\">\n",
       "      <th></th>\n",
       "      <th>demand</th>\n",
       "    </tr>\n",
       "    <tr>\n",
       "      <th>node</th>\n",
       "      <th></th>\n",
       "    </tr>\n",
       "  </thead>\n",
       "  <tbody>\n",
       "    <tr>\n",
       "      <th>0</th>\n",
       "      <td>-23</td>\n",
       "    </tr>\n",
       "    <tr>\n",
       "      <th>5</th>\n",
       "      <td>23</td>\n",
       "    </tr>\n",
       "  </tbody>\n",
       "</table>\n",
       "</div>"
      ],
      "text/plain": [
       "      demand\n",
       "node        \n",
       "0        -23\n",
       "5         23"
      ]
     },
     "execution_count": 11,
     "metadata": {},
     "output_type": "execute_result"
    }
   ],
   "source": [
    "demand_data = pd.DataFrame([\n",
    "    {\"node\": 0, \"demand\": -23},\n",
    "    {\"node\": 5, \"demand\": 23}\n",
    "]).set_index(\"node\")\n",
    "demand_data"
   ]
  },
  {
   "cell_type": "markdown",
   "id": "2f6d34bb",
   "metadata": {},
   "source": [
    "Add flow variables using the same approach as before (one per arc in the dataframe):"
   ]
  },
  {
   "cell_type": "code",
   "execution_count": 12,
   "id": "e4092b9e",
   "metadata": {
    "execution": {
     "iopub.execute_input": "2023-01-22T11:00:57.867967Z",
     "iopub.status.busy": "2023-01-22T11:00:57.867723Z",
     "iopub.status.idle": "2023-01-22T11:00:57.879639Z",
     "shell.execute_reply": "2023-01-22T11:00:57.879083Z"
    }
   },
   "outputs": [
    {
     "data": {
      "text/html": [
       "<div>\n",
       "<style scoped>\n",
       "    .dataframe tbody tr th:only-of-type {\n",
       "        vertical-align: middle;\n",
       "    }\n",
       "\n",
       "    .dataframe tbody tr th {\n",
       "        vertical-align: top;\n",
       "    }\n",
       "\n",
       "    .dataframe thead th {\n",
       "        text-align: right;\n",
       "    }\n",
       "</style>\n",
       "<table border=\"1\" class=\"dataframe\">\n",
       "  <thead>\n",
       "    <tr style=\"text-align: right;\">\n",
       "      <th></th>\n",
       "      <th></th>\n",
       "      <th>capacity</th>\n",
       "      <th>cost</th>\n",
       "      <th>flow</th>\n",
       "    </tr>\n",
       "    <tr>\n",
       "      <th>from</th>\n",
       "      <th>to</th>\n",
       "      <th></th>\n",
       "      <th></th>\n",
       "      <th></th>\n",
       "    </tr>\n",
       "  </thead>\n",
       "  <tbody>\n",
       "    <tr>\n",
       "      <th rowspan=\"2\" valign=\"top\">0</th>\n",
       "      <th>1</th>\n",
       "      <td>16</td>\n",
       "      <td>1</td>\n",
       "      <td>&lt;gurobi.Var flow[0,1]&gt;</td>\n",
       "    </tr>\n",
       "    <tr>\n",
       "      <th>2</th>\n",
       "      <td>13</td>\n",
       "      <td>2</td>\n",
       "      <td>&lt;gurobi.Var flow[0,2]&gt;</td>\n",
       "    </tr>\n",
       "    <tr>\n",
       "      <th>1</th>\n",
       "      <th>2</th>\n",
       "      <td>10</td>\n",
       "      <td>1</td>\n",
       "      <td>&lt;gurobi.Var flow[1,2]&gt;</td>\n",
       "    </tr>\n",
       "    <tr>\n",
       "      <th>2</th>\n",
       "      <th>1</th>\n",
       "      <td>4</td>\n",
       "      <td>3</td>\n",
       "      <td>&lt;gurobi.Var flow[2,1]&gt;</td>\n",
       "    </tr>\n",
       "    <tr>\n",
       "      <th>1</th>\n",
       "      <th>3</th>\n",
       "      <td>12</td>\n",
       "      <td>1</td>\n",
       "      <td>&lt;gurobi.Var flow[1,3]&gt;</td>\n",
       "    </tr>\n",
       "    <tr>\n",
       "      <th>3</th>\n",
       "      <th>2</th>\n",
       "      <td>9</td>\n",
       "      <td>2</td>\n",
       "      <td>&lt;gurobi.Var flow[3,2]&gt;</td>\n",
       "    </tr>\n",
       "    <tr>\n",
       "      <th>2</th>\n",
       "      <th>4</th>\n",
       "      <td>14</td>\n",
       "      <td>3</td>\n",
       "      <td>&lt;gurobi.Var flow[2,4]&gt;</td>\n",
       "    </tr>\n",
       "    <tr>\n",
       "      <th>4</th>\n",
       "      <th>3</th>\n",
       "      <td>7</td>\n",
       "      <td>1</td>\n",
       "      <td>&lt;gurobi.Var flow[4,3]&gt;</td>\n",
       "    </tr>\n",
       "    <tr>\n",
       "      <th>3</th>\n",
       "      <th>5</th>\n",
       "      <td>20</td>\n",
       "      <td>2</td>\n",
       "      <td>&lt;gurobi.Var flow[3,5]&gt;</td>\n",
       "    </tr>\n",
       "    <tr>\n",
       "      <th>4</th>\n",
       "      <th>5</th>\n",
       "      <td>4</td>\n",
       "      <td>1</td>\n",
       "      <td>&lt;gurobi.Var flow[4,5]&gt;</td>\n",
       "    </tr>\n",
       "  </tbody>\n",
       "</table>\n",
       "</div>"
      ],
      "text/plain": [
       "         capacity  cost                    flow\n",
       "from to                                        \n",
       "0    1         16     1  <gurobi.Var flow[0,1]>\n",
       "     2         13     2  <gurobi.Var flow[0,2]>\n",
       "1    2         10     1  <gurobi.Var flow[1,2]>\n",
       "2    1          4     3  <gurobi.Var flow[2,1]>\n",
       "1    3         12     1  <gurobi.Var flow[1,3]>\n",
       "3    2          9     2  <gurobi.Var flow[3,2]>\n",
       "2    4         14     3  <gurobi.Var flow[2,4]>\n",
       "4    3          7     1  <gurobi.Var flow[4,3]>\n",
       "3    5         20     2  <gurobi.Var flow[3,5]>\n",
       "4    5          4     1  <gurobi.Var flow[4,5]>"
      ]
     },
     "execution_count": 12,
     "metadata": {},
     "output_type": "execute_result"
    }
   ],
   "source": [
    "model = gp.Model(\"supply-demand\")\n",
    "model.ModelSense = GRB.MINIMIZE\n",
    "\n",
    "arc_df = arc_data.gppd.add_vars(model, name=\"flow\", ub=\"capacity\", obj=\"cost\")\n",
    "arc_df"
   ]
  },
  {
   "cell_type": "code",
   "execution_count": 13,
   "id": "996712ed",
   "metadata": {},
   "outputs": [
    {
     "data": {
      "text/plain": [
       "<gurobi.LinExpr: flow[0,1] + 2.0 flow[0,2] + flow[1,2] + 3.0 flow[2,1] + flow[1,3] + 2.0 flow[3,2] + 3.0 flow[2,4] + flow[4,3] + 2.0 flow[3,5] + flow[4,5]>"
      ]
     },
     "execution_count": 13,
     "metadata": {},
     "output_type": "execute_result"
    }
   ],
   "source": [
    "model.getObjective()"
   ]
  },
  {
   "cell_type": "markdown",
   "id": "04639a36",
   "metadata": {},
   "source": [
    "Construction of flow balance is similar to the max-flow example, but we also need to include the supply/demand data.\n",
    "\n",
    "One important note is that since various nodes are missing either inflow, outflow, or demand based on the network structure, there will be missing values in this dataframe. `gurobipy-pandas` explicitly disallows this, so we need to fill in the data.\n",
    "\n",
    "Based on the way we structured the data initially: a missing entry in the demand column indicates a transhipment node (zero supply or demand). Similarly, if a node has no inflow edge, or no outflow edge, we can safely say it's total inflow or outflow, respectively, are zero. So applying `.fillna(0)` to this dataframe gives us the correct model."
   ]
  },
  {
   "cell_type": "code",
   "execution_count": 14,
   "id": "a800779b",
   "metadata": {},
   "outputs": [
    {
     "data": {
      "text/html": [
       "<div>\n",
       "<style scoped>\n",
       "    .dataframe tbody tr th:only-of-type {\n",
       "        vertical-align: middle;\n",
       "    }\n",
       "\n",
       "    .dataframe tbody tr th {\n",
       "        vertical-align: top;\n",
       "    }\n",
       "\n",
       "    .dataframe thead th {\n",
       "        text-align: right;\n",
       "    }\n",
       "</style>\n",
       "<table border=\"1\" class=\"dataframe\">\n",
       "  <thead>\n",
       "    <tr style=\"text-align: right;\">\n",
       "      <th></th>\n",
       "      <th>inflow</th>\n",
       "      <th>outflow</th>\n",
       "      <th>demand</th>\n",
       "    </tr>\n",
       "  </thead>\n",
       "  <tbody>\n",
       "    <tr>\n",
       "      <th>0</th>\n",
       "      <td>NaN</td>\n",
       "      <td>flow[0,1] + flow[0,2]</td>\n",
       "      <td>-23.0</td>\n",
       "    </tr>\n",
       "    <tr>\n",
       "      <th>1</th>\n",
       "      <td>flow[0,1] + flow[2,1]</td>\n",
       "      <td>flow[1,2] + flow[1,3]</td>\n",
       "      <td>NaN</td>\n",
       "    </tr>\n",
       "    <tr>\n",
       "      <th>2</th>\n",
       "      <td>flow[0,2] + flow[1,2] + flow[3,2]</td>\n",
       "      <td>flow[2,1] + flow[2,4]</td>\n",
       "      <td>NaN</td>\n",
       "    </tr>\n",
       "    <tr>\n",
       "      <th>3</th>\n",
       "      <td>flow[1,3] + flow[4,3]</td>\n",
       "      <td>flow[3,2] + flow[3,5]</td>\n",
       "      <td>NaN</td>\n",
       "    </tr>\n",
       "    <tr>\n",
       "      <th>4</th>\n",
       "      <td>&lt;gurobi.Var flow[2,4]&gt;</td>\n",
       "      <td>flow[4,3] + flow[4,5]</td>\n",
       "      <td>NaN</td>\n",
       "    </tr>\n",
       "    <tr>\n",
       "      <th>5</th>\n",
       "      <td>flow[3,5] + flow[4,5]</td>\n",
       "      <td>NaN</td>\n",
       "      <td>23.0</td>\n",
       "    </tr>\n",
       "  </tbody>\n",
       "</table>\n",
       "</div>"
      ],
      "text/plain": [
       "                              inflow                outflow  demand\n",
       "0                                NaN  flow[0,1] + flow[0,2]   -23.0\n",
       "1              flow[0,1] + flow[2,1]  flow[1,2] + flow[1,3]     NaN\n",
       "2  flow[0,2] + flow[1,2] + flow[3,2]  flow[2,1] + flow[2,4]     NaN\n",
       "3              flow[1,3] + flow[4,3]  flow[3,2] + flow[3,5]     NaN\n",
       "4             <gurobi.Var flow[2,4]>  flow[4,3] + flow[4,5]     NaN\n",
       "5              flow[3,5] + flow[4,5]                    NaN    23.0"
      ]
     },
     "execution_count": 14,
     "metadata": {},
     "output_type": "execute_result"
    }
   ],
   "source": [
    "pd.DataFrame({\n",
    "    \"inflow\": arc_df[\"flow\"].groupby(\"to\").sum(),\n",
    "    \"outflow\": arc_df[\"flow\"].groupby(\"from\").sum(),\n",
    "    \"demand\": demand_data[\"demand\"],\n",
    "})"
   ]
  },
  {
   "cell_type": "markdown",
   "id": "aadcde73",
   "metadata": {},
   "source": [
    "Applying `fillna`, then using method chaining to construct constraints, we get the following result:"
   ]
  },
  {
   "cell_type": "code",
   "execution_count": 15,
   "id": "c65cd430",
   "metadata": {
    "execution": {
     "iopub.execute_input": "2023-01-22T11:00:57.882349Z",
     "iopub.status.busy": "2023-01-22T11:00:57.882102Z",
     "iopub.status.idle": "2023-01-22T11:00:57.895818Z",
     "shell.execute_reply": "2023-01-22T11:00:57.895255Z"
    }
   },
   "outputs": [
    {
     "data": {
      "text/html": [
       "<div>\n",
       "<style scoped>\n",
       "    .dataframe tbody tr th:only-of-type {\n",
       "        vertical-align: middle;\n",
       "    }\n",
       "\n",
       "    .dataframe tbody tr th {\n",
       "        vertical-align: top;\n",
       "    }\n",
       "\n",
       "    .dataframe thead th {\n",
       "        text-align: right;\n",
       "    }\n",
       "</style>\n",
       "<table border=\"1\" class=\"dataframe\">\n",
       "  <thead>\n",
       "    <tr style=\"text-align: right;\">\n",
       "      <th></th>\n",
       "      <th>inflow</th>\n",
       "      <th>outflow</th>\n",
       "      <th>demand</th>\n",
       "      <th>balance</th>\n",
       "    </tr>\n",
       "  </thead>\n",
       "  <tbody>\n",
       "    <tr>\n",
       "      <th>0</th>\n",
       "      <td>0</td>\n",
       "      <td>flow[0,1] + flow[0,2]</td>\n",
       "      <td>-23.0</td>\n",
       "      <td>&lt;gurobi.Constr balance[0]&gt;</td>\n",
       "    </tr>\n",
       "    <tr>\n",
       "      <th>1</th>\n",
       "      <td>flow[0,1] + flow[2,1]</td>\n",
       "      <td>flow[1,2] + flow[1,3]</td>\n",
       "      <td>0.0</td>\n",
       "      <td>&lt;gurobi.Constr balance[1]&gt;</td>\n",
       "    </tr>\n",
       "    <tr>\n",
       "      <th>2</th>\n",
       "      <td>flow[0,2] + flow[1,2] + flow[3,2]</td>\n",
       "      <td>flow[2,1] + flow[2,4]</td>\n",
       "      <td>0.0</td>\n",
       "      <td>&lt;gurobi.Constr balance[2]&gt;</td>\n",
       "    </tr>\n",
       "    <tr>\n",
       "      <th>3</th>\n",
       "      <td>flow[1,3] + flow[4,3]</td>\n",
       "      <td>flow[3,2] + flow[3,5]</td>\n",
       "      <td>0.0</td>\n",
       "      <td>&lt;gurobi.Constr balance[3]&gt;</td>\n",
       "    </tr>\n",
       "    <tr>\n",
       "      <th>4</th>\n",
       "      <td>&lt;gurobi.Var flow[2,4]&gt;</td>\n",
       "      <td>flow[4,3] + flow[4,5]</td>\n",
       "      <td>0.0</td>\n",
       "      <td>&lt;gurobi.Constr balance[4]&gt;</td>\n",
       "    </tr>\n",
       "    <tr>\n",
       "      <th>5</th>\n",
       "      <td>flow[3,5] + flow[4,5]</td>\n",
       "      <td>0</td>\n",
       "      <td>23.0</td>\n",
       "      <td>&lt;gurobi.Constr balance[5]&gt;</td>\n",
       "    </tr>\n",
       "  </tbody>\n",
       "</table>\n",
       "</div>"
      ],
      "text/plain": [
       "                              inflow                outflow  demand  \\\n",
       "0                                  0  flow[0,1] + flow[0,2]   -23.0   \n",
       "1              flow[0,1] + flow[2,1]  flow[1,2] + flow[1,3]     0.0   \n",
       "2  flow[0,2] + flow[1,2] + flow[3,2]  flow[2,1] + flow[2,4]     0.0   \n",
       "3              flow[1,3] + flow[4,3]  flow[3,2] + flow[3,5]     0.0   \n",
       "4             <gurobi.Var flow[2,4]>  flow[4,3] + flow[4,5]     0.0   \n",
       "5              flow[3,5] + flow[4,5]                      0    23.0   \n",
       "\n",
       "                      balance  \n",
       "0  <gurobi.Constr balance[0]>  \n",
       "1  <gurobi.Constr balance[1]>  \n",
       "2  <gurobi.Constr balance[2]>  \n",
       "3  <gurobi.Constr balance[3]>  \n",
       "4  <gurobi.Constr balance[4]>  \n",
       "5  <gurobi.Constr balance[5]>  "
      ]
     },
     "execution_count": 15,
     "metadata": {},
     "output_type": "execute_result"
    }
   ],
   "source": [
    "balance_df = (\n",
    "    pd.DataFrame({\n",
    "        \"inflow\": arc_df[\"flow\"].groupby(\"to\").sum(),\n",
    "        \"outflow\": arc_df[\"flow\"].groupby(\"from\").sum(),\n",
    "        \"demand\": demand_data[\"demand\"],\n",
    "    })\n",
    "    .fillna(0)   # zero fill (some nodes have no in, out, or demand)\n",
    "    .gppd.add_constrs(model, \"inflow - outflow == demand\", name=\"balance\")\n",
    ")\n",
    "balance_df"
   ]
  },
  {
   "cell_type": "markdown",
   "id": "4f226a6e",
   "metadata": {},
   "source": [
    "We can again inspect the constraints they were built to confirm:"
   ]
  },
  {
   "cell_type": "code",
   "execution_count": 16,
   "id": "959e940b",
   "metadata": {},
   "outputs": [
    {
     "data": {
      "text/plain": [
       "0                      -1.0 flow[0,1] + -1.0 flow[0,2]\n",
       "1    flow[0,1] + -1.0 flow[1,2] + flow[2,1] + -1.0 ...\n",
       "2    flow[0,2] + flow[1,2] + -1.0 flow[2,1] + flow[...\n",
       "3    flow[1,3] + -1.0 flow[3,2] + flow[4,3] + -1.0 ...\n",
       "4          flow[2,4] + -1.0 flow[4,3] + -1.0 flow[4,5]\n",
       "5                                flow[3,5] + flow[4,5]\n",
       "Name: balance, dtype: object"
      ]
     },
     "execution_count": 16,
     "metadata": {},
     "output_type": "execute_result"
    }
   ],
   "source": [
    "balance_df['balance'].apply(model.getRow)"
   ]
  },
  {
   "cell_type": "code",
   "execution_count": 17,
   "id": "e7e401c9",
   "metadata": {},
   "outputs": [
    {
     "data": {
      "text/plain": [
       "0   -23.0\n",
       "1     0.0\n",
       "2     0.0\n",
       "3     0.0\n",
       "4     0.0\n",
       "5    23.0\n",
       "Name: balance, dtype: float64"
      ]
     },
     "execution_count": 17,
     "metadata": {},
     "output_type": "execute_result"
    }
   ],
   "source": [
    "balance_df['balance'].gppd.RHS"
   ]
  },
  {
   "cell_type": "markdown",
   "id": "48fdfa88",
   "metadata": {},
   "source": [
    "Solve the model, and append the results as a column in the flows dataframe. We can easily inspect this to see that capacities are respected:"
   ]
  },
  {
   "cell_type": "code",
   "execution_count": 18,
   "id": "6a659e7f",
   "metadata": {
    "execution": {
     "iopub.execute_input": "2023-01-22T11:00:57.910145Z",
     "iopub.status.busy": "2023-01-22T11:00:57.909891Z",
     "iopub.status.idle": "2023-01-22T11:00:57.923504Z",
     "shell.execute_reply": "2023-01-22T11:00:57.922971Z"
    }
   },
   "outputs": [
    {
     "data": {
      "text/html": [
       "<div>\n",
       "<style scoped>\n",
       "    .dataframe tbody tr th:only-of-type {\n",
       "        vertical-align: middle;\n",
       "    }\n",
       "\n",
       "    .dataframe tbody tr th {\n",
       "        vertical-align: top;\n",
       "    }\n",
       "\n",
       "    .dataframe thead th {\n",
       "        text-align: right;\n",
       "    }\n",
       "</style>\n",
       "<table border=\"1\" class=\"dataframe\">\n",
       "  <thead>\n",
       "    <tr style=\"text-align: right;\">\n",
       "      <th></th>\n",
       "      <th></th>\n",
       "      <th>capacity</th>\n",
       "      <th>cost</th>\n",
       "      <th>flow</th>\n",
       "      <th>result</th>\n",
       "    </tr>\n",
       "    <tr>\n",
       "      <th>from</th>\n",
       "      <th>to</th>\n",
       "      <th></th>\n",
       "      <th></th>\n",
       "      <th></th>\n",
       "      <th></th>\n",
       "    </tr>\n",
       "  </thead>\n",
       "  <tbody>\n",
       "    <tr>\n",
       "      <th rowspan=\"2\" valign=\"top\">0</th>\n",
       "      <th>1</th>\n",
       "      <td>16</td>\n",
       "      <td>1</td>\n",
       "      <td>&lt;gurobi.Var flow[0,1] (value 12.0)&gt;</td>\n",
       "      <td>12.0</td>\n",
       "    </tr>\n",
       "    <tr>\n",
       "      <th>2</th>\n",
       "      <td>13</td>\n",
       "      <td>2</td>\n",
       "      <td>&lt;gurobi.Var flow[0,2] (value 11.0)&gt;</td>\n",
       "      <td>11.0</td>\n",
       "    </tr>\n",
       "    <tr>\n",
       "      <th>1</th>\n",
       "      <th>2</th>\n",
       "      <td>10</td>\n",
       "      <td>1</td>\n",
       "      <td>&lt;gurobi.Var flow[1,2] (value 0.0)&gt;</td>\n",
       "      <td>0.0</td>\n",
       "    </tr>\n",
       "    <tr>\n",
       "      <th>2</th>\n",
       "      <th>1</th>\n",
       "      <td>4</td>\n",
       "      <td>3</td>\n",
       "      <td>&lt;gurobi.Var flow[2,1] (value 0.0)&gt;</td>\n",
       "      <td>0.0</td>\n",
       "    </tr>\n",
       "    <tr>\n",
       "      <th>1</th>\n",
       "      <th>3</th>\n",
       "      <td>12</td>\n",
       "      <td>1</td>\n",
       "      <td>&lt;gurobi.Var flow[1,3] (value 12.0)&gt;</td>\n",
       "      <td>12.0</td>\n",
       "    </tr>\n",
       "    <tr>\n",
       "      <th>3</th>\n",
       "      <th>2</th>\n",
       "      <td>9</td>\n",
       "      <td>2</td>\n",
       "      <td>&lt;gurobi.Var flow[3,2] (value 0.0)&gt;</td>\n",
       "      <td>0.0</td>\n",
       "    </tr>\n",
       "    <tr>\n",
       "      <th>2</th>\n",
       "      <th>4</th>\n",
       "      <td>14</td>\n",
       "      <td>3</td>\n",
       "      <td>&lt;gurobi.Var flow[2,4] (value 11.0)&gt;</td>\n",
       "      <td>11.0</td>\n",
       "    </tr>\n",
       "    <tr>\n",
       "      <th>4</th>\n",
       "      <th>3</th>\n",
       "      <td>7</td>\n",
       "      <td>1</td>\n",
       "      <td>&lt;gurobi.Var flow[4,3] (value 7.0)&gt;</td>\n",
       "      <td>7.0</td>\n",
       "    </tr>\n",
       "    <tr>\n",
       "      <th>3</th>\n",
       "      <th>5</th>\n",
       "      <td>20</td>\n",
       "      <td>2</td>\n",
       "      <td>&lt;gurobi.Var flow[3,5] (value 19.0)&gt;</td>\n",
       "      <td>19.0</td>\n",
       "    </tr>\n",
       "    <tr>\n",
       "      <th>4</th>\n",
       "      <th>5</th>\n",
       "      <td>4</td>\n",
       "      <td>1</td>\n",
       "      <td>&lt;gurobi.Var flow[4,5] (value 4.0)&gt;</td>\n",
       "      <td>4.0</td>\n",
       "    </tr>\n",
       "  </tbody>\n",
       "</table>\n",
       "</div>"
      ],
      "text/plain": [
       "         capacity  cost                                 flow  result\n",
       "from to                                                             \n",
       "0    1         16     1  <gurobi.Var flow[0,1] (value 12.0)>    12.0\n",
       "     2         13     2  <gurobi.Var flow[0,2] (value 11.0)>    11.0\n",
       "1    2         10     1   <gurobi.Var flow[1,2] (value 0.0)>     0.0\n",
       "2    1          4     3   <gurobi.Var flow[2,1] (value 0.0)>     0.0\n",
       "1    3         12     1  <gurobi.Var flow[1,3] (value 12.0)>    12.0\n",
       "3    2          9     2   <gurobi.Var flow[3,2] (value 0.0)>     0.0\n",
       "2    4         14     3  <gurobi.Var flow[2,4] (value 11.0)>    11.0\n",
       "4    3          7     1   <gurobi.Var flow[4,3] (value 7.0)>     7.0\n",
       "3    5         20     2  <gurobi.Var flow[3,5] (value 19.0)>    19.0\n",
       "4    5          4     1   <gurobi.Var flow[4,5] (value 4.0)>     4.0"
      ]
     },
     "execution_count": 18,
     "metadata": {},
     "output_type": "execute_result"
    }
   ],
   "source": [
    "model.optimize()\n",
    "arc_df.assign(result=lambda df: df['flow'].gppd.X)"
   ]
  }
 ],
 "metadata": {
  "jupytext": {
   "formats": "ipynb,md:myst"
  },
  "kernelspec": {
   "display_name": "Python 3 (ipykernel)",
   "language": "python",
   "name": "python3"
  },
  "language_info": {
   "codemirror_mode": {
    "name": "ipython",
    "version": 3
   },
   "file_extension": ".py",
   "mimetype": "text/x-python",
   "name": "python",
   "nbconvert_exporter": "python",
   "pygments_lexer": "ipython3",
   "version": "3.11.1"
  }
 },
 "nbformat": 4,
 "nbformat_minor": 5
}
