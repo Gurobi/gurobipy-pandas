{
 "cells": [
  {
   "cell_type": "code",
   "execution_count": 21,
   "id": "d652552a-c0f1-41d8-ad73-ede6ab13c373",
   "metadata": {},
   "outputs": [
    {
     "name": "stdout",
     "output_type": "stream",
     "text": [
      "Requirement already satisfied: gurobipy-pandas in /Users/bowly/virtualenvs/jupyter/lib/python3.12/site-packages (1.1.2)\n",
      "Collecting tabulate\n",
      "  Using cached tabulate-0.9.0-py3-none-any.whl.metadata (34 kB)\n",
      "Requirement already satisfied: gurobipy>=9.1 in /Users/bowly/virtualenvs/jupyter/lib/python3.12/site-packages (from gurobipy-pandas) (11.0.2)\n",
      "Requirement already satisfied: pandas>=1.0 in /Users/bowly/virtualenvs/jupyter/lib/python3.12/site-packages (from gurobipy-pandas) (2.2.2)\n",
      "Requirement already satisfied: numpy>=1.26.0 in /Users/bowly/virtualenvs/jupyter/lib/python3.12/site-packages (from pandas>=1.0->gurobipy-pandas) (2.0.0)\n",
      "Requirement already satisfied: python-dateutil>=2.8.2 in /Users/bowly/virtualenvs/jupyter/lib/python3.12/site-packages (from pandas>=1.0->gurobipy-pandas) (2.9.0.post0)\n",
      "Requirement already satisfied: pytz>=2020.1 in /Users/bowly/virtualenvs/jupyter/lib/python3.12/site-packages (from pandas>=1.0->gurobipy-pandas) (2024.1)\n",
      "Requirement already satisfied: tzdata>=2022.7 in /Users/bowly/virtualenvs/jupyter/lib/python3.12/site-packages (from pandas>=1.0->gurobipy-pandas) (2024.1)\n",
      "Requirement already satisfied: six>=1.5 in /Users/bowly/virtualenvs/jupyter/lib/python3.12/site-packages (from python-dateutil>=2.8.2->pandas>=1.0->gurobipy-pandas) (1.16.0)\n",
      "Using cached tabulate-0.9.0-py3-none-any.whl (35 kB)\n",
      "Installing collected packages: tabulate\n",
      "Successfully installed tabulate-0.9.0\n",
      "\n",
      "\u001b[1m[\u001b[0m\u001b[34;49mnotice\u001b[0m\u001b[1;39;49m]\u001b[0m\u001b[39;49m A new release of pip is available: \u001b[0m\u001b[31;49m24.0\u001b[0m\u001b[39;49m -> \u001b[0m\u001b[32;49m24.1\u001b[0m\n",
      "\u001b[1m[\u001b[0m\u001b[34;49mnotice\u001b[0m\u001b[1;39;49m]\u001b[0m\u001b[39;49m To update, run: \u001b[0m\u001b[32;49mpython3.12 -m pip install --upgrade pip\u001b[0m\n",
      "Note: you may need to restart the kernel to use updated packages.\n"
     ]
    }
   ],
   "source": [
    "pip install gurobipy-pandas tabulate"
   ]
  },
  {
   "cell_type": "code",
   "execution_count": 5,
   "id": "93b76b31-ab30-4774-b021-c60d4aa43567",
   "metadata": {},
   "outputs": [],
   "source": [
    "import gurobipy as gp\n",
    "from gurobipy import GRB\n",
    "import gurobipy_pandas as gppd\n",
    "import pandas as pd\n",
    "\n",
    "gppd.set_interactive()"
   ]
  },
  {
   "cell_type": "code",
   "execution_count": 6,
   "id": "18b825d4-5c42-43b7-8f45-b83d6126a586",
   "metadata": {},
   "outputs": [],
   "source": [
    "env = gp.Env()\n",
    "model = gp.Model(env=env)"
   ]
  },
  {
   "cell_type": "code",
   "execution_count": 48,
   "id": "94873fd4-9e93-4486-b669-ef268b2169a9",
   "metadata": {},
   "outputs": [
    {
     "name": "stdout",
     "output_type": "stream",
     "text": [
      "|    |   price1 |   price2 | x                 | y                 | c1                    |\n",
      "|---:|---------:|---------:|:------------------|:------------------|:----------------------|\n",
      "|  0 |       11 |       21 | <gurobi.Var x[0]> | <gurobi.Var y[0]> | <gurobi.Constr c1[0]> |\n",
      "|  1 |       12 |       22 | <gurobi.Var x[1]> | <gurobi.Var y[1]> | <gurobi.Constr c1[1]> |\n",
      "|  2 |       13 |       23 | <gurobi.Var x[2]> | <gurobi.Var y[2]> | <gurobi.Constr c1[2]> |\n",
      "|  3 |       14 |       24 | <gurobi.Var x[3]> | <gurobi.Var y[3]> | <gurobi.Constr c1[3]> |\n",
      "|  4 |       15 |       25 | <gurobi.Var x[4]> | <gurobi.Var y[4]> | <gurobi.Constr c1[4]> |\n"
     ]
    }
   ],
   "source": [
    "df = (\n",
    "    pd.DataFrame({\n",
    "        \"price1\": [11, 12, 13, 14, 15],\n",
    "        \"price2\": [21, 22, 23, 24, 25],\n",
    "    })\n",
    "    .gppd.add_vars(model, name=\"x\")\n",
    "    .gppd.add_vars(model, name=\"y\")\n",
    "    .gppd.add_constrs(model, \"price1 * x == y\", name=\"c1\")\n",
    ")\n",
    "print(df.to_markdown())"
   ]
  },
  {
   "cell_type": "code",
   "execution_count": 49,
   "id": "4469e8a6-b308-40db-84f2-7a8ae7c2da8a",
   "metadata": {},
   "outputs": [
    {
     "name": "stdout",
     "output_type": "stream",
     "text": [
      "0    11.0 x[0] + -1.0 y[0]\n",
      "1    12.0 x[1] + -1.0 y[1]\n",
      "2    13.0 x[2] + -1.0 y[2]\n",
      "3    14.0 x[3] + -1.0 y[3]\n",
      "4    15.0 x[4] + -1.0 y[4]\n",
      "Name: c1, dtype: object\n"
     ]
    }
   ],
   "source": [
    "print(df[\"c1\"].apply(model.getRow))"
   ]
  },
  {
   "cell_type": "code",
   "execution_count": 50,
   "id": "906e88fe-64e3-4679-8fef-62e98d6662db",
   "metadata": {},
   "outputs": [],
   "source": [
    "for tup in df.itertuples():\n",
    "    model.chgCoeff(tup.c1, tup.x, tup.price2)"
   ]
  },
  {
   "cell_type": "code",
   "execution_count": 51,
   "id": "edfdedd6-5a3d-457e-80bf-9ec8139610d8",
   "metadata": {},
   "outputs": [
    {
     "data": {
      "text/plain": [
       "0    21.0 x[0] + -1.0 y[0]\n",
       "1    22.0 x[1] + -1.0 y[1]\n",
       "2    23.0 x[2] + -1.0 y[2]\n",
       "3    24.0 x[3] + -1.0 y[3]\n",
       "4    25.0 x[4] + -1.0 y[4]\n",
       "Name: c1, dtype: object"
      ]
     },
     "execution_count": 51,
     "metadata": {},
     "output_type": "execute_result"
    }
   ],
   "source": [
    "model.update()\n",
    "df[\"c1\"].apply(model.getRow)"
   ]
  },
  {
   "cell_type": "code",
   "execution_count": 36,
   "id": "d6327acc-1bf3-49b5-9a43-571bf7195b59",
   "metadata": {},
   "outputs": [],
   "source": [
    "for tup in df.itertuples():\n",
    "    model.chgCoeff(tup.c1, tup.y, tup.coeff2)"
   ]
  },
  {
   "cell_type": "code",
   "execution_count": 37,
   "id": "b064890c-8648-420a-8c0a-47aece053745",
   "metadata": {},
   "outputs": [
    {
     "data": {
      "text/plain": [
       "0        21.0 x[0] + y[0]\n",
       "1    22.0 x[1] + 2.0 y[1]\n",
       "2    23.0 x[2] + 3.0 y[2]\n",
       "3    24.0 x[3] + 4.0 y[3]\n",
       "4    25.0 x[4] + 5.0 y[4]\n",
       "Name: c1, dtype: object"
      ]
     },
     "execution_count": 37,
     "metadata": {},
     "output_type": "execute_result"
    }
   ],
   "source": [
    "model.update()\n",
    "df[\"c1\"].apply(model.getRow)"
   ]
  },
  {
   "cell_type": "code",
   "execution_count": 63,
   "id": "d52edf2a-dba5-4811-90ff-e26a1e632684",
   "metadata": {},
   "outputs": [
    {
     "name": "stdout",
     "output_type": "stream",
     "text": [
      "                   v  coeff                     c1\n",
      "0  <gurobi.Var x[0]>    0.1  <gurobi.Constr c1[0]>\n",
      "1  <gurobi.Var x[1]>    0.1  <gurobi.Constr c1[1]>\n",
      "2  <gurobi.Var x[2]>    0.1  <gurobi.Constr c1[2]>\n",
      "3  <gurobi.Var y[3]>    0.1  <gurobi.Constr c1[3]>\n",
      "4  <gurobi.Var y[4]>    0.1  <gurobi.Constr c1[4]>\n"
     ]
    }
   ],
   "source": [
    "df2 = pd.concat([df.loc[:2, \"x\"], df.loc[3:, \"y\"]]).to_frame(name=\"v\").assign(coeff=0.1, c1=df['c1'])\n",
    "print(df2)"
   ]
  },
  {
   "cell_type": "code",
   "execution_count": 64,
   "id": "21bdfb5b-1658-47f2-8eea-9590acdca84b",
   "metadata": {},
   "outputs": [],
   "source": [
    "for tup in df2.itertuples():\n",
    "    model.chgCoeff(tup.c1, tup.v, tup.coeff)\n",
    "model.update()"
   ]
  },
  {
   "cell_type": "code",
   "execution_count": 65,
   "id": "fc9f4ac4-58b2-48bd-9316-e7dd5f3c40f8",
   "metadata": {},
   "outputs": [
    {
     "name": "stdout",
     "output_type": "stream",
     "text": [
      "0    0.1 x[0] + -1.0 y[0]\n",
      "1    0.1 x[1] + -1.0 y[1]\n",
      "2    0.1 x[2] + -1.0 y[2]\n",
      "3    24.0 x[3] + 0.1 y[3]\n",
      "4    25.0 x[4] + 0.1 y[4]\n",
      "Name: c1, dtype: object\n"
     ]
    }
   ],
   "source": [
    "print(df[\"c1\"].apply(model.getRow))"
   ]
  },
  {
   "cell_type": "code",
   "execution_count": null,
   "id": "1bbec2a6-b491-4302-b6e2-ae89517601fd",
   "metadata": {},
   "outputs": [],
   "source": []
  }
 ],
 "metadata": {
  "kernelspec": {
   "display_name": "Python 3 (ipykernel)",
   "language": "python",
   "name": "python3"
  },
  "language_info": {
   "codemirror_mode": {
    "name": "ipython",
    "version": 3
   },
   "file_extension": ".py",
   "mimetype": "text/x-python",
   "name": "python",
   "nbconvert_exporter": "python",
   "pygments_lexer": "ipython3",
   "version": "3.12.3"
  }
 },
 "nbformat": 4,
 "nbformat_minor": 5
}
